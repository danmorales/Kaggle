{
 "cells": [
  {
   "cell_type": "markdown",
   "metadata": {},
   "source": [
    "Importing fundamental libraries"
   ]
  },
  {
   "cell_type": "code",
   "execution_count": 1,
   "metadata": {},
   "outputs": [],
   "source": [
    "import numpy as np\n",
    "import pandas as pd\n",
    "import matplotlib.pyplot as plt\n",
    "import seaborn as sns"
   ]
  },
  {
   "cell_type": "markdown",
   "metadata": {},
   "source": [
    "Reading the dataset"
   ]
  },
  {
   "cell_type": "code",
   "execution_count": 2,
   "metadata": {},
   "outputs": [],
   "source": [
    "dados = pd.read_csv('kidney_disease.csv')"
   ]
  },
  {
   "cell_type": "markdown",
   "metadata": {},
   "source": [
    "Showing the first five lines"
   ]
  },
  {
   "cell_type": "code",
   "execution_count": 3,
   "metadata": {},
   "outputs": [
    {
     "data": {
      "text/html": [
       "<div>\n",
       "<style scoped>\n",
       "    .dataframe tbody tr th:only-of-type {\n",
       "        vertical-align: middle;\n",
       "    }\n",
       "\n",
       "    .dataframe tbody tr th {\n",
       "        vertical-align: top;\n",
       "    }\n",
       "\n",
       "    .dataframe thead th {\n",
       "        text-align: right;\n",
       "    }\n",
       "</style>\n",
       "<table border=\"1\" class=\"dataframe\">\n",
       "  <thead>\n",
       "    <tr style=\"text-align: right;\">\n",
       "      <th></th>\n",
       "      <th>id</th>\n",
       "      <th>age</th>\n",
       "      <th>bp</th>\n",
       "      <th>sg</th>\n",
       "      <th>al</th>\n",
       "      <th>su</th>\n",
       "      <th>rbc</th>\n",
       "      <th>pc</th>\n",
       "      <th>pcc</th>\n",
       "      <th>ba</th>\n",
       "      <th>...</th>\n",
       "      <th>pcv</th>\n",
       "      <th>wc</th>\n",
       "      <th>rc</th>\n",
       "      <th>htn</th>\n",
       "      <th>dm</th>\n",
       "      <th>cad</th>\n",
       "      <th>appet</th>\n",
       "      <th>pe</th>\n",
       "      <th>ane</th>\n",
       "      <th>classification</th>\n",
       "    </tr>\n",
       "  </thead>\n",
       "  <tbody>\n",
       "    <tr>\n",
       "      <th>0</th>\n",
       "      <td>0</td>\n",
       "      <td>48.0</td>\n",
       "      <td>80.0</td>\n",
       "      <td>1.020</td>\n",
       "      <td>1.0</td>\n",
       "      <td>0.0</td>\n",
       "      <td>NaN</td>\n",
       "      <td>normal</td>\n",
       "      <td>notpresent</td>\n",
       "      <td>notpresent</td>\n",
       "      <td>...</td>\n",
       "      <td>44</td>\n",
       "      <td>7800</td>\n",
       "      <td>5.2</td>\n",
       "      <td>yes</td>\n",
       "      <td>yes</td>\n",
       "      <td>no</td>\n",
       "      <td>good</td>\n",
       "      <td>no</td>\n",
       "      <td>no</td>\n",
       "      <td>ckd</td>\n",
       "    </tr>\n",
       "    <tr>\n",
       "      <th>1</th>\n",
       "      <td>1</td>\n",
       "      <td>7.0</td>\n",
       "      <td>50.0</td>\n",
       "      <td>1.020</td>\n",
       "      <td>4.0</td>\n",
       "      <td>0.0</td>\n",
       "      <td>NaN</td>\n",
       "      <td>normal</td>\n",
       "      <td>notpresent</td>\n",
       "      <td>notpresent</td>\n",
       "      <td>...</td>\n",
       "      <td>38</td>\n",
       "      <td>6000</td>\n",
       "      <td>NaN</td>\n",
       "      <td>no</td>\n",
       "      <td>no</td>\n",
       "      <td>no</td>\n",
       "      <td>good</td>\n",
       "      <td>no</td>\n",
       "      <td>no</td>\n",
       "      <td>ckd</td>\n",
       "    </tr>\n",
       "    <tr>\n",
       "      <th>2</th>\n",
       "      <td>2</td>\n",
       "      <td>62.0</td>\n",
       "      <td>80.0</td>\n",
       "      <td>1.010</td>\n",
       "      <td>2.0</td>\n",
       "      <td>3.0</td>\n",
       "      <td>normal</td>\n",
       "      <td>normal</td>\n",
       "      <td>notpresent</td>\n",
       "      <td>notpresent</td>\n",
       "      <td>...</td>\n",
       "      <td>31</td>\n",
       "      <td>7500</td>\n",
       "      <td>NaN</td>\n",
       "      <td>no</td>\n",
       "      <td>yes</td>\n",
       "      <td>no</td>\n",
       "      <td>poor</td>\n",
       "      <td>no</td>\n",
       "      <td>yes</td>\n",
       "      <td>ckd</td>\n",
       "    </tr>\n",
       "    <tr>\n",
       "      <th>3</th>\n",
       "      <td>3</td>\n",
       "      <td>48.0</td>\n",
       "      <td>70.0</td>\n",
       "      <td>1.005</td>\n",
       "      <td>4.0</td>\n",
       "      <td>0.0</td>\n",
       "      <td>normal</td>\n",
       "      <td>abnormal</td>\n",
       "      <td>present</td>\n",
       "      <td>notpresent</td>\n",
       "      <td>...</td>\n",
       "      <td>32</td>\n",
       "      <td>6700</td>\n",
       "      <td>3.9</td>\n",
       "      <td>yes</td>\n",
       "      <td>no</td>\n",
       "      <td>no</td>\n",
       "      <td>poor</td>\n",
       "      <td>yes</td>\n",
       "      <td>yes</td>\n",
       "      <td>ckd</td>\n",
       "    </tr>\n",
       "    <tr>\n",
       "      <th>4</th>\n",
       "      <td>4</td>\n",
       "      <td>51.0</td>\n",
       "      <td>80.0</td>\n",
       "      <td>1.010</td>\n",
       "      <td>2.0</td>\n",
       "      <td>0.0</td>\n",
       "      <td>normal</td>\n",
       "      <td>normal</td>\n",
       "      <td>notpresent</td>\n",
       "      <td>notpresent</td>\n",
       "      <td>...</td>\n",
       "      <td>35</td>\n",
       "      <td>7300</td>\n",
       "      <td>4.6</td>\n",
       "      <td>no</td>\n",
       "      <td>no</td>\n",
       "      <td>no</td>\n",
       "      <td>good</td>\n",
       "      <td>no</td>\n",
       "      <td>no</td>\n",
       "      <td>ckd</td>\n",
       "    </tr>\n",
       "  </tbody>\n",
       "</table>\n",
       "<p>5 rows × 26 columns</p>\n",
       "</div>"
      ],
      "text/plain": [
       "   id   age    bp     sg   al   su     rbc        pc         pcc          ba  \\\n",
       "0   0  48.0  80.0  1.020  1.0  0.0     NaN    normal  notpresent  notpresent   \n",
       "1   1   7.0  50.0  1.020  4.0  0.0     NaN    normal  notpresent  notpresent   \n",
       "2   2  62.0  80.0  1.010  2.0  3.0  normal    normal  notpresent  notpresent   \n",
       "3   3  48.0  70.0  1.005  4.0  0.0  normal  abnormal     present  notpresent   \n",
       "4   4  51.0  80.0  1.010  2.0  0.0  normal    normal  notpresent  notpresent   \n",
       "\n",
       "   ...  pcv    wc   rc  htn   dm  cad appet   pe  ane classification  \n",
       "0  ...   44  7800  5.2  yes  yes   no  good   no   no            ckd  \n",
       "1  ...   38  6000  NaN   no   no   no  good   no   no            ckd  \n",
       "2  ...   31  7500  NaN   no  yes   no  poor   no  yes            ckd  \n",
       "3  ...   32  6700  3.9  yes   no   no  poor  yes  yes            ckd  \n",
       "4  ...   35  7300  4.6   no   no   no  good   no   no            ckd  \n",
       "\n",
       "[5 rows x 26 columns]"
      ]
     },
     "execution_count": 3,
     "metadata": {},
     "output_type": "execute_result"
    }
   ],
   "source": [
    "dados.head()"
   ]
  },
  {
   "cell_type": "markdown",
   "metadata": {},
   "source": [
    "Removing id column"
   ]
  },
  {
   "cell_type": "code",
   "execution_count": 4,
   "metadata": {},
   "outputs": [],
   "source": [
    "dados = dados.drop('id',axis=1)"
   ]
  },
  {
   "cell_type": "code",
   "execution_count": 5,
   "metadata": {},
   "outputs": [
    {
     "data": {
      "text/html": [
       "<div>\n",
       "<style scoped>\n",
       "    .dataframe tbody tr th:only-of-type {\n",
       "        vertical-align: middle;\n",
       "    }\n",
       "\n",
       "    .dataframe tbody tr th {\n",
       "        vertical-align: top;\n",
       "    }\n",
       "\n",
       "    .dataframe thead th {\n",
       "        text-align: right;\n",
       "    }\n",
       "</style>\n",
       "<table border=\"1\" class=\"dataframe\">\n",
       "  <thead>\n",
       "    <tr style=\"text-align: right;\">\n",
       "      <th></th>\n",
       "      <th>age</th>\n",
       "      <th>bp</th>\n",
       "      <th>sg</th>\n",
       "      <th>al</th>\n",
       "      <th>su</th>\n",
       "      <th>rbc</th>\n",
       "      <th>pc</th>\n",
       "      <th>pcc</th>\n",
       "      <th>ba</th>\n",
       "      <th>bgr</th>\n",
       "      <th>...</th>\n",
       "      <th>pcv</th>\n",
       "      <th>wc</th>\n",
       "      <th>rc</th>\n",
       "      <th>htn</th>\n",
       "      <th>dm</th>\n",
       "      <th>cad</th>\n",
       "      <th>appet</th>\n",
       "      <th>pe</th>\n",
       "      <th>ane</th>\n",
       "      <th>classification</th>\n",
       "    </tr>\n",
       "  </thead>\n",
       "  <tbody>\n",
       "    <tr>\n",
       "      <th>0</th>\n",
       "      <td>48.0</td>\n",
       "      <td>80.0</td>\n",
       "      <td>1.020</td>\n",
       "      <td>1.0</td>\n",
       "      <td>0.0</td>\n",
       "      <td>NaN</td>\n",
       "      <td>normal</td>\n",
       "      <td>notpresent</td>\n",
       "      <td>notpresent</td>\n",
       "      <td>121.0</td>\n",
       "      <td>...</td>\n",
       "      <td>44</td>\n",
       "      <td>7800</td>\n",
       "      <td>5.2</td>\n",
       "      <td>yes</td>\n",
       "      <td>yes</td>\n",
       "      <td>no</td>\n",
       "      <td>good</td>\n",
       "      <td>no</td>\n",
       "      <td>no</td>\n",
       "      <td>ckd</td>\n",
       "    </tr>\n",
       "    <tr>\n",
       "      <th>1</th>\n",
       "      <td>7.0</td>\n",
       "      <td>50.0</td>\n",
       "      <td>1.020</td>\n",
       "      <td>4.0</td>\n",
       "      <td>0.0</td>\n",
       "      <td>NaN</td>\n",
       "      <td>normal</td>\n",
       "      <td>notpresent</td>\n",
       "      <td>notpresent</td>\n",
       "      <td>NaN</td>\n",
       "      <td>...</td>\n",
       "      <td>38</td>\n",
       "      <td>6000</td>\n",
       "      <td>NaN</td>\n",
       "      <td>no</td>\n",
       "      <td>no</td>\n",
       "      <td>no</td>\n",
       "      <td>good</td>\n",
       "      <td>no</td>\n",
       "      <td>no</td>\n",
       "      <td>ckd</td>\n",
       "    </tr>\n",
       "    <tr>\n",
       "      <th>2</th>\n",
       "      <td>62.0</td>\n",
       "      <td>80.0</td>\n",
       "      <td>1.010</td>\n",
       "      <td>2.0</td>\n",
       "      <td>3.0</td>\n",
       "      <td>normal</td>\n",
       "      <td>normal</td>\n",
       "      <td>notpresent</td>\n",
       "      <td>notpresent</td>\n",
       "      <td>423.0</td>\n",
       "      <td>...</td>\n",
       "      <td>31</td>\n",
       "      <td>7500</td>\n",
       "      <td>NaN</td>\n",
       "      <td>no</td>\n",
       "      <td>yes</td>\n",
       "      <td>no</td>\n",
       "      <td>poor</td>\n",
       "      <td>no</td>\n",
       "      <td>yes</td>\n",
       "      <td>ckd</td>\n",
       "    </tr>\n",
       "    <tr>\n",
       "      <th>3</th>\n",
       "      <td>48.0</td>\n",
       "      <td>70.0</td>\n",
       "      <td>1.005</td>\n",
       "      <td>4.0</td>\n",
       "      <td>0.0</td>\n",
       "      <td>normal</td>\n",
       "      <td>abnormal</td>\n",
       "      <td>present</td>\n",
       "      <td>notpresent</td>\n",
       "      <td>117.0</td>\n",
       "      <td>...</td>\n",
       "      <td>32</td>\n",
       "      <td>6700</td>\n",
       "      <td>3.9</td>\n",
       "      <td>yes</td>\n",
       "      <td>no</td>\n",
       "      <td>no</td>\n",
       "      <td>poor</td>\n",
       "      <td>yes</td>\n",
       "      <td>yes</td>\n",
       "      <td>ckd</td>\n",
       "    </tr>\n",
       "    <tr>\n",
       "      <th>4</th>\n",
       "      <td>51.0</td>\n",
       "      <td>80.0</td>\n",
       "      <td>1.010</td>\n",
       "      <td>2.0</td>\n",
       "      <td>0.0</td>\n",
       "      <td>normal</td>\n",
       "      <td>normal</td>\n",
       "      <td>notpresent</td>\n",
       "      <td>notpresent</td>\n",
       "      <td>106.0</td>\n",
       "      <td>...</td>\n",
       "      <td>35</td>\n",
       "      <td>7300</td>\n",
       "      <td>4.6</td>\n",
       "      <td>no</td>\n",
       "      <td>no</td>\n",
       "      <td>no</td>\n",
       "      <td>good</td>\n",
       "      <td>no</td>\n",
       "      <td>no</td>\n",
       "      <td>ckd</td>\n",
       "    </tr>\n",
       "  </tbody>\n",
       "</table>\n",
       "<p>5 rows × 25 columns</p>\n",
       "</div>"
      ],
      "text/plain": [
       "    age    bp     sg   al   su     rbc        pc         pcc          ba  \\\n",
       "0  48.0  80.0  1.020  1.0  0.0     NaN    normal  notpresent  notpresent   \n",
       "1   7.0  50.0  1.020  4.0  0.0     NaN    normal  notpresent  notpresent   \n",
       "2  62.0  80.0  1.010  2.0  3.0  normal    normal  notpresent  notpresent   \n",
       "3  48.0  70.0  1.005  4.0  0.0  normal  abnormal     present  notpresent   \n",
       "4  51.0  80.0  1.010  2.0  0.0  normal    normal  notpresent  notpresent   \n",
       "\n",
       "     bgr  ...  pcv    wc   rc  htn   dm cad appet   pe  ane classification  \n",
       "0  121.0  ...   44  7800  5.2  yes  yes  no  good   no   no            ckd  \n",
       "1    NaN  ...   38  6000  NaN   no   no  no  good   no   no            ckd  \n",
       "2  423.0  ...   31  7500  NaN   no  yes  no  poor   no  yes            ckd  \n",
       "3  117.0  ...   32  6700  3.9  yes   no  no  poor  yes  yes            ckd  \n",
       "4  106.0  ...   35  7300  4.6   no   no  no  good   no   no            ckd  \n",
       "\n",
       "[5 rows x 25 columns]"
      ]
     },
     "execution_count": 5,
     "metadata": {},
     "output_type": "execute_result"
    }
   ],
   "source": [
    "dados.head()"
   ]
  },
  {
   "cell_type": "markdown",
   "metadata": {},
   "source": [
    "Showing initial statistcs from the data"
   ]
  },
  {
   "cell_type": "code",
   "execution_count": 6,
   "metadata": {},
   "outputs": [
    {
     "name": "stdout",
     "output_type": "stream",
     "text": [
      "<class 'pandas.core.frame.DataFrame'>\n",
      "RangeIndex: 400 entries, 0 to 399\n",
      "Data columns (total 25 columns):\n",
      " #   Column          Non-Null Count  Dtype  \n",
      "---  ------          --------------  -----  \n",
      " 0   age             391 non-null    float64\n",
      " 1   bp              388 non-null    float64\n",
      " 2   sg              353 non-null    float64\n",
      " 3   al              354 non-null    float64\n",
      " 4   su              351 non-null    float64\n",
      " 5   rbc             248 non-null    object \n",
      " 6   pc              335 non-null    object \n",
      " 7   pcc             396 non-null    object \n",
      " 8   ba              396 non-null    object \n",
      " 9   bgr             356 non-null    float64\n",
      " 10  bu              381 non-null    float64\n",
      " 11  sc              383 non-null    float64\n",
      " 12  sod             313 non-null    float64\n",
      " 13  pot             312 non-null    float64\n",
      " 14  hemo            348 non-null    float64\n",
      " 15  pcv             330 non-null    object \n",
      " 16  wc              295 non-null    object \n",
      " 17  rc              270 non-null    object \n",
      " 18  htn             398 non-null    object \n",
      " 19  dm              398 non-null    object \n",
      " 20  cad             398 non-null    object \n",
      " 21  appet           399 non-null    object \n",
      " 22  pe              399 non-null    object \n",
      " 23  ane             399 non-null    object \n",
      " 24  classification  400 non-null    object \n",
      "dtypes: float64(11), object(14)\n",
      "memory usage: 78.2+ KB\n"
     ]
    }
   ],
   "source": [
    "dados.info()"
   ]
  },
  {
   "cell_type": "markdown",
   "metadata": {},
   "source": [
    "It looks like there are lines with NaNs"
   ]
  },
  {
   "cell_type": "code",
   "execution_count": 7,
   "metadata": {},
   "outputs": [
    {
     "data": {
      "text/plain": [
       "age                 9\n",
       "bp                 12\n",
       "sg                 47\n",
       "al                 46\n",
       "su                 49\n",
       "rbc               152\n",
       "pc                 65\n",
       "pcc                 4\n",
       "ba                  4\n",
       "bgr                44\n",
       "bu                 19\n",
       "sc                 17\n",
       "sod                87\n",
       "pot                88\n",
       "hemo               52\n",
       "pcv                70\n",
       "wc                105\n",
       "rc                130\n",
       "htn                 2\n",
       "dm                  2\n",
       "cad                 2\n",
       "appet               1\n",
       "pe                  1\n",
       "ane                 1\n",
       "classification      0\n",
       "dtype: int64"
      ]
     },
     "execution_count": 7,
     "metadata": {},
     "output_type": "execute_result"
    }
   ],
   "source": [
    "dados.isna().sum()"
   ]
  },
  {
   "cell_type": "markdown",
   "metadata": {},
   "source": [
    "There are several NaNs in the columns rbc, wc, rc for example. I will drop them all since most of them are categorical columns"
   ]
  },
  {
   "cell_type": "code",
   "execution_count": 8,
   "metadata": {},
   "outputs": [],
   "source": [
    "dados = dados.dropna()"
   ]
  },
  {
   "cell_type": "code",
   "execution_count": 9,
   "metadata": {},
   "outputs": [
    {
     "data": {
      "text/plain": [
       "age               0\n",
       "bp                0\n",
       "sg                0\n",
       "al                0\n",
       "su                0\n",
       "rbc               0\n",
       "pc                0\n",
       "pcc               0\n",
       "ba                0\n",
       "bgr               0\n",
       "bu                0\n",
       "sc                0\n",
       "sod               0\n",
       "pot               0\n",
       "hemo              0\n",
       "pcv               0\n",
       "wc                0\n",
       "rc                0\n",
       "htn               0\n",
       "dm                0\n",
       "cad               0\n",
       "appet             0\n",
       "pe                0\n",
       "ane               0\n",
       "classification    0\n",
       "dtype: int64"
      ]
     },
     "execution_count": 9,
     "metadata": {},
     "output_type": "execute_result"
    }
   ],
   "source": [
    "dados.isna().sum()"
   ]
  },
  {
   "cell_type": "code",
   "execution_count": 10,
   "metadata": {},
   "outputs": [
    {
     "data": {
      "text/html": [
       "<div>\n",
       "<style scoped>\n",
       "    .dataframe tbody tr th:only-of-type {\n",
       "        vertical-align: middle;\n",
       "    }\n",
       "\n",
       "    .dataframe tbody tr th {\n",
       "        vertical-align: top;\n",
       "    }\n",
       "\n",
       "    .dataframe thead th {\n",
       "        text-align: right;\n",
       "    }\n",
       "</style>\n",
       "<table border=\"1\" class=\"dataframe\">\n",
       "  <thead>\n",
       "    <tr style=\"text-align: right;\">\n",
       "      <th></th>\n",
       "      <th>age</th>\n",
       "      <th>bp</th>\n",
       "      <th>sg</th>\n",
       "      <th>al</th>\n",
       "      <th>su</th>\n",
       "      <th>rbc</th>\n",
       "      <th>pc</th>\n",
       "      <th>pcc</th>\n",
       "      <th>ba</th>\n",
       "      <th>bgr</th>\n",
       "      <th>...</th>\n",
       "      <th>pcv</th>\n",
       "      <th>wc</th>\n",
       "      <th>rc</th>\n",
       "      <th>htn</th>\n",
       "      <th>dm</th>\n",
       "      <th>cad</th>\n",
       "      <th>appet</th>\n",
       "      <th>pe</th>\n",
       "      <th>ane</th>\n",
       "      <th>classification</th>\n",
       "    </tr>\n",
       "  </thead>\n",
       "  <tbody>\n",
       "    <tr>\n",
       "      <th>3</th>\n",
       "      <td>48.0</td>\n",
       "      <td>70.0</td>\n",
       "      <td>1.005</td>\n",
       "      <td>4.0</td>\n",
       "      <td>0.0</td>\n",
       "      <td>normal</td>\n",
       "      <td>abnormal</td>\n",
       "      <td>present</td>\n",
       "      <td>notpresent</td>\n",
       "      <td>117.0</td>\n",
       "      <td>...</td>\n",
       "      <td>32</td>\n",
       "      <td>6700</td>\n",
       "      <td>3.9</td>\n",
       "      <td>yes</td>\n",
       "      <td>no</td>\n",
       "      <td>no</td>\n",
       "      <td>poor</td>\n",
       "      <td>yes</td>\n",
       "      <td>yes</td>\n",
       "      <td>ckd</td>\n",
       "    </tr>\n",
       "    <tr>\n",
       "      <th>9</th>\n",
       "      <td>53.0</td>\n",
       "      <td>90.0</td>\n",
       "      <td>1.020</td>\n",
       "      <td>2.0</td>\n",
       "      <td>0.0</td>\n",
       "      <td>abnormal</td>\n",
       "      <td>abnormal</td>\n",
       "      <td>present</td>\n",
       "      <td>notpresent</td>\n",
       "      <td>70.0</td>\n",
       "      <td>...</td>\n",
       "      <td>29</td>\n",
       "      <td>12100</td>\n",
       "      <td>3.7</td>\n",
       "      <td>yes</td>\n",
       "      <td>yes</td>\n",
       "      <td>no</td>\n",
       "      <td>poor</td>\n",
       "      <td>no</td>\n",
       "      <td>yes</td>\n",
       "      <td>ckd</td>\n",
       "    </tr>\n",
       "    <tr>\n",
       "      <th>11</th>\n",
       "      <td>63.0</td>\n",
       "      <td>70.0</td>\n",
       "      <td>1.010</td>\n",
       "      <td>3.0</td>\n",
       "      <td>0.0</td>\n",
       "      <td>abnormal</td>\n",
       "      <td>abnormal</td>\n",
       "      <td>present</td>\n",
       "      <td>notpresent</td>\n",
       "      <td>380.0</td>\n",
       "      <td>...</td>\n",
       "      <td>32</td>\n",
       "      <td>4500</td>\n",
       "      <td>3.8</td>\n",
       "      <td>yes</td>\n",
       "      <td>yes</td>\n",
       "      <td>no</td>\n",
       "      <td>poor</td>\n",
       "      <td>yes</td>\n",
       "      <td>no</td>\n",
       "      <td>ckd</td>\n",
       "    </tr>\n",
       "    <tr>\n",
       "      <th>14</th>\n",
       "      <td>68.0</td>\n",
       "      <td>80.0</td>\n",
       "      <td>1.010</td>\n",
       "      <td>3.0</td>\n",
       "      <td>2.0</td>\n",
       "      <td>normal</td>\n",
       "      <td>abnormal</td>\n",
       "      <td>present</td>\n",
       "      <td>present</td>\n",
       "      <td>157.0</td>\n",
       "      <td>...</td>\n",
       "      <td>16</td>\n",
       "      <td>11000</td>\n",
       "      <td>2.6</td>\n",
       "      <td>yes</td>\n",
       "      <td>yes</td>\n",
       "      <td>yes</td>\n",
       "      <td>poor</td>\n",
       "      <td>yes</td>\n",
       "      <td>no</td>\n",
       "      <td>ckd</td>\n",
       "    </tr>\n",
       "    <tr>\n",
       "      <th>20</th>\n",
       "      <td>61.0</td>\n",
       "      <td>80.0</td>\n",
       "      <td>1.015</td>\n",
       "      <td>2.0</td>\n",
       "      <td>0.0</td>\n",
       "      <td>abnormal</td>\n",
       "      <td>abnormal</td>\n",
       "      <td>notpresent</td>\n",
       "      <td>notpresent</td>\n",
       "      <td>173.0</td>\n",
       "      <td>...</td>\n",
       "      <td>24</td>\n",
       "      <td>9200</td>\n",
       "      <td>3.2</td>\n",
       "      <td>yes</td>\n",
       "      <td>yes</td>\n",
       "      <td>yes</td>\n",
       "      <td>poor</td>\n",
       "      <td>yes</td>\n",
       "      <td>yes</td>\n",
       "      <td>ckd</td>\n",
       "    </tr>\n",
       "  </tbody>\n",
       "</table>\n",
       "<p>5 rows × 25 columns</p>\n",
       "</div>"
      ],
      "text/plain": [
       "     age    bp     sg   al   su       rbc        pc         pcc          ba  \\\n",
       "3   48.0  70.0  1.005  4.0  0.0    normal  abnormal     present  notpresent   \n",
       "9   53.0  90.0  1.020  2.0  0.0  abnormal  abnormal     present  notpresent   \n",
       "11  63.0  70.0  1.010  3.0  0.0  abnormal  abnormal     present  notpresent   \n",
       "14  68.0  80.0  1.010  3.0  2.0    normal  abnormal     present     present   \n",
       "20  61.0  80.0  1.015  2.0  0.0  abnormal  abnormal  notpresent  notpresent   \n",
       "\n",
       "      bgr  ...  pcv     wc   rc  htn   dm  cad appet   pe  ane classification  \n",
       "3   117.0  ...   32   6700  3.9  yes   no   no  poor  yes  yes            ckd  \n",
       "9    70.0  ...   29  12100  3.7  yes  yes   no  poor   no  yes            ckd  \n",
       "11  380.0  ...   32   4500  3.8  yes  yes   no  poor  yes   no            ckd  \n",
       "14  157.0  ...   16  11000  2.6  yes  yes  yes  poor  yes   no            ckd  \n",
       "20  173.0  ...   24   9200  3.2  yes  yes  yes  poor  yes  yes            ckd  \n",
       "\n",
       "[5 rows x 25 columns]"
      ]
     },
     "execution_count": 10,
     "metadata": {},
     "output_type": "execute_result"
    }
   ],
   "source": [
    "dados.head()"
   ]
  },
  {
   "cell_type": "code",
   "execution_count": 11,
   "metadata": {},
   "outputs": [],
   "source": [
    "dados = dados.reset_index().drop('index',axis=1)"
   ]
  },
  {
   "cell_type": "markdown",
   "metadata": {},
   "source": [
    "Checking the distribution of each class"
   ]
  },
  {
   "cell_type": "code",
   "execution_count": 12,
   "metadata": {},
   "outputs": [
    {
     "data": {
      "text/plain": [
       "<matplotlib.axes._subplots.AxesSubplot at 0x1a17dc9a90>"
      ]
     },
     "execution_count": 12,
     "metadata": {},
     "output_type": "execute_result"
    },
    {
     "data": {
      "image/png": "[encoded data removed]",
      "text/plain": [
       "<Figure size 432x288 with 1 Axes>"
      ]
     },
     "metadata": {
      "needs_background": "light"
     },
     "output_type": "display_data"
    }
   ],
   "source": [
    "sns.countplot(dados['classification'])"
   ]
  },
  {
   "cell_type": "markdown",
   "metadata": {},
   "source": [
    "Checking how each categorical variable affects the diagnostic"
   ]
  },
  {
   "cell_type": "code",
   "execution_count": 13,
   "metadata": {},
   "outputs": [
    {
     "data": {
      "image/png": "[encoded data removed]",
      "text/plain": [
       "<Figure size 864x504 with 10 Axes>"
      ]
     },
     "metadata": {
      "needs_background": "light"
     },
     "output_type": "display_data"
    }
   ],
   "source": [
    "fig, ax = plt.subplots(2,5,figsize=(12,7))\n",
    "sns.countplot(dados['ane'],ax=ax[0][0],hue=dados['classification'])\n",
    "sns.countplot(dados['pe'],ax=ax[0][1],hue=dados['classification'])\n",
    "sns.countplot(dados['appet'],ax=ax[0][2],hue=dados['classification'])\n",
    "sns.countplot(dados['cad'],ax=ax[0][3],hue=dados['classification'])\n",
    "sns.countplot(dados['dm'],ax=ax[0][4],hue=dados['classification'])\n",
    "sns.countplot(dados['htn'],ax=ax[1][0],hue=dados['classification'])\n",
    "sns.countplot(dados['rbc'],ax=ax[1][1],hue=dados['classification'])\n",
    "sns.countplot(dados['pc'],ax=ax[1][2],hue=dados['classification'])\n",
    "sns.countplot(dados['pcc'],ax=ax[1][3],hue=dados['classification'])\n",
    "sns.countplot(dados['ba'],ax=ax[1][4],hue=dados['classification'])\n",
    "plt.tight_layout()"
   ]
  },
  {
   "cell_type": "markdown",
   "metadata": {},
   "source": [
    "For patients without the disease the categorical variables have a very specific behavior"
   ]
  },
  {
   "cell_type": "code",
   "execution_count": 14,
   "metadata": {},
   "outputs": [],
   "source": [
    "dados['pcv'] = dados['pcv'].astype(int)\n",
    "dados['wc'] = dados['wc'].astype(int)\n",
    "dados['rc'] = dados['rc'].astype(float)"
   ]
  },
  {
   "cell_type": "markdown",
   "metadata": {},
   "source": [
    "Checking the distributions of the continuous variables"
   ]
  },
  {
   "cell_type": "code",
   "execution_count": 15,
   "metadata": {},
   "outputs": [
    {
     "data": {
      "image/png": "[encoded data removed]",
      "text/plain": [
       "<Figure size 864x504 with 12 Axes>"
      ]
     },
     "metadata": {
      "needs_background": "light"
     },
     "output_type": "display_data"
    }
   ],
   "source": [
    "fig, ax = plt.subplots(4,3,figsize=(12,7))\n",
    "ax[0][0].hist(dados['bgr'])\n",
    "ax[0][0].set_title('bgr')\n",
    "ax[0][1].hist(dados['bu'])\n",
    "ax[0][1].set_title('bu')\n",
    "ax[0][2].hist(dados['sc'])\n",
    "ax[0][2].set_title('sc')\n",
    "\n",
    "ax[1][0].hist(dados['sod'])\n",
    "ax[1][0].set_title('sod')\n",
    "ax[1][1].hist(dados['pot'])\n",
    "ax[1][1].set_title('pot')\n",
    "ax[1][2].hist(dados['hemo'])\n",
    "ax[1][2].set_title('hemo')\n",
    "\n",
    "ax[2][0].hist(dados['pcv'])\n",
    "ax[2][0].set_title('pcv')\n",
    "ax[2][1].hist(dados['wc'])\n",
    "ax[2][1].set_title('wc')\n",
    "ax[2][2].hist(dados['rc'])\n",
    "ax[2][2].set_title('rc')\n",
    "\n",
    "ax[3][0].hist(dados['age'])\n",
    "ax[3][0].set_title('age')\n",
    "ax[3][1].hist(dados['sg'])\n",
    "ax[3][1].set_title('sg')\n",
    "ax[3][2].hist(dados['bp'])\n",
    "ax[3][2].set_title('bp')\n",
    "plt.tight_layout()"
   ]
  },
  {
   "cell_type": "markdown",
   "metadata": {},
   "source": [
    "These distributions tell us that all of these continuous variables must be normalized in order to get the maximum accuracies"
   ]
  },
  {
   "cell_type": "code",
   "execution_count": 16,
   "metadata": {},
   "outputs": [],
   "source": [
    "colunas_normalizar = ['bgr','bu','sc','sod','pot','hemo','pcv','wc','rc','age','bp']"
   ]
  },
  {
   "cell_type": "markdown",
   "metadata": {},
   "source": [
    "Continuous features will be normalized with MinMaxScaler"
   ]
  },
  {
   "cell_type": "code",
   "execution_count": 17,
   "metadata": {},
   "outputs": [],
   "source": [
    "from sklearn.preprocessing import MinMaxScaler"
   ]
  },
  {
   "cell_type": "code",
   "execution_count": 18,
   "metadata": {},
   "outputs": [],
   "source": [
    "for col in colunas_normalizar:\n",
    "    scaler = MinMaxScaler(feature_range=(0,1))\n",
    "    dados[col] = scaler.fit_transform(dados[col].values.reshape(-1,1))"
   ]
  },
  {
   "cell_type": "code",
   "execution_count": 19,
   "metadata": {},
   "outputs": [
    {
     "data": {
      "text/html": [
       "<div>\n",
       "<style scoped>\n",
       "    .dataframe tbody tr th:only-of-type {\n",
       "        vertical-align: middle;\n",
       "    }\n",
       "\n",
       "    .dataframe tbody tr th {\n",
       "        vertical-align: top;\n",
       "    }\n",
       "\n",
       "    .dataframe thead th {\n",
       "        text-align: right;\n",
       "    }\n",
       "</style>\n",
       "<table border=\"1\" class=\"dataframe\">\n",
       "  <thead>\n",
       "    <tr style=\"text-align: right;\">\n",
       "      <th></th>\n",
       "      <th>age</th>\n",
       "      <th>bp</th>\n",
       "      <th>sg</th>\n",
       "      <th>al</th>\n",
       "      <th>su</th>\n",
       "      <th>rbc</th>\n",
       "      <th>pc</th>\n",
       "      <th>pcc</th>\n",
       "      <th>ba</th>\n",
       "      <th>bgr</th>\n",
       "      <th>...</th>\n",
       "      <th>pcv</th>\n",
       "      <th>wc</th>\n",
       "      <th>rc</th>\n",
       "      <th>htn</th>\n",
       "      <th>dm</th>\n",
       "      <th>cad</th>\n",
       "      <th>appet</th>\n",
       "      <th>pe</th>\n",
       "      <th>ane</th>\n",
       "      <th>classification</th>\n",
       "    </tr>\n",
       "  </thead>\n",
       "  <tbody>\n",
       "    <tr>\n",
       "      <th>0</th>\n",
       "      <td>0.545455</td>\n",
       "      <td>0.333333</td>\n",
       "      <td>1.005</td>\n",
       "      <td>4.0</td>\n",
       "      <td>0.0</td>\n",
       "      <td>normal</td>\n",
       "      <td>abnormal</td>\n",
       "      <td>present</td>\n",
       "      <td>notpresent</td>\n",
       "      <td>0.111905</td>\n",
       "      <td>...</td>\n",
       "      <td>0.511111</td>\n",
       "      <td>0.128319</td>\n",
       "      <td>0.305085</td>\n",
       "      <td>yes</td>\n",
       "      <td>no</td>\n",
       "      <td>no</td>\n",
       "      <td>poor</td>\n",
       "      <td>yes</td>\n",
       "      <td>yes</td>\n",
       "      <td>ckd</td>\n",
       "    </tr>\n",
       "    <tr>\n",
       "      <th>1</th>\n",
       "      <td>0.610390</td>\n",
       "      <td>0.666667</td>\n",
       "      <td>1.020</td>\n",
       "      <td>2.0</td>\n",
       "      <td>0.0</td>\n",
       "      <td>abnormal</td>\n",
       "      <td>abnormal</td>\n",
       "      <td>present</td>\n",
       "      <td>notpresent</td>\n",
       "      <td>0.000000</td>\n",
       "      <td>...</td>\n",
       "      <td>0.444444</td>\n",
       "      <td>0.367257</td>\n",
       "      <td>0.271186</td>\n",
       "      <td>yes</td>\n",
       "      <td>yes</td>\n",
       "      <td>no</td>\n",
       "      <td>poor</td>\n",
       "      <td>no</td>\n",
       "      <td>yes</td>\n",
       "      <td>ckd</td>\n",
       "    </tr>\n",
       "    <tr>\n",
       "      <th>2</th>\n",
       "      <td>0.740260</td>\n",
       "      <td>0.333333</td>\n",
       "      <td>1.010</td>\n",
       "      <td>3.0</td>\n",
       "      <td>0.0</td>\n",
       "      <td>abnormal</td>\n",
       "      <td>abnormal</td>\n",
       "      <td>present</td>\n",
       "      <td>notpresent</td>\n",
       "      <td>0.738095</td>\n",
       "      <td>...</td>\n",
       "      <td>0.511111</td>\n",
       "      <td>0.030973</td>\n",
       "      <td>0.288136</td>\n",
       "      <td>yes</td>\n",
       "      <td>yes</td>\n",
       "      <td>no</td>\n",
       "      <td>poor</td>\n",
       "      <td>yes</td>\n",
       "      <td>no</td>\n",
       "      <td>ckd</td>\n",
       "    </tr>\n",
       "    <tr>\n",
       "      <th>3</th>\n",
       "      <td>0.805195</td>\n",
       "      <td>0.500000</td>\n",
       "      <td>1.010</td>\n",
       "      <td>3.0</td>\n",
       "      <td>2.0</td>\n",
       "      <td>normal</td>\n",
       "      <td>abnormal</td>\n",
       "      <td>present</td>\n",
       "      <td>present</td>\n",
       "      <td>0.207143</td>\n",
       "      <td>...</td>\n",
       "      <td>0.155556</td>\n",
       "      <td>0.318584</td>\n",
       "      <td>0.084746</td>\n",
       "      <td>yes</td>\n",
       "      <td>yes</td>\n",
       "      <td>yes</td>\n",
       "      <td>poor</td>\n",
       "      <td>yes</td>\n",
       "      <td>no</td>\n",
       "      <td>ckd</td>\n",
       "    </tr>\n",
       "    <tr>\n",
       "      <th>4</th>\n",
       "      <td>0.714286</td>\n",
       "      <td>0.500000</td>\n",
       "      <td>1.015</td>\n",
       "      <td>2.0</td>\n",
       "      <td>0.0</td>\n",
       "      <td>abnormal</td>\n",
       "      <td>abnormal</td>\n",
       "      <td>notpresent</td>\n",
       "      <td>notpresent</td>\n",
       "      <td>0.245238</td>\n",
       "      <td>...</td>\n",
       "      <td>0.333333</td>\n",
       "      <td>0.238938</td>\n",
       "      <td>0.186441</td>\n",
       "      <td>yes</td>\n",
       "      <td>yes</td>\n",
       "      <td>yes</td>\n",
       "      <td>poor</td>\n",
       "      <td>yes</td>\n",
       "      <td>yes</td>\n",
       "      <td>ckd</td>\n",
       "    </tr>\n",
       "  </tbody>\n",
       "</table>\n",
       "<p>5 rows × 25 columns</p>\n",
       "</div>"
      ],
      "text/plain": [
       "        age        bp     sg   al   su       rbc        pc         pcc  \\\n",
       "0  0.545455  0.333333  1.005  4.0  0.0    normal  abnormal     present   \n",
       "1  0.610390  0.666667  1.020  2.0  0.0  abnormal  abnormal     present   \n",
       "2  0.740260  0.333333  1.010  3.0  0.0  abnormal  abnormal     present   \n",
       "3  0.805195  0.500000  1.010  3.0  2.0    normal  abnormal     present   \n",
       "4  0.714286  0.500000  1.015  2.0  0.0  abnormal  abnormal  notpresent   \n",
       "\n",
       "           ba       bgr  ...       pcv        wc        rc  htn   dm  cad  \\\n",
       "0  notpresent  0.111905  ...  0.511111  0.128319  0.305085  yes   no   no   \n",
       "1  notpresent  0.000000  ...  0.444444  0.367257  0.271186  yes  yes   no   \n",
       "2  notpresent  0.738095  ...  0.511111  0.030973  0.288136  yes  yes   no   \n",
       "3     present  0.207143  ...  0.155556  0.318584  0.084746  yes  yes  yes   \n",
       "4  notpresent  0.245238  ...  0.333333  0.238938  0.186441  yes  yes  yes   \n",
       "\n",
       "   appet   pe  ane classification  \n",
       "0   poor  yes  yes            ckd  \n",
       "1   poor   no  yes            ckd  \n",
       "2   poor  yes   no            ckd  \n",
       "3   poor  yes   no            ckd  \n",
       "4   poor  yes  yes            ckd  \n",
       "\n",
       "[5 rows x 25 columns]"
      ]
     },
     "execution_count": 19,
     "metadata": {},
     "output_type": "execute_result"
    }
   ],
   "source": [
    "dados.head()"
   ]
  },
  {
   "cell_type": "markdown",
   "metadata": {},
   "source": [
    "Categorical features will be converted to numerical values using OneHot Enconder"
   ]
  },
  {
   "cell_type": "code",
   "execution_count": 20,
   "metadata": {},
   "outputs": [],
   "source": [
    "colunas_onehot = ['rbc','pc','ba','pcc','pe','appet','cad','dm','htn','ane']"
   ]
  },
  {
   "cell_type": "code",
   "execution_count": 21,
   "metadata": {},
   "outputs": [],
   "source": [
    "from sklearn.preprocessing import OneHotEncoder, LabelEncoder"
   ]
  },
  {
   "cell_type": "code",
   "execution_count": 22,
   "metadata": {},
   "outputs": [],
   "source": [
    "for col in colunas_onehot:\n",
    "    enc = OneHotEncoder()\n",
    "    dados[col] = enc.fit_transform(dados[col].values.reshape(-1,1)).toarray()"
   ]
  },
  {
   "cell_type": "markdown",
   "metadata": {},
   "source": [
    "The output feature (classification) will be converted to numerical using Label Enconder"
   ]
  },
  {
   "cell_type": "code",
   "execution_count": 23,
   "metadata": {},
   "outputs": [],
   "source": [
    "enc = LabelEncoder()\n",
    "dados['classification'] = enc.fit_transform(dados['classification'])"
   ]
  },
  {
   "cell_type": "code",
   "execution_count": 24,
   "metadata": {},
   "outputs": [
    {
     "data": {
      "text/html": [
       "<div>\n",
       "<style scoped>\n",
       "    .dataframe tbody tr th:only-of-type {\n",
       "        vertical-align: middle;\n",
       "    }\n",
       "\n",
       "    .dataframe tbody tr th {\n",
       "        vertical-align: top;\n",
       "    }\n",
       "\n",
       "    .dataframe thead th {\n",
       "        text-align: right;\n",
       "    }\n",
       "</style>\n",
       "<table border=\"1\" class=\"dataframe\">\n",
       "  <thead>\n",
       "    <tr style=\"text-align: right;\">\n",
       "      <th></th>\n",
       "      <th>age</th>\n",
       "      <th>bp</th>\n",
       "      <th>sg</th>\n",
       "      <th>al</th>\n",
       "      <th>su</th>\n",
       "      <th>rbc</th>\n",
       "      <th>pc</th>\n",
       "      <th>pcc</th>\n",
       "      <th>ba</th>\n",
       "      <th>bgr</th>\n",
       "      <th>...</th>\n",
       "      <th>pcv</th>\n",
       "      <th>wc</th>\n",
       "      <th>rc</th>\n",
       "      <th>htn</th>\n",
       "      <th>dm</th>\n",
       "      <th>cad</th>\n",
       "      <th>appet</th>\n",
       "      <th>pe</th>\n",
       "      <th>ane</th>\n",
       "      <th>classification</th>\n",
       "    </tr>\n",
       "  </thead>\n",
       "  <tbody>\n",
       "    <tr>\n",
       "      <th>0</th>\n",
       "      <td>0.545455</td>\n",
       "      <td>0.333333</td>\n",
       "      <td>1.005</td>\n",
       "      <td>4.0</td>\n",
       "      <td>0.0</td>\n",
       "      <td>0.0</td>\n",
       "      <td>1.0</td>\n",
       "      <td>0.0</td>\n",
       "      <td>1.0</td>\n",
       "      <td>0.111905</td>\n",
       "      <td>...</td>\n",
       "      <td>0.511111</td>\n",
       "      <td>0.128319</td>\n",
       "      <td>0.305085</td>\n",
       "      <td>0.0</td>\n",
       "      <td>1.0</td>\n",
       "      <td>1.0</td>\n",
       "      <td>0.0</td>\n",
       "      <td>0.0</td>\n",
       "      <td>0.0</td>\n",
       "      <td>0</td>\n",
       "    </tr>\n",
       "    <tr>\n",
       "      <th>1</th>\n",
       "      <td>0.610390</td>\n",
       "      <td>0.666667</td>\n",
       "      <td>1.020</td>\n",
       "      <td>2.0</td>\n",
       "      <td>0.0</td>\n",
       "      <td>1.0</td>\n",
       "      <td>1.0</td>\n",
       "      <td>0.0</td>\n",
       "      <td>1.0</td>\n",
       "      <td>0.000000</td>\n",
       "      <td>...</td>\n",
       "      <td>0.444444</td>\n",
       "      <td>0.367257</td>\n",
       "      <td>0.271186</td>\n",
       "      <td>0.0</td>\n",
       "      <td>0.0</td>\n",
       "      <td>1.0</td>\n",
       "      <td>0.0</td>\n",
       "      <td>1.0</td>\n",
       "      <td>0.0</td>\n",
       "      <td>0</td>\n",
       "    </tr>\n",
       "    <tr>\n",
       "      <th>2</th>\n",
       "      <td>0.740260</td>\n",
       "      <td>0.333333</td>\n",
       "      <td>1.010</td>\n",
       "      <td>3.0</td>\n",
       "      <td>0.0</td>\n",
       "      <td>1.0</td>\n",
       "      <td>1.0</td>\n",
       "      <td>0.0</td>\n",
       "      <td>1.0</td>\n",
       "      <td>0.738095</td>\n",
       "      <td>...</td>\n",
       "      <td>0.511111</td>\n",
       "      <td>0.030973</td>\n",
       "      <td>0.288136</td>\n",
       "      <td>0.0</td>\n",
       "      <td>0.0</td>\n",
       "      <td>1.0</td>\n",
       "      <td>0.0</td>\n",
       "      <td>0.0</td>\n",
       "      <td>1.0</td>\n",
       "      <td>0</td>\n",
       "    </tr>\n",
       "    <tr>\n",
       "      <th>3</th>\n",
       "      <td>0.805195</td>\n",
       "      <td>0.500000</td>\n",
       "      <td>1.010</td>\n",
       "      <td>3.0</td>\n",
       "      <td>2.0</td>\n",
       "      <td>0.0</td>\n",
       "      <td>1.0</td>\n",
       "      <td>0.0</td>\n",
       "      <td>0.0</td>\n",
       "      <td>0.207143</td>\n",
       "      <td>...</td>\n",
       "      <td>0.155556</td>\n",
       "      <td>0.318584</td>\n",
       "      <td>0.084746</td>\n",
       "      <td>0.0</td>\n",
       "      <td>0.0</td>\n",
       "      <td>0.0</td>\n",
       "      <td>0.0</td>\n",
       "      <td>0.0</td>\n",
       "      <td>1.0</td>\n",
       "      <td>0</td>\n",
       "    </tr>\n",
       "    <tr>\n",
       "      <th>4</th>\n",
       "      <td>0.714286</td>\n",
       "      <td>0.500000</td>\n",
       "      <td>1.015</td>\n",
       "      <td>2.0</td>\n",
       "      <td>0.0</td>\n",
       "      <td>1.0</td>\n",
       "      <td>1.0</td>\n",
       "      <td>1.0</td>\n",
       "      <td>1.0</td>\n",
       "      <td>0.245238</td>\n",
       "      <td>...</td>\n",
       "      <td>0.333333</td>\n",
       "      <td>0.238938</td>\n",
       "      <td>0.186441</td>\n",
       "      <td>0.0</td>\n",
       "      <td>0.0</td>\n",
       "      <td>0.0</td>\n",
       "      <td>0.0</td>\n",
       "      <td>0.0</td>\n",
       "      <td>0.0</td>\n",
       "      <td>0</td>\n",
       "    </tr>\n",
       "  </tbody>\n",
       "</table>\n",
       "<p>5 rows × 25 columns</p>\n",
       "</div>"
      ],
      "text/plain": [
       "        age        bp     sg   al   su  rbc   pc  pcc   ba       bgr  ...  \\\n",
       "0  0.545455  0.333333  1.005  4.0  0.0  0.0  1.0  0.0  1.0  0.111905  ...   \n",
       "1  0.610390  0.666667  1.020  2.0  0.0  1.0  1.0  0.0  1.0  0.000000  ...   \n",
       "2  0.740260  0.333333  1.010  3.0  0.0  1.0  1.0  0.0  1.0  0.738095  ...   \n",
       "3  0.805195  0.500000  1.010  3.0  2.0  0.0  1.0  0.0  0.0  0.207143  ...   \n",
       "4  0.714286  0.500000  1.015  2.0  0.0  1.0  1.0  1.0  1.0  0.245238  ...   \n",
       "\n",
       "        pcv        wc        rc  htn   dm  cad  appet   pe  ane  \\\n",
       "0  0.511111  0.128319  0.305085  0.0  1.0  1.0    0.0  0.0  0.0   \n",
       "1  0.444444  0.367257  0.271186  0.0  0.0  1.0    0.0  1.0  0.0   \n",
       "2  0.511111  0.030973  0.288136  0.0  0.0  1.0    0.0  0.0  1.0   \n",
       "3  0.155556  0.318584  0.084746  0.0  0.0  0.0    0.0  0.0  1.0   \n",
       "4  0.333333  0.238938  0.186441  0.0  0.0  0.0    0.0  0.0  0.0   \n",
       "\n",
       "   classification  \n",
       "0               0  \n",
       "1               0  \n",
       "2               0  \n",
       "3               0  \n",
       "4               0  \n",
       "\n",
       "[5 rows x 25 columns]"
      ]
     },
     "execution_count": 24,
     "metadata": {},
     "output_type": "execute_result"
    }
   ],
   "source": [
    "dados.head()"
   ]
  },
  {
   "cell_type": "markdown",
   "metadata": {},
   "source": [
    "Checking the correlation of each variable"
   ]
  },
  {
   "cell_type": "code",
   "execution_count": 25,
   "metadata": {},
   "outputs": [],
   "source": [
    "corr = dados.corr()"
   ]
  },
  {
   "cell_type": "code",
   "execution_count": 26,
   "metadata": {},
   "outputs": [
    {
     "data": {
      "image/png": "[encoded data removed]",
      "text/plain": [
       "<Figure size 720x576 with 2 Axes>"
      ]
     },
     "metadata": {
      "needs_background": "light"
     },
     "output_type": "display_data"
    }
   ],
   "source": [
    "fig,ax = plt.subplots(figsize=(10,8))\n",
    "sns.heatmap(corr,ax=ax)\n",
    "plt.tight_layout()"
   ]
  },
  {
   "cell_type": "markdown",
   "metadata": {},
   "source": [
    "Features with strong correlation have a negative correlation"
   ]
  },
  {
   "cell_type": "code",
   "execution_count": 27,
   "metadata": {},
   "outputs": [],
   "source": [
    "from sklearn.model_selection import train_test_split, cross_val_score,KFold,StratifiedKFold, GridSearchCV\n",
    "from sklearn.metrics import confusion_matrix,accuracy_score,f1_score,average_precision_score,recall_score,roc_auc_score"
   ]
  },
  {
   "cell_type": "markdown",
   "metadata": {},
   "source": [
    "Defining the X and Y variables"
   ]
  },
  {
   "cell_type": "code",
   "execution_count": 28,
   "metadata": {},
   "outputs": [],
   "source": [
    "colunas_X = dados.columns.drop('classification')"
   ]
  },
  {
   "cell_type": "code",
   "execution_count": 30,
   "metadata": {},
   "outputs": [],
   "source": [
    "X = dados.drop('classification',axis=1).values\n",
    "Y = dados['classification'].values"
   ]
  },
  {
   "cell_type": "markdown",
   "metadata": {},
   "source": [
    "Spliting into train and test samples using 30% for test size"
   ]
  },
  {
   "cell_type": "code",
   "execution_count": 31,
   "metadata": {},
   "outputs": [],
   "source": [
    "X_train, X_test, y_train, y_test = train_test_split(X, Y, test_size=0.30,random_state=42,stratify=Y)"
   ]
  },
  {
   "cell_type": "code",
   "execution_count": 32,
   "metadata": {},
   "outputs": [],
   "source": [
    "accuracy = []\n",
    "precision =[]\n",
    "recall = []\n",
    "f1 = []\n",
    "roc = []"
   ]
  },
  {
   "cell_type": "code",
   "execution_count": 33,
   "metadata": {},
   "outputs": [],
   "source": [
    "from sklearn.linear_model import LogisticRegression\n",
    "from sklearn.neighbors import KNeighborsClassifier\n",
    "from sklearn.ensemble import RandomForestClassifier, AdaBoostClassifier, GradientBoostingClassifier"
   ]
  },
  {
   "cell_type": "markdown",
   "metadata": {},
   "source": [
    "In order to find the best solution for each model, GridSearchCV will be used with a cross-validation of 10 samples"
   ]
  },
  {
   "cell_type": "code",
   "execution_count": 34,
   "metadata": {},
   "outputs": [
    {
     "name": "stdout",
     "output_type": "stream",
     "text": [
      "Logistic Regression\n",
      "Best Estimator\n",
      "LogisticRegression(C=1, class_weight=None, dual=False, fit_intercept=True,\n",
      "                   intercept_scaling=1, l1_ratio=None, max_iter=10000,\n",
      "                   multi_class='auto', n_jobs=None, penalty='l1',\n",
      "                   random_state=None, solver='liblinear', tol=0.0001, verbose=0,\n",
      "                   warm_start=False)\n",
      "Score Regressao Logistica Treino:  100.0%\n",
      "Score Regressao Logistica Teste:  100.0%\n"
     ]
    }
   ],
   "source": [
    "print(\"Logistic Regression\")\n",
    "log_reg_params = {\"penalty\": ['None','l1', 'l2','elasticnet'], 'C': [1, 10, 100], \n",
    "                  'solver' : ['newton-cg', 'lbfgs', 'liblinear', 'sag', 'saga']}\n",
    "grid_log_reg = GridSearchCV(LogisticRegression(max_iter=10000), log_reg_params,n_jobs=8,cv=10,scoring='roc_auc_ovo')\n",
    "grid_log_reg.fit(X_train, y_train)\n",
    "logreg = grid_log_reg.best_estimator_\n",
    "log_reg_score = cross_val_score(logreg, X_train, y_train, cv=10,scoring='roc_auc_ovo')\n",
    "log_reg_score_teste = cross_val_score(logreg, X_test, y_test, cv=10,scoring='roc_auc_ovo')\n",
    "print(\"Best Estimator\")\n",
    "print(logreg)\n",
    "print('Score Regressao Logistica Train: ', round(log_reg_score.mean() * 100, 2).astype(str) + '%')\n",
    "print('Score Regressao Logistica Test: ', round(log_reg_score_teste.mean() * 100, 2).astype(str) + '%')"
   ]
  },
  {
   "cell_type": "code",
   "execution_count": 35,
   "metadata": {},
   "outputs": [
    {
     "data": {
      "text/plain": [
       "LogisticRegression(C=1, class_weight=None, dual=False, fit_intercept=True,\n",
       "                   intercept_scaling=1, l1_ratio=None, max_iter=10000,\n",
       "                   multi_class='auto', n_jobs=None, penalty='l1',\n",
       "                   random_state=None, solver='liblinear', tol=0.0001, verbose=0,\n",
       "                   warm_start=False)"
      ]
     },
     "execution_count": 35,
     "metadata": {},
     "output_type": "execute_result"
    }
   ],
   "source": [
    "logreg.fit(X_train,y_train)"
   ]
  },
  {
   "cell_type": "code",
   "execution_count": 36,
   "metadata": {},
   "outputs": [],
   "source": [
    "Y_pred_logreg = logreg.predict(X_test)"
   ]
  },
  {
   "cell_type": "code",
   "execution_count": 37,
   "metadata": {},
   "outputs": [],
   "source": [
    "cm_logreg = confusion_matrix(y_test,Y_pred_logreg)"
   ]
  },
  {
   "cell_type": "code",
   "execution_count": 94,
   "metadata": {},
   "outputs": [
    {
     "name": "stdout",
     "output_type": "stream",
     "text": [
      "Accuracy Logistic Regression  97.92%\n",
      "Precision Logistic Regression  97.22%\n",
      "F1 Logistic Regression  98.59%\n",
      "Recall Logistic Regression  100.0%\n",
      "ROC Logistic Regression  96.15%\n"
     ]
    }
   ],
   "source": [
    "acc_score_logreg = accuracy_score(y_test,Y_pred_logreg)\n",
    "f1_score_logreg = f1_score(y_test,Y_pred_logreg)\n",
    "precisao_logreg = average_precision_score(y_test,Y_pred_logreg)\n",
    "recall_logreg = recall_score(y_test,Y_pred_logreg)\n",
    "roc_logreg = roc_auc_score(y_test,Y_pred_logreg,multi_class='ovo')\n",
    "print('Accuracy Logistic Regression ',round(acc_score_logreg*100,2).astype(str)+'%')\n",
    "print('Precision Logistic Regression ',round(precisao_logreg*100,2).astype(str)+'%')\n",
    "print('F1 Logistic Regression ',round(f1_score_logreg*100,2).astype(str)+'%')\n",
    "print('Recall Logistic Regression ',round(recall_logreg*100,2).astype(str)+'%')\n",
    "print('ROC Logistic Regression ',round(roc_logreg*100,2).astype(str)+'%')"
   ]
  },
  {
   "cell_type": "code",
   "execution_count": 39,
   "metadata": {},
   "outputs": [],
   "source": [
    "accuracy.append(acc_score_logreg)\n",
    "precision.append(precisao_logreg)\n",
    "recall.append(recall_logreg)\n",
    "f1.append(f1_score_logreg)\n",
    "roc.append(roc_logreg)"
   ]
  },
  {
   "cell_type": "code",
   "execution_count": 95,
   "metadata": {},
   "outputs": [
    {
     "data": {
      "text/plain": [
       "[Text(0, 0.5, 'ckd'), Text(0, 1.5, 'notckd')]"
      ]
     },
     "execution_count": 95,
     "metadata": {},
     "output_type": "execute_result"
    },
    {
     "data": {
      "image/png": "[encoded data removed]",
      "text/plain": [
       "<Figure size 720x432 with 2 Axes>"
      ]
     },
     "metadata": {
      "needs_background": "light"
     },
     "output_type": "display_data"
    }
   ],
   "source": [
    "fig, ax = plt.subplots(figsize=(10,6))\n",
    "sns.heatmap(cm_logreg, ax=ax, annot=True, cmap=plt.cm.copper)\n",
    "ax.set_title(\"Logistic Regression \\n Confusion Matrix\", fontsize=14)\n",
    "ax.set_xticklabels(['ckd', 'notckd'], fontsize=14, rotation=0)\n",
    "ax.set_yticklabels(['ckd', 'notckd'], fontsize=14, rotation=360)"
   ]
  },
  {
   "cell_type": "markdown",
   "metadata": {},
   "source": [
    "Logistic regression has only made one mistake with demonstrate that it is an excellent model for predicting kidney disease"
   ]
  },
  {
   "cell_type": "code",
   "execution_count": 41,
   "metadata": {},
   "outputs": [
    {
     "data": {
      "image/png": "[encoded data removed]",
      "text/plain": [
       "<Figure size 432x288 with 1 Axes>"
      ]
     },
     "metadata": {
      "needs_background": "light"
     },
     "output_type": "display_data"
    }
   ],
   "source": [
    "importance_logreg = logreg.coef_[0]\n",
    "feature_series_logreg = pd.Series(data=importance_logreg,index=colunas_X)\n",
    "feature_series_logreg.plot.bar()\n",
    "plt.title('Feature Importance Logistic Regression')\n",
    "plt.xlabel('Features')\n",
    "plt.ylabel('Importance')\n",
    "plt.tight_layout()"
   ]
  },
  {
   "cell_type": "markdown",
   "metadata": {},
   "source": [
    "The feature importance plot shows that only the columns al, htn, dm and appet are important for the problem"
   ]
  },
  {
   "cell_type": "code",
   "execution_count": 42,
   "metadata": {},
   "outputs": [
    {
     "name": "stdout",
     "output_type": "stream",
     "text": [
      "KNN\n",
      "Best Estimator\n",
      "KNeighborsClassifier(algorithm='auto', leaf_size=3, metric='minkowski',\n",
      "                     metric_params=None, n_jobs=None, n_neighbors=19, p=2,\n",
      "                     weights='uniform')\n",
      "Score KNN Treino:  100.0%\n",
      "Score KNN Teste:  95.0%\n"
     ]
    }
   ],
   "source": [
    "print(\"KNN\")\n",
    "knears_params = {\"n_neighbors\": list(range(5,30,1)),'leaf_size' : list(range(3,11,1)), 'weights': ['uniform', 'distance']}\n",
    "grid_knears = GridSearchCV(KNeighborsClassifier(), knears_params,n_jobs=8,cv=10,scoring='roc_auc_ovo')\n",
    "grid_knears.fit(X_train, y_train)\n",
    "knn = grid_knears.best_estimator_\n",
    "knears_score = cross_val_score(knn, X_train, y_train, cv=10,scoring='roc_auc_ovo')\n",
    "knears_score_teste = cross_val_score(knn, X_test, y_test, cv=10,scoring='roc_auc_ovo')\n",
    "print(\"Best Estimator\")\n",
    "print(knn)\n",
    "print('Score KNN Train: ', round(knears_score.mean() * 100, 2).astype(str) + '%')\n",
    "print('Score KNN Test: ', round(knears_score_teste.mean() * 100, 2).astype(str) + '%')"
   ]
  },
  {
   "cell_type": "code",
   "execution_count": 43,
   "metadata": {},
   "outputs": [
    {
     "data": {
      "text/plain": [
       "KNeighborsClassifier(algorithm='auto', leaf_size=3, metric='minkowski',\n",
       "                     metric_params=None, n_jobs=None, n_neighbors=19, p=2,\n",
       "                     weights='uniform')"
      ]
     },
     "execution_count": 43,
     "metadata": {},
     "output_type": "execute_result"
    }
   ],
   "source": [
    "knn.fit(X_train,y_train)"
   ]
  },
  {
   "cell_type": "code",
   "execution_count": 44,
   "metadata": {},
   "outputs": [],
   "source": [
    "Y_pred_knn = knn.predict(X_test)"
   ]
  },
  {
   "cell_type": "code",
   "execution_count": 45,
   "metadata": {},
   "outputs": [],
   "source": [
    "cm_knn = confusion_matrix(y_test,Y_pred_knn)"
   ]
  },
  {
   "cell_type": "code",
   "execution_count": 96,
   "metadata": {},
   "outputs": [
    {
     "name": "stdout",
     "output_type": "stream",
     "text": [
      "Accuracy KNN  93.75%\n",
      "Precision KNN  92.11%\n",
      "F1 KNN  95.89%\n",
      "Recall KNN  100.0%\n",
      "ROC KNN  88.46%\n"
     ]
    }
   ],
   "source": [
    "acc_score_knn = accuracy_score(y_test,Y_pred_knn)\n",
    "f1_score_knn = f1_score(y_test,Y_pred_knn)\n",
    "precisao_knn = average_precision_score(y_test,Y_pred_knn)\n",
    "recall_knn = recall_score(y_test,Y_pred_knn)\n",
    "roc_knn = roc_auc_score(y_test,Y_pred_knn,multi_class='ovo')\n",
    "print('Accuracy KNN ',round(acc_score_knn*100,2).astype(str)+'%')\n",
    "print('Precision KNN ',round(precisao_knn*100,2).astype(str)+'%')\n",
    "print('F1 KNN ',round(f1_score_knn*100,2).astype(str)+'%')\n",
    "print('Recall KNN ',round(recall_knn*100,2).astype(str)+'%')\n",
    "print('ROC KNN ',round(roc_knn*100,2).astype(str)+'%')"
   ]
  },
  {
   "cell_type": "code",
   "execution_count": 47,
   "metadata": {},
   "outputs": [],
   "source": [
    "accuracy.append(acc_score_knn)\n",
    "precision.append(precisao_knn)\n",
    "recall.append(recall_knn)\n",
    "f1.append(f1_score_knn)\n",
    "roc.append(roc_knn)"
   ]
  },
  {
   "cell_type": "code",
   "execution_count": 97,
   "metadata": {},
   "outputs": [
    {
     "data": {
      "text/plain": [
       "[Text(0, 0.5, 'ckd'), Text(0, 1.5, 'notckd')]"
      ]
     },
     "execution_count": 97,
     "metadata": {},
     "output_type": "execute_result"
    },
    {
     "data": {
      "image/png": "[encoded data removed]",
      "text/plain": [
       "<Figure size 720x432 with 2 Axes>"
      ]
     },
     "metadata": {
      "needs_background": "light"
     },
     "output_type": "display_data"
    }
   ],
   "source": [
    "fig, ax = plt.subplots(figsize=(10,6))\n",
    "sns.heatmap(cm_knn, ax=ax, annot=True, cmap=plt.cm.copper)\n",
    "ax.set_title(\"KNN \\n Confusion Matrix\", fontsize=14)\n",
    "ax.set_xticklabels(['ckd', 'notckd'], fontsize=14, rotation=0)\n",
    "ax.set_yticklabels(['ckd', 'notckd'], fontsize=14, rotation=360)"
   ]
  },
  {
   "cell_type": "markdown",
   "metadata": {},
   "source": [
    "Compared to logistic regression KNN had a worse performance"
   ]
  },
  {
   "cell_type": "code",
   "execution_count": 49,
   "metadata": {},
   "outputs": [
    {
     "name": "stdout",
     "output_type": "stream",
     "text": [
      "Ada Boost Classifier\n",
      "Best Estimator\n",
      "AdaBoostClassifier(algorithm='SAMME.R', base_estimator=None, learning_rate=1.0,\n",
      "                   n_estimators=5, random_state=None)\n",
      "Score AdaBoost Treino:  100.0%\n",
      "Score AdaBoost Teste:  85.0%\n"
     ]
    }
   ],
   "source": [
    "print(\"Ada Boost Classifier\")\n",
    "ada_params = {'n_estimators' : list(range(5,200))}\n",
    "grid_ada = GridSearchCV(AdaBoostClassifier(), ada_params,n_jobs=8,cv=10,scoring='roc_auc_ovo')\n",
    "grid_ada.fit(X_train, y_train)\n",
    "ada = grid_ada.best_estimator_\n",
    "print(\"Best Estimator\")\n",
    "print(ada)\n",
    "ada_score = cross_val_score(ada, X_train, y_train, cv=10,scoring='roc_auc_ovo')\n",
    "ada_score_teste = cross_val_score(ada, X_test, y_test, cv=10,scoring='roc_auc_ovo')\n",
    "print('Score AdaBoost Train: ', round(ada_score.mean() * 100, 2).astype(str) + '%')\n",
    "print('Score AdaBoost Test: ', round(ada_score_teste.mean() * 100, 2).astype(str) + '%')"
   ]
  },
  {
   "cell_type": "code",
   "execution_count": 50,
   "metadata": {},
   "outputs": [
    {
     "data": {
      "text/plain": [
       "AdaBoostClassifier(algorithm='SAMME.R', base_estimator=None, learning_rate=1.0,\n",
       "                   n_estimators=5, random_state=None)"
      ]
     },
     "execution_count": 50,
     "metadata": {},
     "output_type": "execute_result"
    }
   ],
   "source": [
    "ada.fit(X_train,y_train)"
   ]
  },
  {
   "cell_type": "code",
   "execution_count": 51,
   "metadata": {},
   "outputs": [],
   "source": [
    "Y_pred_ada = ada.predict(X_test)"
   ]
  },
  {
   "cell_type": "code",
   "execution_count": 52,
   "metadata": {},
   "outputs": [],
   "source": [
    "cm_ada = confusion_matrix(y_test,Y_pred_ada)"
   ]
  },
  {
   "cell_type": "code",
   "execution_count": 98,
   "metadata": {},
   "outputs": [
    {
     "name": "stdout",
     "output_type": "stream",
     "text": [
      "Accuracy ADA Boost  97.92%\n",
      "Precision Ada Boost  97.22%\n",
      "F1 Ada Boost  98.59%\n",
      "Recall Ada Boost  100.0%\n",
      "ROC Ada Boost  96.15%\n"
     ]
    }
   ],
   "source": [
    "acc_score_ada = accuracy_score(y_test,Y_pred_ada)\n",
    "f1_score_ada = f1_score(y_test,Y_pred_ada)\n",
    "precisao_ada = average_precision_score(y_test,Y_pred_ada)\n",
    "recall_ada = recall_score(y_test,Y_pred_ada)\n",
    "roc_ada = roc_auc_score(y_test,Y_pred_ada,multi_class='ovo')\n",
    "print('Accuracy ADA Boost ',round(acc_score_ada*100,2).astype(str)+'%')\n",
    "print('Precision Ada Boost ',round(precisao_ada*100,2).astype(str)+'%')\n",
    "print('F1 Ada Boost ',round(f1_score_ada*100,2).astype(str)+'%')\n",
    "print('Recall Ada Boost ',round(recall_ada*100,2).astype(str)+'%')\n",
    "print('ROC Ada Boost ',round(roc_ada*100,2).astype(str)+'%')"
   ]
  },
  {
   "cell_type": "code",
   "execution_count": 54,
   "metadata": {},
   "outputs": [],
   "source": [
    "accuracy.append(acc_score_ada)\n",
    "precision.append(precisao_ada)\n",
    "recall.append(recall_ada)\n",
    "f1.append(f1_score_ada)\n",
    "roc.append(roc_ada)"
   ]
  },
  {
   "cell_type": "code",
   "execution_count": 99,
   "metadata": {},
   "outputs": [
    {
     "data": {
      "text/plain": [
       "[Text(0, 0.5, 'ckd'), Text(0, 1.5, 'notckd')]"
      ]
     },
     "execution_count": 99,
     "metadata": {},
     "output_type": "execute_result"
    },
    {
     "data": {
      "image/png": "[encoded data removed]",
      "text/plain": [
       "<Figure size 720x432 with 2 Axes>"
      ]
     },
     "metadata": {
      "needs_background": "light"
     },
     "output_type": "display_data"
    }
   ],
   "source": [
    "fig, ax = plt.subplots(figsize=(10,6))\n",
    "sns.heatmap(cm_ada, ax=ax, annot=True, cmap=plt.cm.copper)\n",
    "ax.set_title(\"Ada Boost \\n Confusion matrix\", fontsize=14)\n",
    "ax.set_xticklabels(['ckd', 'notckd'], fontsize=14, rotation=0)\n",
    "ax.set_yticklabels(['ckd', 'notckd'], fontsize=14, rotation=360)"
   ]
  },
  {
   "cell_type": "code",
   "execution_count": 56,
   "metadata": {},
   "outputs": [
    {
     "data": {
      "image/png": "[encoded data removed]",
      "text/plain": [
       "<Figure size 432x288 with 1 Axes>"
      ]
     },
     "metadata": {
      "needs_background": "light"
     },
     "output_type": "display_data"
    }
   ],
   "source": [
    "importance_ada = ada.feature_importances_\n",
    "feature_series_ada = pd.Series(data=importance_ada,index=colunas_X)\n",
    "feature_series_ada.plot.bar()\n",
    "plt.title('Feature Importance Ada Boost')\n",
    "plt.xlabel('Features')\n",
    "plt.ylabel('Importance')\n",
    "plt.tight_layout()"
   ]
  },
  {
   "cell_type": "markdown",
   "metadata": {},
   "source": [
    "Accoring to Ada Boost only the column al is important for the problem"
   ]
  },
  {
   "cell_type": "code",
   "execution_count": 57,
   "metadata": {},
   "outputs": [
    {
     "name": "stdout",
     "output_type": "stream",
     "text": [
      "Random Forest Classifier\n",
      "Best Estimator\n",
      "RandomForestClassifier(bootstrap=True, ccp_alpha=0.0, class_weight=None,\n",
      "                       criterion='gini', max_depth=5, max_features='auto',\n",
      "                       max_leaf_nodes=None, max_samples=None,\n",
      "                       min_impurity_decrease=0.0, min_impurity_split=None,\n",
      "                       min_samples_leaf=1, min_samples_split=2,\n",
      "                       min_weight_fraction_leaf=0.0, n_estimators=5,\n",
      "                       n_jobs=None, oob_score=False, random_state=None,\n",
      "                       verbose=0, warm_start=False)\n",
      "Score RFC Treino:  100.0%\n",
      "Score RFC Teste:  100.0%\n"
     ]
    }
   ],
   "source": [
    "print(\"Random Forest Classifier\")\n",
    "forest_params = {\"max_depth\": list(range(5,10,1)),\"n_estimators\" : list(range(5,10,1))}\n",
    "forest = GridSearchCV(RandomForestClassifier(), forest_params,n_jobs=8,cv=10,scoring='roc_auc_ovo')\n",
    "forest.fit(X_train, y_train)\n",
    "random_forest = forest.best_estimator_\n",
    "print(\"Best Estimator\")\n",
    "print(random_forest)\n",
    "forest_score = cross_val_score(random_forest, X_train, y_train, cv=10,scoring='roc_auc_ovo')\n",
    "forest_score_teste = cross_val_score(random_forest, X_test, y_test, cv=10,scoring='roc_auc_ovo')\n",
    "print('Score RFC Train: ', round(forest_score.mean() * 100, 2).astype(str) + '%')\n",
    "print('Score RFC Test: ', round(forest_score_teste.mean() * 100, 2).astype(str) + '%')"
   ]
  },
  {
   "cell_type": "code",
   "execution_count": 58,
   "metadata": {},
   "outputs": [
    {
     "data": {
      "text/plain": [
       "RandomForestClassifier(bootstrap=True, ccp_alpha=0.0, class_weight=None,\n",
       "                       criterion='gini', max_depth=5, max_features='auto',\n",
       "                       max_leaf_nodes=None, max_samples=None,\n",
       "                       min_impurity_decrease=0.0, min_impurity_split=None,\n",
       "                       min_samples_leaf=1, min_samples_split=2,\n",
       "                       min_weight_fraction_leaf=0.0, n_estimators=5,\n",
       "                       n_jobs=None, oob_score=False, random_state=None,\n",
       "                       verbose=0, warm_start=False)"
      ]
     },
     "execution_count": 58,
     "metadata": {},
     "output_type": "execute_result"
    }
   ],
   "source": [
    "random_forest.fit(X_train,y_train)"
   ]
  },
  {
   "cell_type": "code",
   "execution_count": 59,
   "metadata": {},
   "outputs": [],
   "source": [
    "Y_pred_rf = random_forest.predict(X_test)"
   ]
  },
  {
   "cell_type": "code",
   "execution_count": 60,
   "metadata": {},
   "outputs": [],
   "source": [
    "cm_rf = confusion_matrix(y_test,Y_pred_rf)"
   ]
  },
  {
   "cell_type": "code",
   "execution_count": 101,
   "metadata": {},
   "outputs": [
    {
     "name": "stdout",
     "output_type": "stream",
     "text": [
      "Accuracy Random Forest  97.92%\n",
      "Precision Random Forest  97.22%\n",
      "F1 Random Forest  98.59%\n",
      "Recall Random Forest  100.0%\n",
      "ROC Random Forest  96.15%\n"
     ]
    }
   ],
   "source": [
    "acc_score_rf = accuracy_score(y_test,Y_pred_rf)\n",
    "f1_score_rf = f1_score(y_test,Y_pred_rf)\n",
    "precisao_rf = average_precision_score(y_test,Y_pred_rf)\n",
    "recall_rf = recall_score(y_test,Y_pred_rf)\n",
    "roc_rf = roc_auc_score(y_test,Y_pred_rf,multi_class='ovo')\n",
    "print('Accuracy Random Forest ',round(acc_score_rf*100,2).astype(str)+'%')\n",
    "print('Precision Random Forest ',round(precisao_rf*100,2).astype(str)+'%')\n",
    "print('F1 Random Forest ',round(f1_score_rf*100,2).astype(str)+'%')\n",
    "print('Recall Random Forest ',round(recall_rf*100,2).astype(str)+'%')\n",
    "print('ROC Random Forest ',round(roc_rf*100,2).astype(str)+'%')"
   ]
  },
  {
   "cell_type": "code",
   "execution_count": 62,
   "metadata": {},
   "outputs": [],
   "source": [
    "accuracy.append(acc_score_rf)\n",
    "precision.append(precisao_rf)\n",
    "recall.append(recall_rf)\n",
    "f1.append(f1_score_rf)\n",
    "roc.append(roc_rf)"
   ]
  },
  {
   "cell_type": "code",
   "execution_count": 100,
   "metadata": {},
   "outputs": [
    {
     "data": {
      "text/plain": [
       "[Text(0, 0.5, 'ckd'), Text(0, 1.5, 'notckd')]"
      ]
     },
     "execution_count": 100,
     "metadata": {},
     "output_type": "execute_result"
    },
    {
     "data": {
      "image/png": "[encoded data removed]",
      "text/plain": [
       "<Figure size 720x432 with 2 Axes>"
      ]
     },
     "metadata": {
      "needs_background": "light"
     },
     "output_type": "display_data"
    }
   ],
   "source": [
    "fig, ax = plt.subplots(figsize=(10,6))\n",
    "sns.heatmap(cm_rf, ax=ax, annot=True, cmap=plt.cm.copper)\n",
    "ax.set_title(\"Random Forest \\n Confusion matrix\", fontsize=14)\n",
    "ax.set_xticklabels(['ckd', 'notckd'], fontsize=14, rotation=0)\n",
    "ax.set_yticklabels(['ckd', 'notckd'], fontsize=14, rotation=360)"
   ]
  },
  {
   "cell_type": "markdown",
   "metadata": {},
   "source": [
    "Random forest had a very similiar result compared to Logistic regression"
   ]
  },
  {
   "cell_type": "code",
   "execution_count": 64,
   "metadata": {},
   "outputs": [
    {
     "data": {
      "image/png": "[encoded data removed]",
      "text/plain": [
       "<Figure size 432x288 with 1 Axes>"
      ]
     },
     "metadata": {
      "needs_background": "light"
     },
     "output_type": "display_data"
    }
   ],
   "source": [
    "importance_rfc = random_forest.feature_importances_\n",
    "feature_series_rfc = pd.Series(data=importance_rfc,index=colunas_X)\n",
    "feature_series_rfc.plot.bar()\n",
    "plt.title('Feature Importance Random Forest')\n",
    "plt.xlabel('Features')\n",
    "plt.ylabel('Importance')\n",
    "plt.tight_layout()"
   ]
  },
  {
   "cell_type": "markdown",
   "metadata": {},
   "source": [
    "For random forest classifier only the columns al, ba, sod, hemo, rc and dm are important where the column rc is the most important"
   ]
  },
  {
   "cell_type": "code",
   "execution_count": 65,
   "metadata": {},
   "outputs": [
    {
     "name": "stdout",
     "output_type": "stream",
     "text": [
      "Gradient Boost Classifier\n",
      "Best Estimator\n",
      "GradientBoostingClassifier(ccp_alpha=0.0, criterion='friedman_mse', init=None,\n",
      "                           learning_rate=0.1, loss='deviance', max_depth=5,\n",
      "                           max_features=None, max_leaf_nodes=None,\n",
      "                           min_impurity_decrease=0.0, min_impurity_split=None,\n",
      "                           min_samples_leaf=1, min_samples_split=2,\n",
      "                           min_weight_fraction_leaf=0.0, n_estimators=4,\n",
      "                           n_iter_no_change=None, presort='deprecated',\n",
      "                           random_state=None, subsample=1.0, tol=0.0001,\n",
      "                           validation_fraction=0.1, verbose=0,\n",
      "                           warm_start=False)\n",
      "Score GradBoost Treino:  100.0%\n",
      "Score GradBoost Teste:  85.0%\n"
     ]
    }
   ],
   "source": [
    "print(\"Gradient Boost Classifier\")\n",
    "grad_params = {'n_estimators' : list(range(4,21,1)),'max_depth' : list(range(5,21,1))}\n",
    "grad = GridSearchCV(GradientBoostingClassifier(), grad_params,n_jobs=8,cv=10,scoring='roc_auc_ovo')\n",
    "grad.fit(X_train, y_train)\n",
    "grad_boost = grad.best_estimator_\n",
    "print(\"Best Estimator\")\n",
    "print(grad_boost)\n",
    "grad_score = cross_val_score(grad_boost, X_train, y_train, cv=10,scoring='roc_auc_ovo')\n",
    "grad_score_teste = cross_val_score(grad_boost, X_test, y_test, cv=10,scoring='roc_auc_ovo')\n",
    "print('Score GradBoost Train: ', round(grad_score.mean() * 100, 2).astype(str) + '%')\n",
    "print('Score GradBoost Test: ', round(grad_score_teste.mean() * 100, 2).astype(str) + '%')"
   ]
  },
  {
   "cell_type": "code",
   "execution_count": 66,
   "metadata": {},
   "outputs": [
    {
     "data": {
      "text/plain": [
       "GradientBoostingClassifier(ccp_alpha=0.0, criterion='friedman_mse', init=None,\n",
       "                           learning_rate=0.1, loss='deviance', max_depth=5,\n",
       "                           max_features=None, max_leaf_nodes=None,\n",
       "                           min_impurity_decrease=0.0, min_impurity_split=None,\n",
       "                           min_samples_leaf=1, min_samples_split=2,\n",
       "                           min_weight_fraction_leaf=0.0, n_estimators=4,\n",
       "                           n_iter_no_change=None, presort='deprecated',\n",
       "                           random_state=None, subsample=1.0, tol=0.0001,\n",
       "                           validation_fraction=0.1, verbose=0,\n",
       "                           warm_start=False)"
      ]
     },
     "execution_count": 66,
     "metadata": {},
     "output_type": "execute_result"
    }
   ],
   "source": [
    "grad_boost.fit(X_train, y_train)"
   ]
  },
  {
   "cell_type": "code",
   "execution_count": 67,
   "metadata": {},
   "outputs": [],
   "source": [
    "Y_pred_gb = grad_boost.predict(X_test)"
   ]
  },
  {
   "cell_type": "code",
   "execution_count": 68,
   "metadata": {},
   "outputs": [],
   "source": [
    "cm_gb = confusion_matrix(y_test,Y_pred_gb)"
   ]
  },
  {
   "cell_type": "code",
   "execution_count": 102,
   "metadata": {},
   "outputs": [
    {
     "name": "stdout",
     "output_type": "stream",
     "text": [
      "Accuracy Gradient Boosting  97.92%\n",
      "Precision Gradient Boosting   97.22%\n",
      "F1 Gradient Boosting   98.59%\n",
      "Recall Gradient Boosting   100.0%\n",
      "ROC Gradient Boosting  96.15%\n"
     ]
    }
   ],
   "source": [
    "acc_score_gb = accuracy_score(y_test,Y_pred_gb)\n",
    "f1_score_gb = f1_score(y_test,Y_pred_gb)\n",
    "precisao_gb = average_precision_score(y_test,Y_pred_gb)\n",
    "recall_gb = recall_score(y_test,Y_pred_gb)\n",
    "roc_gb = roc_auc_score(y_test,Y_pred_gb,multi_class='ovo')\n",
    "print('Accuracy Gradient Boosting ',round(acc_score_gb*100,2).astype(str)+'%')\n",
    "print('Precision Gradient Boosting  ',round(precisao_gb*100,2).astype(str)+'%')\n",
    "print('F1 Gradient Boosting  ',round(f1_score_gb*100,2).astype(str)+'%')\n",
    "print('Recall Gradient Boosting  ',round(recall_gb*100,2).astype(str)+'%')\n",
    "print('ROC Gradient Boosting ',round(roc_gb*100,2).astype(str)+'%')"
   ]
  },
  {
   "cell_type": "code",
   "execution_count": 70,
   "metadata": {},
   "outputs": [],
   "source": [
    "accuracy.append(acc_score_gb)\n",
    "precision.append(precisao_gb)\n",
    "recall.append(recall_gb)\n",
    "f1.append(f1_score_gb)\n",
    "roc.append(roc_gb)"
   ]
  },
  {
   "cell_type": "code",
   "execution_count": 103,
   "metadata": {},
   "outputs": [
    {
     "data": {
      "text/plain": [
       "[Text(0, 0.5, 'ckd'), Text(0, 1.5, 'notckd')]"
      ]
     },
     "execution_count": 103,
     "metadata": {},
     "output_type": "execute_result"
    },
    {
     "data": {
      "image/png": "[encoded data removed]",
      "text/plain": [
       "<Figure size 720x432 with 2 Axes>"
      ]
     },
     "metadata": {
      "needs_background": "light"
     },
     "output_type": "display_data"
    }
   ],
   "source": [
    "fig, ax = plt.subplots(figsize=(10,6))\n",
    "sns.heatmap(cm_gb, ax=ax, annot=True, cmap=plt.cm.copper)\n",
    "ax.set_title(\"Gradient Boosting  \\n Confusion matrix\", fontsize=14)\n",
    "ax.set_xticklabels(['ckd', 'notckd'], fontsize=14, rotation=0)\n",
    "ax.set_yticklabels(['ckd', 'notckd'], fontsize=14, rotation=360)"
   ]
  },
  {
   "cell_type": "markdown",
   "metadata": {},
   "source": [
    "Gradient boost also had a very similar performance compared to the logistic regression and ada boost models"
   ]
  },
  {
   "cell_type": "code",
   "execution_count": 72,
   "metadata": {},
   "outputs": [
    {
     "data": {
      "image/png": "[encoded data removed]",
      "text/plain": [
       "<Figure size 432x288 with 1 Axes>"
      ]
     },
     "metadata": {
      "needs_background": "light"
     },
     "output_type": "display_data"
    }
   ],
   "source": [
    "importance_gradboost = grad_boost.feature_importances_\n",
    "feature_series_gradboost = pd.Series(data=importance_gradboost,index=colunas_X)\n",
    "feature_series_gradboost.plot.bar()\n",
    "plt.title('Feature Importance Gradient Boosting')\n",
    "plt.xlabel('Features')\n",
    "plt.ylabel('Importance')\n",
    "plt.tight_layout()"
   ]
  },
  {
   "cell_type": "markdown",
   "metadata": {},
   "source": [
    "For Gradient Boosting only the column al is important"
   ]
  },
  {
   "cell_type": "markdown",
   "metadata": {},
   "source": [
    "Build a deep learning model with Keras. I will use Batch Normalization since this has a very imporant effect in the model"
   ]
  },
  {
   "cell_type": "code",
   "execution_count": 76,
   "metadata": {},
   "outputs": [],
   "source": [
    "n_inputs = X_train.shape[1]"
   ]
  },
  {
   "cell_type": "code",
   "execution_count": 77,
   "metadata": {},
   "outputs": [
    {
     "name": "stderr",
     "output_type": "stream",
     "text": [
      "Using TensorFlow backend.\n"
     ]
    }
   ],
   "source": [
    "from keras.models import Sequential\n",
    "from keras.layers import Activation,BatchNormalization\n",
    "from keras.layers.core import Dense,Dropout\n",
    "from keras.optimizers import Adam\n",
    "from keras.metrics import categorical_crossentropy\n",
    "from keras.callbacks import ReduceLROnPlateau,EarlyStopping"
   ]
  },
  {
   "cell_type": "code",
   "execution_count": 78,
   "metadata": {},
   "outputs": [],
   "source": [
    "modelo = Sequential()\n",
    "modelo.add(Dense(128, input_shape=(n_inputs, ), activation='relu', kernel_initializer='glorot_uniform',bias_initializer='zeros'))\n",
    "modelo.add(BatchNormalization())\n",
    "modelo.add(Dense(256, activation='relu', kernel_initializer='glorot_uniform',bias_initializer='zeros'))\n",
    "modelo.add(BatchNormalization())\n",
    "modelo.add(Dropout(0.5))\n",
    "modelo.add(Dense(512, activation='relu', kernel_initializer='glorot_uniform',bias_initializer='zeros'))\n",
    "modelo.add(BatchNormalization())\n",
    "modelo.add(Dense(512, activation='relu', kernel_initializer='glorot_uniform',bias_initializer='zeros'))\n",
    "modelo.add(BatchNormalization())\n",
    "modelo.add(Dropout(0.5))\n",
    "modelo.add(Dense(256, activation='relu', kernel_initializer='glorot_uniform',bias_initializer='zeros'))\n",
    "modelo.add(BatchNormalization())\n",
    "modelo.add(Dense(128, activation='relu', kernel_initializer='glorot_uniform',bias_initializer='zeros'))\n",
    "modelo.add(BatchNormalization())\n",
    "modelo.add(Dropout(0.5))\n",
    "modelo.add(Dense(2, activation='softmax', kernel_initializer='glorot_uniform',bias_initializer='zeros'))"
   ]
  },
  {
   "cell_type": "code",
   "execution_count": 79,
   "metadata": {},
   "outputs": [],
   "source": [
    "reduce_lr = ReduceLROnPlateau(monitor='val_accuracy', patience=3, verbose=1, factor=0.5, mode='auto', min_delta=0.0001)\n",
    "es = EarlyStopping(monitor='val_loss', mode='min', verbose=1, patience=50)\n",
    "callbacks_list = [reduce_lr,es]\n",
    "bsize = 50"
   ]
  },
  {
   "cell_type": "code",
   "execution_count": 80,
   "metadata": {},
   "outputs": [
    {
     "name": "stdout",
     "output_type": "stream",
     "text": [
      "Train on 110 samples, validate on 48 samples\n",
      "Epoch 1/200\n",
      " - 5s - loss: 0.6863 - accuracy: 0.7545 - val_loss: 3.9186 - val_accuracy: 0.2708\n",
      "Epoch 2/200\n",
      " - 0s - loss: 0.0326 - accuracy: 1.0000 - val_loss: 11.3258 - val_accuracy: 0.2708\n",
      "Epoch 3/200\n",
      " - 0s - loss: 0.0059 - accuracy: 1.0000 - val_loss: 15.9120 - val_accuracy: 0.2708\n",
      "Epoch 4/200\n",
      " - 0s - loss: 0.0020 - accuracy: 1.0000 - val_loss: 18.5192 - val_accuracy: 0.2708\n",
      "\n",
      "Epoch 00004: ReduceLROnPlateau reducing learning rate to 0.004999999888241291.\n",
      "Epoch 5/200\n",
      " - 0s - loss: 5.9040e-04 - accuracy: 1.0000 - val_loss: 12.9406 - val_accuracy: 0.2708\n",
      "Epoch 6/200\n",
      " - 0s - loss: 0.0018 - accuracy: 1.0000 - val_loss: 7.3890 - val_accuracy: 0.2500\n",
      "Epoch 7/200\n",
      " - 0s - loss: 6.2837e-04 - accuracy: 1.0000 - val_loss: 3.2208 - val_accuracy: 0.2500\n",
      "\n",
      "Epoch 00007: ReduceLROnPlateau reducing learning rate to 0.0024999999441206455.\n",
      "Epoch 8/200\n",
      " - 0s - loss: 0.0292 - accuracy: 0.9909 - val_loss: 0.5781 - val_accuracy: 0.7083\n",
      "Epoch 9/200\n",
      " - 0s - loss: 0.0037 - accuracy: 1.0000 - val_loss: 0.1600 - val_accuracy: 0.9583\n",
      "Epoch 10/200\n",
      " - 0s - loss: 0.0161 - accuracy: 0.9909 - val_loss: 0.1524 - val_accuracy: 0.9375\n",
      "Epoch 11/200\n",
      " - 0s - loss: 1.9078e-04 - accuracy: 1.0000 - val_loss: 0.1159 - val_accuracy: 0.9583\n",
      "Epoch 12/200\n",
      " - 0s - loss: 0.0420 - accuracy: 0.9909 - val_loss: 0.0942 - val_accuracy: 0.9792\n",
      "Epoch 13/200\n",
      " - 0s - loss: 3.9077e-04 - accuracy: 1.0000 - val_loss: 0.0827 - val_accuracy: 0.9792\n",
      "Epoch 14/200\n",
      " - 0s - loss: 0.4486 - accuracy: 0.9727 - val_loss: 0.0879 - val_accuracy: 0.9583\n",
      "Epoch 15/200\n",
      " - 0s - loss: 0.0083 - accuracy: 1.0000 - val_loss: 0.1089 - val_accuracy: 0.9583\n",
      "\n",
      "Epoch 00015: ReduceLROnPlateau reducing learning rate to 0.0012499999720603228.\n",
      "Epoch 16/200\n",
      " - 0s - loss: 0.3425 - accuracy: 0.9182 - val_loss: 0.1117 - val_accuracy: 0.9583\n",
      "Epoch 17/200\n",
      " - 0s - loss: 0.0289 - accuracy: 0.9818 - val_loss: 0.1474 - val_accuracy: 0.9375\n",
      "Epoch 18/200\n",
      " - 0s - loss: 0.0203 - accuracy: 0.9909 - val_loss: 0.1773 - val_accuracy: 0.9167\n",
      "\n",
      "Epoch 00018: ReduceLROnPlateau reducing learning rate to 0.0006249999860301614.\n",
      "Epoch 19/200\n",
      " - 0s - loss: 0.1853 - accuracy: 0.9455 - val_loss: 0.1677 - val_accuracy: 0.9167\n",
      "Epoch 20/200\n",
      " - 0s - loss: 0.1597 - accuracy: 0.9455 - val_loss: 0.1244 - val_accuracy: 0.9583\n",
      "Epoch 21/200\n",
      " - 0s - loss: 0.0284 - accuracy: 0.9909 - val_loss: 0.0781 - val_accuracy: 0.9583\n",
      "\n",
      "Epoch 00021: ReduceLROnPlateau reducing learning rate to 0.0003124999930150807.\n",
      "Epoch 22/200\n",
      " - 0s - loss: 0.0749 - accuracy: 0.9909 - val_loss: 0.0654 - val_accuracy: 0.9792\n",
      "Epoch 23/200\n",
      " - 0s - loss: 0.0080 - accuracy: 1.0000 - val_loss: 0.0475 - val_accuracy: 0.9792\n",
      "Epoch 24/200\n",
      " - 0s - loss: 0.0052 - accuracy: 1.0000 - val_loss: 0.0319 - val_accuracy: 0.9792\n",
      "\n",
      "Epoch 00024: ReduceLROnPlateau reducing learning rate to 0.00015624999650754035.\n",
      "Epoch 25/200\n",
      " - 0s - loss: 0.0722 - accuracy: 0.9909 - val_loss: 0.0240 - val_accuracy: 0.9792\n",
      "Epoch 26/200\n",
      " - 0s - loss: 0.0036 - accuracy: 1.0000 - val_loss: 0.0199 - val_accuracy: 1.0000\n",
      "Epoch 27/200\n",
      " - 0s - loss: 0.0190 - accuracy: 0.9909 - val_loss: 0.0165 - val_accuracy: 1.0000\n",
      "Epoch 28/200\n",
      " - 0s - loss: 0.3339 - accuracy: 0.9727 - val_loss: 0.0161 - val_accuracy: 1.0000\n",
      "Epoch 29/200\n",
      " - 0s - loss: 0.0146 - accuracy: 0.9909 - val_loss: 0.0159 - val_accuracy: 1.0000\n",
      "\n",
      "Epoch 00029: ReduceLROnPlateau reducing learning rate to 7.812499825377017e-05.\n",
      "Epoch 30/200\n",
      " - 0s - loss: 0.0044 - accuracy: 1.0000 - val_loss: 0.0159 - val_accuracy: 1.0000\n",
      "Epoch 31/200\n",
      " - 0s - loss: 0.0182 - accuracy: 0.9909 - val_loss: 0.0160 - val_accuracy: 1.0000\n",
      "Epoch 32/200\n",
      " - 0s - loss: 0.0061 - accuracy: 1.0000 - val_loss: 0.0153 - val_accuracy: 1.0000\n",
      "\n",
      "Epoch 00032: ReduceLROnPlateau reducing learning rate to 3.9062499126885086e-05.\n",
      "Epoch 33/200\n",
      " - 0s - loss: 0.0038 - accuracy: 1.0000 - val_loss: 0.0148 - val_accuracy: 1.0000\n",
      "Epoch 34/200\n",
      " - 0s - loss: 0.0363 - accuracy: 0.9909 - val_loss: 0.0162 - val_accuracy: 1.0000\n",
      "Epoch 35/200\n",
      " - 0s - loss: 0.0098 - accuracy: 1.0000 - val_loss: 0.0162 - val_accuracy: 1.0000\n",
      "\n",
      "Epoch 00035: ReduceLROnPlateau reducing learning rate to 1.9531249563442543e-05.\n",
      "Epoch 36/200\n",
      " - 0s - loss: 0.0234 - accuracy: 0.9818 - val_loss: 0.0163 - val_accuracy: 1.0000\n",
      "Epoch 37/200\n",
      " - 0s - loss: 0.0161 - accuracy: 1.0000 - val_loss: 0.0163 - val_accuracy: 1.0000\n",
      "Epoch 38/200\n",
      " - 0s - loss: 0.0032 - accuracy: 1.0000 - val_loss: 0.0157 - val_accuracy: 1.0000\n",
      "\n",
      "Epoch 00038: ReduceLROnPlateau reducing learning rate to 9.765624781721272e-06.\n",
      "Epoch 39/200\n",
      " - 0s - loss: 0.0402 - accuracy: 0.9909 - val_loss: 0.0161 - val_accuracy: 1.0000\n",
      "Epoch 40/200\n",
      " - 0s - loss: 0.0607 - accuracy: 0.9909 - val_loss: 0.0157 - val_accuracy: 1.0000\n",
      "Epoch 41/200\n",
      " - 0s - loss: 0.0152 - accuracy: 0.9909 - val_loss: 0.0157 - val_accuracy: 1.0000\n",
      "\n",
      "Epoch 00041: ReduceLROnPlateau reducing learning rate to 4.882812390860636e-06.\n",
      "Epoch 42/200\n",
      " - 0s - loss: 0.0324 - accuracy: 0.9818 - val_loss: 0.0155 - val_accuracy: 1.0000\n",
      "Epoch 43/200\n",
      " - 0s - loss: 0.0066 - accuracy: 1.0000 - val_loss: 0.0161 - val_accuracy: 1.0000\n",
      "Epoch 44/200\n",
      " - 0s - loss: 0.4256 - accuracy: 0.9727 - val_loss: 0.0171 - val_accuracy: 1.0000\n",
      "\n",
      "Epoch 00044: ReduceLROnPlateau reducing learning rate to 2.441406195430318e-06.\n",
      "Epoch 45/200\n",
      " - 0s - loss: 0.0037 - accuracy: 1.0000 - val_loss: 0.0166 - val_accuracy: 1.0000\n",
      "Epoch 46/200\n",
      " - 0s - loss: 0.0079 - accuracy: 1.0000 - val_loss: 0.0164 - val_accuracy: 1.0000\n",
      "Epoch 47/200\n",
      " - 0s - loss: 0.0042 - accuracy: 1.0000 - val_loss: 0.0167 - val_accuracy: 1.0000\n",
      "\n",
      "Epoch 00047: ReduceLROnPlateau reducing learning rate to 1.220703097715159e-06.\n",
      "Epoch 48/200\n",
      " - 0s - loss: 0.1381 - accuracy: 0.9636 - val_loss: 0.0175 - val_accuracy: 1.0000\n",
      "Epoch 49/200\n",
      " - 0s - loss: 0.0569 - accuracy: 0.9909 - val_loss: 0.0179 - val_accuracy: 1.0000\n",
      "Epoch 50/200\n",
      " - 0s - loss: 0.0108 - accuracy: 1.0000 - val_loss: 0.0189 - val_accuracy: 1.0000\n",
      "\n",
      "Epoch 00050: ReduceLROnPlateau reducing learning rate to 6.103515488575795e-07.\n",
      "Epoch 51/200\n",
      " - 0s - loss: 0.0041 - accuracy: 1.0000 - val_loss: 0.0183 - val_accuracy: 1.0000\n",
      "Epoch 52/200\n",
      " - 0s - loss: 0.0257 - accuracy: 0.9909 - val_loss: 0.0187 - val_accuracy: 1.0000\n",
      "Epoch 53/200\n",
      " - 0s - loss: 0.0047 - accuracy: 1.0000 - val_loss: 0.0192 - val_accuracy: 1.0000\n",
      "\n",
      "Epoch 00053: ReduceLROnPlateau reducing learning rate to 3.0517577442878974e-07.\n",
      "Epoch 54/200\n",
      " - 0s - loss: 0.0231 - accuracy: 0.9909 - val_loss: 0.0200 - val_accuracy: 1.0000\n",
      "Epoch 55/200\n",
      " - 0s - loss: 0.0043 - accuracy: 1.0000 - val_loss: 0.0208 - val_accuracy: 1.0000\n",
      "Epoch 56/200\n",
      " - 0s - loss: 0.0131 - accuracy: 0.9909 - val_loss: 0.0199 - val_accuracy: 1.0000\n",
      "\n",
      "Epoch 00056: ReduceLROnPlateau reducing learning rate to 1.5258788721439487e-07.\n",
      "Epoch 57/200\n",
      " - 0s - loss: 0.0034 - accuracy: 1.0000 - val_loss: 0.0194 - val_accuracy: 1.0000\n",
      "Epoch 58/200\n",
      " - 0s - loss: 0.0167 - accuracy: 0.9909 - val_loss: 0.0189 - val_accuracy: 1.0000\n",
      "Epoch 59/200\n",
      " - 0s - loss: 0.0086 - accuracy: 1.0000 - val_loss: 0.0192 - val_accuracy: 1.0000\n",
      "\n",
      "Epoch 00059: ReduceLROnPlateau reducing learning rate to 7.629394360719743e-08.\n",
      "Epoch 60/200\n",
      " - 0s - loss: 0.0055 - accuracy: 1.0000 - val_loss: 0.0188 - val_accuracy: 1.0000\n",
      "Epoch 61/200\n",
      " - 0s - loss: 0.0075 - accuracy: 1.0000 - val_loss: 0.0185 - val_accuracy: 1.0000\n",
      "Epoch 62/200\n",
      " - 0s - loss: 0.0458 - accuracy: 0.9727 - val_loss: 0.0191 - val_accuracy: 1.0000\n",
      "\n",
      "Epoch 00062: ReduceLROnPlateau reducing learning rate to 3.814697180359872e-08.\n",
      "Epoch 63/200\n",
      " - 0s - loss: 0.0260 - accuracy: 0.9909 - val_loss: 0.0192 - val_accuracy: 1.0000\n",
      "Epoch 64/200\n",
      " - 0s - loss: 0.0047 - accuracy: 1.0000 - val_loss: 0.0186 - val_accuracy: 1.0000\n",
      "Epoch 65/200\n",
      " - 0s - loss: 0.0686 - accuracy: 0.9818 - val_loss: 0.0192 - val_accuracy: 1.0000\n",
      "\n",
      "Epoch 00065: ReduceLROnPlateau reducing learning rate to 1.907348590179936e-08.\n",
      "Epoch 66/200\n",
      " - 0s - loss: 0.0060 - accuracy: 1.0000 - val_loss: 0.0200 - val_accuracy: 1.0000\n",
      "Epoch 67/200\n",
      " - 0s - loss: 0.0170 - accuracy: 0.9909 - val_loss: 0.0199 - val_accuracy: 1.0000\n",
      "Epoch 68/200\n",
      " - 0s - loss: 0.0301 - accuracy: 0.9818 - val_loss: 0.0197 - val_accuracy: 1.0000\n",
      "\n",
      "Epoch 00068: ReduceLROnPlateau reducing learning rate to 9.53674295089968e-09.\n",
      "Epoch 69/200\n",
      " - 0s - loss: 0.0155 - accuracy: 1.0000 - val_loss: 0.0191 - val_accuracy: 1.0000\n"
     ]
    },
    {
     "name": "stdout",
     "output_type": "stream",
     "text": [
      "Epoch 70/200\n",
      " - 0s - loss: 0.0045 - accuracy: 1.0000 - val_loss: 0.0197 - val_accuracy: 1.0000\n",
      "Epoch 71/200\n",
      " - 0s - loss: 0.0058 - accuracy: 1.0000 - val_loss: 0.0195 - val_accuracy: 1.0000\n",
      "\n",
      "Epoch 00071: ReduceLROnPlateau reducing learning rate to 4.76837147544984e-09.\n",
      "Epoch 72/200\n",
      " - 0s - loss: 0.0073 - accuracy: 1.0000 - val_loss: 0.0193 - val_accuracy: 1.0000\n",
      "Epoch 73/200\n",
      " - 0s - loss: 0.0238 - accuracy: 0.9909 - val_loss: 0.0205 - val_accuracy: 1.0000\n",
      "Epoch 74/200\n",
      " - 0s - loss: 0.0124 - accuracy: 0.9909 - val_loss: 0.0201 - val_accuracy: 1.0000\n",
      "\n",
      "Epoch 00074: ReduceLROnPlateau reducing learning rate to 2.38418573772492e-09.\n",
      "Epoch 75/200\n",
      " - 0s - loss: 0.0088 - accuracy: 1.0000 - val_loss: 0.0196 - val_accuracy: 1.0000\n",
      "Epoch 76/200\n",
      " - 0s - loss: 0.0097 - accuracy: 1.0000 - val_loss: 0.0192 - val_accuracy: 1.0000\n",
      "Epoch 77/200\n",
      " - 0s - loss: 0.0529 - accuracy: 0.9818 - val_loss: 0.0195 - val_accuracy: 1.0000\n",
      "\n",
      "Epoch 00077: ReduceLROnPlateau reducing learning rate to 1.19209286886246e-09.\n",
      "Epoch 78/200\n",
      " - 0s - loss: 0.0026 - accuracy: 1.0000 - val_loss: 0.0189 - val_accuracy: 1.0000\n",
      "Epoch 79/200\n",
      " - 0s - loss: 0.0207 - accuracy: 0.9909 - val_loss: 0.0188 - val_accuracy: 1.0000\n",
      "Epoch 80/200\n",
      " - 0s - loss: 0.0326 - accuracy: 0.9909 - val_loss: 0.0179 - val_accuracy: 1.0000\n",
      "\n",
      "Epoch 00080: ReduceLROnPlateau reducing learning rate to 5.9604643443123e-10.\n",
      "Epoch 81/200\n",
      " - 0s - loss: 0.1763 - accuracy: 0.9455 - val_loss: 0.0190 - val_accuracy: 1.0000\n",
      "Epoch 82/200\n",
      " - 0s - loss: 0.0156 - accuracy: 0.9909 - val_loss: 0.0186 - val_accuracy: 1.0000\n",
      "Epoch 83/200\n",
      " - 0s - loss: 0.0029 - accuracy: 1.0000 - val_loss: 0.0186 - val_accuracy: 1.0000\n",
      "\n",
      "Epoch 00083: ReduceLROnPlateau reducing learning rate to 2.98023217215615e-10.\n",
      "Epoch 00083: early stopping\n"
     ]
    },
    {
     "data": {
      "text/plain": [
       "<keras.callbacks.callbacks.History at 0x1a39d6da10>"
      ]
     },
     "execution_count": 80,
     "metadata": {},
     "output_type": "execute_result"
    }
   ],
   "source": [
    "modelo.compile(Adam(lr=0.01), loss='sparse_categorical_crossentropy', metrics=['accuracy'])\n",
    "modelo.fit(X_train, y_train, batch_size=bsize, epochs=200, verbose=2, validation_data=(X_test,y_test),callbacks=callbacks_list)"
   ]
  },
  {
   "cell_type": "code",
   "execution_count": 81,
   "metadata": {},
   "outputs": [],
   "source": [
    "Y_pred_keras = modelo.predict_classes(X_test, batch_size=bsize, verbose=0)"
   ]
  },
  {
   "cell_type": "code",
   "execution_count": 82,
   "metadata": {},
   "outputs": [
    {
     "name": "stdout",
     "output_type": "stream",
     "text": [
      "Acuracia Keras  100.0%\n",
      "Precião média Keras   100.0%\n",
      "F1 Keras   100.0%\n",
      "Recall Keras   100.0%\n",
      "ROC Keras  100.0%\n"
     ]
    }
   ],
   "source": [
    "cm_keras = confusion_matrix(y_test,Y_pred_keras)\n",
    "acc_score_keras = accuracy_score(y_test,Y_pred_keras)\n",
    "f1_score_keras = f1_score(y_test,Y_pred_keras)\n",
    "precisao_keras = average_precision_score(y_test,Y_pred_keras)\n",
    "recall_keras = recall_score(y_test,Y_pred_keras)\n",
    "roc_keras = roc_auc_score(y_test,Y_pred_keras,multi_class='ovo')\n",
    "print('Acuracia Keras ',round(acc_score_keras*100,2).astype(str)+'%')\n",
    "print('Precião média Keras  ',round(precisao_keras*100,2).astype(str)+'%')\n",
    "print('F1 Keras  ',round(f1_score_keras*100,2).astype(str)+'%')\n",
    "print('Recall Keras  ',round(recall_keras*100,2).astype(str)+'%')\n",
    "print('ROC Keras ',round(roc_keras*100,2).astype(str)+'%')"
   ]
  },
  {
   "cell_type": "code",
   "execution_count": 83,
   "metadata": {},
   "outputs": [],
   "source": [
    "accuracy.append(acc_score_keras)\n",
    "precision.append(precisao_keras)\n",
    "recall.append(recall_keras)\n",
    "f1.append(f1_score_keras)\n",
    "roc.append(roc_keras)"
   ]
  },
  {
   "cell_type": "code",
   "execution_count": 93,
   "metadata": {},
   "outputs": [
    {
     "data": {
      "text/plain": [
       "[Text(0, 0.5, 'ckd'), Text(0, 1.5, 'notckd')]"
      ]
     },
     "execution_count": 93,
     "metadata": {},
     "output_type": "execute_result"
    },
    {
     "data": {
      "image/png": "[encoded data removed]",
      "text/plain": [
       "<Figure size 720x432 with 2 Axes>"
      ]
     },
     "metadata": {
      "needs_background": "light"
     },
     "output_type": "display_data"
    }
   ],
   "source": [
    "fig, ax = plt.subplots(figsize=(10,6))\n",
    "sns.heatmap(cm_keras, ax=ax, annot=True, cmap=plt.cm.copper)\n",
    "ax.set_title(\"Keras  \\n Matriz de Confusão\", fontsize=14)\n",
    "ax.set_xticklabels(['ckd', 'notckd'], fontsize=14, rotation=0)\n",
    "ax.set_yticklabels(['ckd', 'notckd'], fontsize=14, rotation=360)"
   ]
  },
  {
   "cell_type": "markdown",
   "metadata": {},
   "source": [
    "The deep learning model has proven to be the best one compared to the machine learning models used here"
   ]
  },
  {
   "cell_type": "code",
   "execution_count": 85,
   "metadata": {},
   "outputs": [],
   "source": [
    "nome_modelo = [\"Logistic Regression\",\"KNN\",\"AdaBoost\",\"RFC\",\"GradBoost\",\"Keras\"]\n",
    "dic_metrics = {'Model' : nome_modelo, 'Accuracy' : accuracy, 'Precision' : precision, 'Recall' : recall, 'F1' : f1, 'ROC' : roc}\n",
    "dataframe = pd.DataFrame(dic_metrics)"
   ]
  },
  {
   "cell_type": "code",
   "execution_count": 86,
   "metadata": {},
   "outputs": [],
   "source": [
    "dataframe_sorted =  dataframe.sort_values(by=['ROC','Accuracy','Recall','F1','Precision'],ascending=False).reset_index().drop('index',axis=1)"
   ]
  },
  {
   "cell_type": "code",
   "execution_count": 87,
   "metadata": {},
   "outputs": [
    {
     "data": {
      "text/html": [
       "<div>\n",
       "<style scoped>\n",
       "    .dataframe tbody tr th:only-of-type {\n",
       "        vertical-align: middle;\n",
       "    }\n",
       "\n",
       "    .dataframe tbody tr th {\n",
       "        vertical-align: top;\n",
       "    }\n",
       "\n",
       "    .dataframe thead th {\n",
       "        text-align: right;\n",
       "    }\n",
       "</style>\n",
       "<table border=\"1\" class=\"dataframe\">\n",
       "  <thead>\n",
       "    <tr style=\"text-align: right;\">\n",
       "      <th></th>\n",
       "      <th>Model</th>\n",
       "      <th>Accuracy</th>\n",
       "      <th>Precision</th>\n",
       "      <th>Recall</th>\n",
       "      <th>F1</th>\n",
       "      <th>ROC</th>\n",
       "    </tr>\n",
       "  </thead>\n",
       "  <tbody>\n",
       "    <tr>\n",
       "      <th>0</th>\n",
       "      <td>Keras</td>\n",
       "      <td>1.000000</td>\n",
       "      <td>1.000000</td>\n",
       "      <td>1.0</td>\n",
       "      <td>1.000000</td>\n",
       "      <td>1.000000</td>\n",
       "    </tr>\n",
       "    <tr>\n",
       "      <th>1</th>\n",
       "      <td>Logistic Regression</td>\n",
       "      <td>0.979167</td>\n",
       "      <td>0.972222</td>\n",
       "      <td>1.0</td>\n",
       "      <td>0.985915</td>\n",
       "      <td>0.961538</td>\n",
       "    </tr>\n",
       "    <tr>\n",
       "      <th>2</th>\n",
       "      <td>AdaBoost</td>\n",
       "      <td>0.979167</td>\n",
       "      <td>0.972222</td>\n",
       "      <td>1.0</td>\n",
       "      <td>0.985915</td>\n",
       "      <td>0.961538</td>\n",
       "    </tr>\n",
       "    <tr>\n",
       "      <th>3</th>\n",
       "      <td>RFC</td>\n",
       "      <td>0.979167</td>\n",
       "      <td>0.972222</td>\n",
       "      <td>1.0</td>\n",
       "      <td>0.985915</td>\n",
       "      <td>0.961538</td>\n",
       "    </tr>\n",
       "    <tr>\n",
       "      <th>4</th>\n",
       "      <td>GradBoost</td>\n",
       "      <td>0.979167</td>\n",
       "      <td>0.972222</td>\n",
       "      <td>1.0</td>\n",
       "      <td>0.985915</td>\n",
       "      <td>0.961538</td>\n",
       "    </tr>\n",
       "    <tr>\n",
       "      <th>5</th>\n",
       "      <td>KNN</td>\n",
       "      <td>0.937500</td>\n",
       "      <td>0.921053</td>\n",
       "      <td>1.0</td>\n",
       "      <td>0.958904</td>\n",
       "      <td>0.884615</td>\n",
       "    </tr>\n",
       "  </tbody>\n",
       "</table>\n",
       "</div>"
      ],
      "text/plain": [
       "                 Model  Accuracy  Precision  Recall        F1       ROC\n",
       "0                Keras  1.000000   1.000000     1.0  1.000000  1.000000\n",
       "1  Logistic Regression  0.979167   0.972222     1.0  0.985915  0.961538\n",
       "2             AdaBoost  0.979167   0.972222     1.0  0.985915  0.961538\n",
       "3                  RFC  0.979167   0.972222     1.0  0.985915  0.961538\n",
       "4            GradBoost  0.979167   0.972222     1.0  0.985915  0.961538\n",
       "5                  KNN  0.937500   0.921053     1.0  0.958904  0.884615"
      ]
     },
     "execution_count": 87,
     "metadata": {},
     "output_type": "execute_result"
    }
   ],
   "source": [
    "dataframe_sorted"
   ]
  }
 ],
 "metadata": {
  "kernelspec": {
   "display_name": "Python 3",
   "language": "python",
   "name": "python3"
  },
  "language_info": {
   "codemirror_mode": {
    "name": "ipython",
    "version": 3
   },
   "file_extension": ".py",
   "mimetype": "text/x-python",
   "name": "python",
   "nbconvert_exporter": "python",
   "pygments_lexer": "ipython3",
   "version": "3.7.6"
  }
 },
 "nbformat": 4,
 "nbformat_minor": 4
}
