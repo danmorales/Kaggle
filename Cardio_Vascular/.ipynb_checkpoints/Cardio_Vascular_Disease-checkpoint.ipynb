{
 "cells": [
  {
   "cell_type": "code",
   "execution_count": 1,
   "metadata": {},
   "outputs": [],
   "source": [
    "import numpy as np\n",
    "import pandas as pd\n",
    "import matplotlib.pyplot as plt\n",
    "import seaborn as sns"
   ]
  },
  {
   "cell_type": "code",
   "execution_count": 2,
   "metadata": {},
   "outputs": [],
   "source": [
    "from sklearn.model_selection import train_test_split, cross_val_score,KFold,StratifiedKFold, GridSearchCV\n",
    "from sklearn.metrics import confusion_matrix,accuracy_score,f1_score,average_precision_score,recall_score,roc_auc_score\n",
    "from sklearn.preprocessing import RobustScaler,StandardScaler,LabelEncoder,MinMaxScaler"
   ]
  },
  {
   "cell_type": "code",
   "execution_count": 3,
   "metadata": {},
   "outputs": [],
   "source": [
    "from sklearn.linear_model import LogisticRegression\n",
    "from sklearn.neighbors import KNeighborsClassifier\n",
    "from sklearn.ensemble import RandomForestClassifier, AdaBoostClassifier, GradientBoostingClassifier"
   ]
  },
  {
   "cell_type": "code",
   "execution_count": 4,
   "metadata": {},
   "outputs": [
    {
     "name": "stderr",
     "output_type": "stream",
     "text": [
      "Using TensorFlow backend.\n"
     ]
    }
   ],
   "source": [
    "from keras.models import Sequential\n",
    "from keras.layers import Activation,BatchNormalization\n",
    "from keras.layers.core import Dense,Dropout\n",
    "from keras.optimizers import Adam\n",
    "from keras.metrics import categorical_crossentropy\n",
    "from keras.callbacks import ReduceLROnPlateau,EarlyStopping"
   ]
  },
  {
   "cell_type": "code",
   "execution_count": 5,
   "metadata": {},
   "outputs": [],
   "source": [
    "dados = pd.read_csv('cardio_train.csv',sep=';')"
   ]
  },
  {
   "cell_type": "code",
   "execution_count": 6,
   "metadata": {},
   "outputs": [
    {
     "data": {
      "text/html": [
       "<div>\n",
       "<style scoped>\n",
       "    .dataframe tbody tr th:only-of-type {\n",
       "        vertical-align: middle;\n",
       "    }\n",
       "\n",
       "    .dataframe tbody tr th {\n",
       "        vertical-align: top;\n",
       "    }\n",
       "\n",
       "    .dataframe thead th {\n",
       "        text-align: right;\n",
       "    }\n",
       "</style>\n",
       "<table border=\"1\" class=\"dataframe\">\n",
       "  <thead>\n",
       "    <tr style=\"text-align: right;\">\n",
       "      <th></th>\n",
       "      <th>id</th>\n",
       "      <th>age</th>\n",
       "      <th>gender</th>\n",
       "      <th>height</th>\n",
       "      <th>weight</th>\n",
       "      <th>ap_hi</th>\n",
       "      <th>ap_lo</th>\n",
       "      <th>cholesterol</th>\n",
       "      <th>gluc</th>\n",
       "      <th>smoke</th>\n",
       "      <th>alco</th>\n",
       "      <th>active</th>\n",
       "      <th>cardio</th>\n",
       "    </tr>\n",
       "  </thead>\n",
       "  <tbody>\n",
       "    <tr>\n",
       "      <th>0</th>\n",
       "      <td>0</td>\n",
       "      <td>18393</td>\n",
       "      <td>2</td>\n",
       "      <td>168</td>\n",
       "      <td>62.0</td>\n",
       "      <td>110</td>\n",
       "      <td>80</td>\n",
       "      <td>1</td>\n",
       "      <td>1</td>\n",
       "      <td>0</td>\n",
       "      <td>0</td>\n",
       "      <td>1</td>\n",
       "      <td>0</td>\n",
       "    </tr>\n",
       "    <tr>\n",
       "      <th>1</th>\n",
       "      <td>1</td>\n",
       "      <td>20228</td>\n",
       "      <td>1</td>\n",
       "      <td>156</td>\n",
       "      <td>85.0</td>\n",
       "      <td>140</td>\n",
       "      <td>90</td>\n",
       "      <td>3</td>\n",
       "      <td>1</td>\n",
       "      <td>0</td>\n",
       "      <td>0</td>\n",
       "      <td>1</td>\n",
       "      <td>1</td>\n",
       "    </tr>\n",
       "    <tr>\n",
       "      <th>2</th>\n",
       "      <td>2</td>\n",
       "      <td>18857</td>\n",
       "      <td>1</td>\n",
       "      <td>165</td>\n",
       "      <td>64.0</td>\n",
       "      <td>130</td>\n",
       "      <td>70</td>\n",
       "      <td>3</td>\n",
       "      <td>1</td>\n",
       "      <td>0</td>\n",
       "      <td>0</td>\n",
       "      <td>0</td>\n",
       "      <td>1</td>\n",
       "    </tr>\n",
       "    <tr>\n",
       "      <th>3</th>\n",
       "      <td>3</td>\n",
       "      <td>17623</td>\n",
       "      <td>2</td>\n",
       "      <td>169</td>\n",
       "      <td>82.0</td>\n",
       "      <td>150</td>\n",
       "      <td>100</td>\n",
       "      <td>1</td>\n",
       "      <td>1</td>\n",
       "      <td>0</td>\n",
       "      <td>0</td>\n",
       "      <td>1</td>\n",
       "      <td>1</td>\n",
       "    </tr>\n",
       "    <tr>\n",
       "      <th>4</th>\n",
       "      <td>4</td>\n",
       "      <td>17474</td>\n",
       "      <td>1</td>\n",
       "      <td>156</td>\n",
       "      <td>56.0</td>\n",
       "      <td>100</td>\n",
       "      <td>60</td>\n",
       "      <td>1</td>\n",
       "      <td>1</td>\n",
       "      <td>0</td>\n",
       "      <td>0</td>\n",
       "      <td>0</td>\n",
       "      <td>0</td>\n",
       "    </tr>\n",
       "  </tbody>\n",
       "</table>\n",
       "</div>"
      ],
      "text/plain": [
       "   id    age  gender  height  weight  ap_hi  ap_lo  cholesterol  gluc  smoke  \\\n",
       "0   0  18393       2     168    62.0    110     80            1     1      0   \n",
       "1   1  20228       1     156    85.0    140     90            3     1      0   \n",
       "2   2  18857       1     165    64.0    130     70            3     1      0   \n",
       "3   3  17623       2     169    82.0    150    100            1     1      0   \n",
       "4   4  17474       1     156    56.0    100     60            1     1      0   \n",
       "\n",
       "   alco  active  cardio  \n",
       "0     0       1       0  \n",
       "1     0       1       1  \n",
       "2     0       0       1  \n",
       "3     0       1       1  \n",
       "4     0       0       0  "
      ]
     },
     "execution_count": 6,
     "metadata": {},
     "output_type": "execute_result"
    }
   ],
   "source": [
    "dados.head()"
   ]
  },
  {
   "cell_type": "code",
   "execution_count": 7,
   "metadata": {},
   "outputs": [],
   "source": [
    "dados = dados.drop('id',axis=1)"
   ]
  },
  {
   "cell_type": "code",
   "execution_count": 8,
   "metadata": {},
   "outputs": [
    {
     "data": {
      "text/html": [
       "<div>\n",
       "<style scoped>\n",
       "    .dataframe tbody tr th:only-of-type {\n",
       "        vertical-align: middle;\n",
       "    }\n",
       "\n",
       "    .dataframe tbody tr th {\n",
       "        vertical-align: top;\n",
       "    }\n",
       "\n",
       "    .dataframe thead th {\n",
       "        text-align: right;\n",
       "    }\n",
       "</style>\n",
       "<table border=\"1\" class=\"dataframe\">\n",
       "  <thead>\n",
       "    <tr style=\"text-align: right;\">\n",
       "      <th></th>\n",
       "      <th>age</th>\n",
       "      <th>gender</th>\n",
       "      <th>height</th>\n",
       "      <th>weight</th>\n",
       "      <th>ap_hi</th>\n",
       "      <th>ap_lo</th>\n",
       "      <th>cholesterol</th>\n",
       "      <th>gluc</th>\n",
       "      <th>smoke</th>\n",
       "      <th>alco</th>\n",
       "      <th>active</th>\n",
       "      <th>cardio</th>\n",
       "    </tr>\n",
       "  </thead>\n",
       "  <tbody>\n",
       "    <tr>\n",
       "      <th>0</th>\n",
       "      <td>18393</td>\n",
       "      <td>2</td>\n",
       "      <td>168</td>\n",
       "      <td>62.0</td>\n",
       "      <td>110</td>\n",
       "      <td>80</td>\n",
       "      <td>1</td>\n",
       "      <td>1</td>\n",
       "      <td>0</td>\n",
       "      <td>0</td>\n",
       "      <td>1</td>\n",
       "      <td>0</td>\n",
       "    </tr>\n",
       "    <tr>\n",
       "      <th>1</th>\n",
       "      <td>20228</td>\n",
       "      <td>1</td>\n",
       "      <td>156</td>\n",
       "      <td>85.0</td>\n",
       "      <td>140</td>\n",
       "      <td>90</td>\n",
       "      <td>3</td>\n",
       "      <td>1</td>\n",
       "      <td>0</td>\n",
       "      <td>0</td>\n",
       "      <td>1</td>\n",
       "      <td>1</td>\n",
       "    </tr>\n",
       "    <tr>\n",
       "      <th>2</th>\n",
       "      <td>18857</td>\n",
       "      <td>1</td>\n",
       "      <td>165</td>\n",
       "      <td>64.0</td>\n",
       "      <td>130</td>\n",
       "      <td>70</td>\n",
       "      <td>3</td>\n",
       "      <td>1</td>\n",
       "      <td>0</td>\n",
       "      <td>0</td>\n",
       "      <td>0</td>\n",
       "      <td>1</td>\n",
       "    </tr>\n",
       "    <tr>\n",
       "      <th>3</th>\n",
       "      <td>17623</td>\n",
       "      <td>2</td>\n",
       "      <td>169</td>\n",
       "      <td>82.0</td>\n",
       "      <td>150</td>\n",
       "      <td>100</td>\n",
       "      <td>1</td>\n",
       "      <td>1</td>\n",
       "      <td>0</td>\n",
       "      <td>0</td>\n",
       "      <td>1</td>\n",
       "      <td>1</td>\n",
       "    </tr>\n",
       "    <tr>\n",
       "      <th>4</th>\n",
       "      <td>17474</td>\n",
       "      <td>1</td>\n",
       "      <td>156</td>\n",
       "      <td>56.0</td>\n",
       "      <td>100</td>\n",
       "      <td>60</td>\n",
       "      <td>1</td>\n",
       "      <td>1</td>\n",
       "      <td>0</td>\n",
       "      <td>0</td>\n",
       "      <td>0</td>\n",
       "      <td>0</td>\n",
       "    </tr>\n",
       "  </tbody>\n",
       "</table>\n",
       "</div>"
      ],
      "text/plain": [
       "     age  gender  height  weight  ap_hi  ap_lo  cholesterol  gluc  smoke  \\\n",
       "0  18393       2     168    62.0    110     80            1     1      0   \n",
       "1  20228       1     156    85.0    140     90            3     1      0   \n",
       "2  18857       1     165    64.0    130     70            3     1      0   \n",
       "3  17623       2     169    82.0    150    100            1     1      0   \n",
       "4  17474       1     156    56.0    100     60            1     1      0   \n",
       "\n",
       "   alco  active  cardio  \n",
       "0     0       1       0  \n",
       "1     0       1       1  \n",
       "2     0       0       1  \n",
       "3     0       1       1  \n",
       "4     0       0       0  "
      ]
     },
     "execution_count": 8,
     "metadata": {},
     "output_type": "execute_result"
    }
   ],
   "source": [
    "dados.head()"
   ]
  },
  {
   "cell_type": "code",
   "execution_count": 9,
   "metadata": {},
   "outputs": [
    {
     "data": {
      "text/plain": [
       "24"
      ]
     },
     "execution_count": 9,
     "metadata": {},
     "output_type": "execute_result"
    }
   ],
   "source": [
    "dados.duplicated().sum()"
   ]
  },
  {
   "cell_type": "code",
   "execution_count": 10,
   "metadata": {},
   "outputs": [],
   "source": [
    "dados = dados.drop_duplicates()"
   ]
  },
  {
   "cell_type": "code",
   "execution_count": 11,
   "metadata": {},
   "outputs": [],
   "source": [
    "dados['age'] = dados['age']/365"
   ]
  },
  {
   "cell_type": "code",
   "execution_count": 12,
   "metadata": {},
   "outputs": [
    {
     "data": {
      "text/html": [
       "<div>\n",
       "<style scoped>\n",
       "    .dataframe tbody tr th:only-of-type {\n",
       "        vertical-align: middle;\n",
       "    }\n",
       "\n",
       "    .dataframe tbody tr th {\n",
       "        vertical-align: top;\n",
       "    }\n",
       "\n",
       "    .dataframe thead th {\n",
       "        text-align: right;\n",
       "    }\n",
       "</style>\n",
       "<table border=\"1\" class=\"dataframe\">\n",
       "  <thead>\n",
       "    <tr style=\"text-align: right;\">\n",
       "      <th></th>\n",
       "      <th>age</th>\n",
       "      <th>gender</th>\n",
       "      <th>height</th>\n",
       "      <th>weight</th>\n",
       "      <th>ap_hi</th>\n",
       "      <th>ap_lo</th>\n",
       "      <th>cholesterol</th>\n",
       "      <th>gluc</th>\n",
       "      <th>smoke</th>\n",
       "      <th>alco</th>\n",
       "      <th>active</th>\n",
       "      <th>cardio</th>\n",
       "    </tr>\n",
       "  </thead>\n",
       "  <tbody>\n",
       "    <tr>\n",
       "      <th>0</th>\n",
       "      <td>50.391781</td>\n",
       "      <td>2</td>\n",
       "      <td>168</td>\n",
       "      <td>62.0</td>\n",
       "      <td>110</td>\n",
       "      <td>80</td>\n",
       "      <td>1</td>\n",
       "      <td>1</td>\n",
       "      <td>0</td>\n",
       "      <td>0</td>\n",
       "      <td>1</td>\n",
       "      <td>0</td>\n",
       "    </tr>\n",
       "    <tr>\n",
       "      <th>1</th>\n",
       "      <td>55.419178</td>\n",
       "      <td>1</td>\n",
       "      <td>156</td>\n",
       "      <td>85.0</td>\n",
       "      <td>140</td>\n",
       "      <td>90</td>\n",
       "      <td>3</td>\n",
       "      <td>1</td>\n",
       "      <td>0</td>\n",
       "      <td>0</td>\n",
       "      <td>1</td>\n",
       "      <td>1</td>\n",
       "    </tr>\n",
       "    <tr>\n",
       "      <th>2</th>\n",
       "      <td>51.663014</td>\n",
       "      <td>1</td>\n",
       "      <td>165</td>\n",
       "      <td>64.0</td>\n",
       "      <td>130</td>\n",
       "      <td>70</td>\n",
       "      <td>3</td>\n",
       "      <td>1</td>\n",
       "      <td>0</td>\n",
       "      <td>0</td>\n",
       "      <td>0</td>\n",
       "      <td>1</td>\n",
       "    </tr>\n",
       "    <tr>\n",
       "      <th>3</th>\n",
       "      <td>48.282192</td>\n",
       "      <td>2</td>\n",
       "      <td>169</td>\n",
       "      <td>82.0</td>\n",
       "      <td>150</td>\n",
       "      <td>100</td>\n",
       "      <td>1</td>\n",
       "      <td>1</td>\n",
       "      <td>0</td>\n",
       "      <td>0</td>\n",
       "      <td>1</td>\n",
       "      <td>1</td>\n",
       "    </tr>\n",
       "    <tr>\n",
       "      <th>4</th>\n",
       "      <td>47.873973</td>\n",
       "      <td>1</td>\n",
       "      <td>156</td>\n",
       "      <td>56.0</td>\n",
       "      <td>100</td>\n",
       "      <td>60</td>\n",
       "      <td>1</td>\n",
       "      <td>1</td>\n",
       "      <td>0</td>\n",
       "      <td>0</td>\n",
       "      <td>0</td>\n",
       "      <td>0</td>\n",
       "    </tr>\n",
       "  </tbody>\n",
       "</table>\n",
       "</div>"
      ],
      "text/plain": [
       "         age  gender  height  weight  ap_hi  ap_lo  cholesterol  gluc  smoke  \\\n",
       "0  50.391781       2     168    62.0    110     80            1     1      0   \n",
       "1  55.419178       1     156    85.0    140     90            3     1      0   \n",
       "2  51.663014       1     165    64.0    130     70            3     1      0   \n",
       "3  48.282192       2     169    82.0    150    100            1     1      0   \n",
       "4  47.873973       1     156    56.0    100     60            1     1      0   \n",
       "\n",
       "   alco  active  cardio  \n",
       "0     0       1       0  \n",
       "1     0       1       1  \n",
       "2     0       0       1  \n",
       "3     0       1       1  \n",
       "4     0       0       0  "
      ]
     },
     "execution_count": 12,
     "metadata": {},
     "output_type": "execute_result"
    }
   ],
   "source": [
    "dados.head()"
   ]
  },
  {
   "cell_type": "code",
   "execution_count": 13,
   "metadata": {},
   "outputs": [
    {
     "name": "stdout",
     "output_type": "stream",
     "text": [
      "<class 'pandas.core.frame.DataFrame'>\n",
      "Int64Index: 69976 entries, 0 to 69999\n",
      "Data columns (total 12 columns):\n",
      " #   Column       Non-Null Count  Dtype  \n",
      "---  ------       --------------  -----  \n",
      " 0   age          69976 non-null  float64\n",
      " 1   gender       69976 non-null  int64  \n",
      " 2   height       69976 non-null  int64  \n",
      " 3   weight       69976 non-null  float64\n",
      " 4   ap_hi        69976 non-null  int64  \n",
      " 5   ap_lo        69976 non-null  int64  \n",
      " 6   cholesterol  69976 non-null  int64  \n",
      " 7   gluc         69976 non-null  int64  \n",
      " 8   smoke        69976 non-null  int64  \n",
      " 9   alco         69976 non-null  int64  \n",
      " 10  active       69976 non-null  int64  \n",
      " 11  cardio       69976 non-null  int64  \n",
      "dtypes: float64(2), int64(10)\n",
      "memory usage: 6.9 MB\n"
     ]
    }
   ],
   "source": [
    "dados.info()"
   ]
  },
  {
   "cell_type": "code",
   "execution_count": 14,
   "metadata": {},
   "outputs": [
    {
     "data": {
      "text/plain": [
       "age            0\n",
       "gender         0\n",
       "height         0\n",
       "weight         0\n",
       "ap_hi          0\n",
       "ap_lo          0\n",
       "cholesterol    0\n",
       "gluc           0\n",
       "smoke          0\n",
       "alco           0\n",
       "active         0\n",
       "cardio         0\n",
       "dtype: int64"
      ]
     },
     "execution_count": 14,
     "metadata": {},
     "output_type": "execute_result"
    }
   ],
   "source": [
    "dados.isna().sum()"
   ]
  },
  {
   "cell_type": "code",
   "execution_count": 15,
   "metadata": {},
   "outputs": [],
   "source": [
    "dados['bmi'] = dados[\"weight\"]/(dados[\"height\"]/100)**2"
   ]
  },
  {
   "cell_type": "code",
   "execution_count": 16,
   "metadata": {},
   "outputs": [],
   "source": [
    "num_colunas = dados.shape[1]"
   ]
  },
  {
   "cell_type": "code",
   "execution_count": 17,
   "metadata": {},
   "outputs": [],
   "source": [
    "corr = dados.corr()"
   ]
  },
  {
   "cell_type": "code",
   "execution_count": 18,
   "metadata": {},
   "outputs": [
    {
     "data": {
      "text/plain": [
       "<matplotlib.axes._subplots.AxesSubplot at 0x119526c50>"
      ]
     },
     "execution_count": 18,
     "metadata": {},
     "output_type": "execute_result"
    },
    {
     "data": {
      "image/png": "[encoded data removed]",
      "text/plain": [
       "<Figure size 720x720 with 2 Axes>"
      ]
     },
     "metadata": {
      "needs_background": "light"
     },
     "output_type": "display_data"
    }
   ],
   "source": [
    "f,ax = plt.subplots(figsize=(10, 10))\n",
    "sns.heatmap(corr, annot=True, linewidths=.5, fmt= '.1f',ax=ax)"
   ]
  },
  {
   "cell_type": "code",
   "execution_count": 19,
   "metadata": {},
   "outputs": [],
   "source": [
    "dados = dados[(dados[\"ap_hi\"]<=250) & (dados[\"ap_lo\"]<=200)]"
   ]
  },
  {
   "cell_type": "code",
   "execution_count": 20,
   "metadata": {},
   "outputs": [],
   "source": [
    "dados = dados[(dados[\"ap_hi\"] >= 0) & (dados[\"ap_lo\"] >= 0)]"
   ]
  },
  {
   "cell_type": "code",
   "execution_count": 21,
   "metadata": {},
   "outputs": [
    {
     "data": {
      "text/plain": [
       "<matplotlib.axes._subplots.AxesSubplot at 0x1a3ce11390>"
      ]
     },
     "execution_count": 21,
     "metadata": {},
     "output_type": "execute_result"
    },
    {
     "data": {
      "image/png": "[encoded data removed]",
      "text/plain": [
       "<Figure size 720x720 with 2 Axes>"
      ]
     },
     "metadata": {
      "needs_background": "light"
     },
     "output_type": "display_data"
    }
   ],
   "source": [
    "corr = dados.corr()\n",
    "f,ax = plt.subplots(figsize=(10, 10))\n",
    "sns.heatmap(corr, annot=True, linewidths=.5, fmt= '.1f',ax=ax)"
   ]
  },
  {
   "cell_type": "code",
   "execution_count": 22,
   "metadata": {},
   "outputs": [
    {
     "data": {
      "text/plain": [
       "<matplotlib.axes._subplots.AxesSubplot at 0x1a3cda2290>"
      ]
     },
     "execution_count": 22,
     "metadata": {},
     "output_type": "execute_result"
    },
    {
     "data": {
      "image/png": "[encoded data removed]",
      "text/plain": [
       "<Figure size 432x288 with 1 Axes>"
      ]
     },
     "metadata": {
      "needs_background": "light"
     },
     "output_type": "display_data"
    }
   ],
   "source": [
    "sns.countplot(x='cardio',data=dados)"
   ]
  },
  {
   "cell_type": "code",
   "execution_count": 23,
   "metadata": {},
   "outputs": [
    {
     "data": {
      "image/png": "[encoded data removed]",
      "text/plain": [
       "<Figure size 936x360 with 6 Axes>"
      ]
     },
     "metadata": {
      "needs_background": "light"
     },
     "output_type": "display_data"
    }
   ],
   "source": [
    "fig,ax = plt.subplots(2,3,figsize=(13,5))\n",
    "sns.countplot(x='gender',data=dados,ax=ax[0][0])\n",
    "sns.countplot(x='cholesterol',data=dados,ax=ax[0][1])\n",
    "sns.countplot(x='smoke',data=dados,ax=ax[0][2])\n",
    "sns.countplot(x='gluc',data=dados,ax=ax[1][0])\n",
    "sns.countplot(x='alco',data=dados,ax=ax[1][1])\n",
    "sns.countplot(x='active',data=dados,ax=ax[1][2])\n",
    "plt.tight_layout()"
   ]
  },
  {
   "cell_type": "code",
   "execution_count": 24,
   "metadata": {},
   "outputs": [
    {
     "name": "stdout",
     "output_type": "stream",
     "text": [
      "Maximum age =  64.96712328767123\n",
      "Minimum age =  29.583561643835615\n"
     ]
    }
   ],
   "source": [
    "print(\"Maximum age = \",dados['age'].max())\n",
    "print(\"Minimum age = \",dados['age'].min())"
   ]
  },
  {
   "cell_type": "code",
   "execution_count": 25,
   "metadata": {},
   "outputs": [
    {
     "name": "stdout",
     "output_type": "stream",
     "text": [
      "Maximum height =  250\n",
      "Minimum height =  55\n"
     ]
    }
   ],
   "source": [
    "print(\"Maximum height = \",dados['height'].max())\n",
    "print(\"Minimum height = \",dados['height'].min())"
   ]
  },
  {
   "cell_type": "code",
   "execution_count": 26,
   "metadata": {},
   "outputs": [
    {
     "name": "stdout",
     "output_type": "stream",
     "text": [
      "Maximum ap_high =  240\n",
      "Minimum ap_high =  7\n"
     ]
    }
   ],
   "source": [
    "print(\"Maximum ap_high = \",dados['ap_hi'].max())\n",
    "print(\"Minimum ap_high = \",dados['ap_hi'].min())"
   ]
  },
  {
   "cell_type": "code",
   "execution_count": 27,
   "metadata": {},
   "outputs": [
    {
     "name": "stdout",
     "output_type": "stream",
     "text": [
      "Maximum ap_low =  190\n",
      "Minimum ap_low =  0\n"
     ]
    }
   ],
   "source": [
    "print(\"Maximum ap_low = \",dados['ap_lo'].max())\n",
    "print(\"Minimum ap_low = \",dados['ap_lo'].min())"
   ]
  },
  {
   "cell_type": "code",
   "execution_count": 28,
   "metadata": {},
   "outputs": [],
   "source": [
    "colunas_normalizar = ['ap_hi','ap_lo','age','height','weight']"
   ]
  },
  {
   "cell_type": "code",
   "execution_count": 29,
   "metadata": {},
   "outputs": [],
   "source": [
    "dados_norm = dados.copy()"
   ]
  },
  {
   "cell_type": "code",
   "execution_count": 30,
   "metadata": {},
   "outputs": [],
   "source": [
    "tipo_scaler = 'MinMax'\n",
    "if(tipo_scaler=='Standard'):\n",
    "    scaler = StandardScaler((0,1))\n",
    "elif(tipo_scaler=='Robust'):\n",
    "    scaler = RobustScaler()\n",
    "elif(tipo_scaler=='MinMax'):\n",
    "    scaler = MinMaxScaler(feature_range=(0, 1))\n",
    "\n",
    "for col in colunas_normalizar:\n",
    "    dados_norm[col] = scaler.fit_transform(dados_norm[col].values.reshape(-1,1))"
   ]
  },
  {
   "cell_type": "code",
   "execution_count": 31,
   "metadata": {},
   "outputs": [
    {
     "data": {
      "text/html": [
       "<div>\n",
       "<style scoped>\n",
       "    .dataframe tbody tr th:only-of-type {\n",
       "        vertical-align: middle;\n",
       "    }\n",
       "\n",
       "    .dataframe tbody tr th {\n",
       "        vertical-align: top;\n",
       "    }\n",
       "\n",
       "    .dataframe thead th {\n",
       "        text-align: right;\n",
       "    }\n",
       "</style>\n",
       "<table border=\"1\" class=\"dataframe\">\n",
       "  <thead>\n",
       "    <tr style=\"text-align: right;\">\n",
       "      <th></th>\n",
       "      <th>age</th>\n",
       "      <th>gender</th>\n",
       "      <th>height</th>\n",
       "      <th>weight</th>\n",
       "      <th>ap_hi</th>\n",
       "      <th>ap_lo</th>\n",
       "      <th>cholesterol</th>\n",
       "      <th>gluc</th>\n",
       "      <th>smoke</th>\n",
       "      <th>alco</th>\n",
       "      <th>active</th>\n",
       "      <th>cardio</th>\n",
       "      <th>bmi</th>\n",
       "    </tr>\n",
       "  </thead>\n",
       "  <tbody>\n",
       "    <tr>\n",
       "      <th>0</th>\n",
       "      <td>0.588076</td>\n",
       "      <td>2</td>\n",
       "      <td>0.579487</td>\n",
       "      <td>0.269841</td>\n",
       "      <td>0.442060</td>\n",
       "      <td>0.421053</td>\n",
       "      <td>1</td>\n",
       "      <td>1</td>\n",
       "      <td>0</td>\n",
       "      <td>0</td>\n",
       "      <td>1</td>\n",
       "      <td>0</td>\n",
       "      <td>21.967120</td>\n",
       "    </tr>\n",
       "    <tr>\n",
       "      <th>1</th>\n",
       "      <td>0.730159</td>\n",
       "      <td>1</td>\n",
       "      <td>0.517949</td>\n",
       "      <td>0.391534</td>\n",
       "      <td>0.570815</td>\n",
       "      <td>0.473684</td>\n",
       "      <td>3</td>\n",
       "      <td>1</td>\n",
       "      <td>0</td>\n",
       "      <td>0</td>\n",
       "      <td>1</td>\n",
       "      <td>1</td>\n",
       "      <td>34.927679</td>\n",
       "    </tr>\n",
       "    <tr>\n",
       "      <th>2</th>\n",
       "      <td>0.624003</td>\n",
       "      <td>1</td>\n",
       "      <td>0.564103</td>\n",
       "      <td>0.280423</td>\n",
       "      <td>0.527897</td>\n",
       "      <td>0.368421</td>\n",
       "      <td>3</td>\n",
       "      <td>1</td>\n",
       "      <td>0</td>\n",
       "      <td>0</td>\n",
       "      <td>0</td>\n",
       "      <td>1</td>\n",
       "      <td>23.507805</td>\n",
       "    </tr>\n",
       "    <tr>\n",
       "      <th>3</th>\n",
       "      <td>0.528455</td>\n",
       "      <td>2</td>\n",
       "      <td>0.584615</td>\n",
       "      <td>0.375661</td>\n",
       "      <td>0.613734</td>\n",
       "      <td>0.526316</td>\n",
       "      <td>1</td>\n",
       "      <td>1</td>\n",
       "      <td>0</td>\n",
       "      <td>0</td>\n",
       "      <td>1</td>\n",
       "      <td>1</td>\n",
       "      <td>28.710479</td>\n",
       "    </tr>\n",
       "    <tr>\n",
       "      <th>4</th>\n",
       "      <td>0.516918</td>\n",
       "      <td>1</td>\n",
       "      <td>0.517949</td>\n",
       "      <td>0.238095</td>\n",
       "      <td>0.399142</td>\n",
       "      <td>0.315789</td>\n",
       "      <td>1</td>\n",
       "      <td>1</td>\n",
       "      <td>0</td>\n",
       "      <td>0</td>\n",
       "      <td>0</td>\n",
       "      <td>0</td>\n",
       "      <td>23.011177</td>\n",
       "    </tr>\n",
       "  </tbody>\n",
       "</table>\n",
       "</div>"
      ],
      "text/plain": [
       "        age  gender    height    weight     ap_hi     ap_lo  cholesterol  \\\n",
       "0  0.588076       2  0.579487  0.269841  0.442060  0.421053            1   \n",
       "1  0.730159       1  0.517949  0.391534  0.570815  0.473684            3   \n",
       "2  0.624003       1  0.564103  0.280423  0.527897  0.368421            3   \n",
       "3  0.528455       2  0.584615  0.375661  0.613734  0.526316            1   \n",
       "4  0.516918       1  0.517949  0.238095  0.399142  0.315789            1   \n",
       "\n",
       "   gluc  smoke  alco  active  cardio        bmi  \n",
       "0     1      0     0       1       0  21.967120  \n",
       "1     1      0     0       1       1  34.927679  \n",
       "2     1      0     0       0       1  23.507805  \n",
       "3     1      0     0       1       1  28.710479  \n",
       "4     1      0     0       0       0  23.011177  "
      ]
     },
     "execution_count": 31,
     "metadata": {},
     "output_type": "execute_result"
    }
   ],
   "source": [
    "dados_norm.head()"
   ]
  },
  {
   "cell_type": "code",
   "execution_count": 32,
   "metadata": {},
   "outputs": [
    {
     "data": {
      "image/png": "[encoded data removed]",
      "text/plain": [
       "<Figure size 936x360 with 2 Axes>"
      ]
     },
     "metadata": {
      "needs_background": "light"
     },
     "output_type": "display_data"
    }
   ],
   "source": [
    "fig,ax = plt.subplots(1,2,figsize=(13,5))\n",
    "sns.boxplot(y=dados_norm['ap_hi'],x=dados_norm['cardio'],ax=ax[0])\n",
    "sns.boxplot(y=dados_norm['ap_lo'],x=dados_norm['cardio'],ax=ax[1])\n",
    "plt.tight_layout()"
   ]
  },
  {
   "cell_type": "code",
   "execution_count": 33,
   "metadata": {},
   "outputs": [
    {
     "data": {
      "image/png": "[encoded data removed]",
      "text/plain": [
       "<Figure size 936x360 with 3 Axes>"
      ]
     },
     "metadata": {
      "needs_background": "light"
     },
     "output_type": "display_data"
    }
   ],
   "source": [
    "fig,ax = plt.subplots(1,3,figsize=(13,5))\n",
    "sns.boxplot(y=dados_norm['age'],x=dados_norm['cardio'],ax=ax[0])\n",
    "sns.boxplot(y=dados_norm['height'],x=dados_norm['cardio'],ax=ax[1])\n",
    "sns.boxplot(y=dados_norm['weight'],x=dados_norm['cardio'],ax=ax[2])\n",
    "plt.tight_layout()"
   ]
  },
  {
   "cell_type": "code",
   "execution_count": 34,
   "metadata": {},
   "outputs": [],
   "source": [
    "def remover_outlier(dados,coluna_input,coluna_output,tipo):\n",
    "    dados_tmp = dados[dados[coluna_output]==tipo]\n",
    "    q25, q75 = np.percentile(dados_tmp[coluna_input], 25), np.percentile(dados_tmp[coluna_input], 75)\n",
    "    iqr = q75 - q25\n",
    "    cut_off = iqr * 1.5\n",
    "    x_inferior, x_superior = q25 - cut_off, q75 + cut_off\n",
    "    outliers = [x for x in dados_tmp[coluna_input] if x < x_inferior or x > x_superior]\n",
    "    dados_novo = dados.drop(dados[(dados[coluna_input] > x_superior) | (dados[coluna_input] < x_inferior)].index)\n",
    "    return dados_novo"
   ]
  },
  {
   "cell_type": "code",
   "execution_count": 35,
   "metadata": {},
   "outputs": [],
   "source": [
    "dados_norm = remover_outlier(dados_norm,'ap_hi','cardio',1)"
   ]
  },
  {
   "cell_type": "code",
   "execution_count": 36,
   "metadata": {},
   "outputs": [
    {
     "data": {
      "image/png": "[encoded data removed]",
      "text/plain": [
       "<Figure size 936x360 with 2 Axes>"
      ]
     },
     "metadata": {
      "needs_background": "light"
     },
     "output_type": "display_data"
    }
   ],
   "source": [
    "fig,ax = plt.subplots(1,2,figsize=(13,5))\n",
    "sns.boxplot(y=dados_norm['ap_hi'],x=dados_norm['cardio'],ax=ax[0])\n",
    "sns.boxplot(y=dados_norm['ap_lo'],x=dados_norm['cardio'],ax=ax[1])\n",
    "plt.tight_layout()"
   ]
  },
  {
   "cell_type": "code",
   "execution_count": 37,
   "metadata": {},
   "outputs": [],
   "source": [
    "dados_norm = remover_outlier(dados_norm,'ap_lo','cardio',0)"
   ]
  },
  {
   "cell_type": "code",
   "execution_count": 38,
   "metadata": {},
   "outputs": [
    {
     "data": {
      "image/png": "[encoded data removed]",
      "text/plain": [
       "<Figure size 936x360 with 2 Axes>"
      ]
     },
     "metadata": {
      "needs_background": "light"
     },
     "output_type": "display_data"
    }
   ],
   "source": [
    "fig,ax = plt.subplots(1,2,figsize=(13,5))\n",
    "sns.boxplot(y=dados_norm['ap_hi'],x=dados_norm['cardio'],ax=ax[0])\n",
    "sns.boxplot(y=dados_norm['ap_lo'],x=dados_norm['cardio'],ax=ax[1])\n",
    "plt.tight_layout()"
   ]
  },
  {
   "cell_type": "code",
   "execution_count": 39,
   "metadata": {},
   "outputs": [],
   "source": [
    "dados_norm = remover_outlier(dados_norm,'age','cardio',0)\n",
    "dados_norm = remover_outlier(dados_norm,'height','cardio',0)\n",
    "dados_norm = remover_outlier(dados_norm,'weight','cardio',0)"
   ]
  },
  {
   "cell_type": "code",
   "execution_count": 40,
   "metadata": {},
   "outputs": [
    {
     "data": {
      "image/png": "[encoded data removed]",
      "text/plain": [
       "<Figure size 936x360 with 3 Axes>"
      ]
     },
     "metadata": {
      "needs_background": "light"
     },
     "output_type": "display_data"
    }
   ],
   "source": [
    "fig,ax = plt.subplots(1,3,figsize=(13,5))\n",
    "sns.boxplot(y=dados_norm['age'],x=dados_norm['cardio'],ax=ax[0])\n",
    "sns.boxplot(y=dados_norm['height'],x=dados_norm['cardio'],ax=ax[1])\n",
    "sns.boxplot(y=dados_norm['weight'],x=dados_norm['cardio'],ax=ax[2])\n",
    "plt.tight_layout()"
   ]
  },
  {
   "cell_type": "code",
   "execution_count": 41,
   "metadata": {},
   "outputs": [
    {
     "data": {
      "image/png": "[encoded data removed]",
      "text/plain": [
       "<Figure size 432x288 with 1 Axes>"
      ]
     },
     "metadata": {
      "needs_background": "light"
     },
     "output_type": "display_data"
    }
   ],
   "source": [
    "sns.countplot(x='cardio',data=dados_norm)\n",
    "plt.tight_layout()"
   ]
  },
  {
   "cell_type": "code",
   "execution_count": 42,
   "metadata": {},
   "outputs": [],
   "source": [
    "X = dados_norm.drop('cardio',axis=1).values\n",
    "Y = dados_norm['cardio'].values"
   ]
  },
  {
   "cell_type": "code",
   "execution_count": 43,
   "metadata": {},
   "outputs": [],
   "source": [
    "X_train, X_test, y_train, y_test = train_test_split(X, Y, test_size=0.20,random_state=42)"
   ]
  },
  {
   "cell_type": "code",
   "execution_count": 44,
   "metadata": {},
   "outputs": [],
   "source": [
    "accuracy = []\n",
    "precision =[]\n",
    "recall = []\n",
    "f1 = []\n",
    "roc = []"
   ]
  },
  {
   "cell_type": "markdown",
   "metadata": {},
   "source": [
    "# Logistic Regression"
   ]
  },
  {
   "cell_type": "code",
   "execution_count": 45,
   "metadata": {},
   "outputs": [
    {
     "name": "stdout",
     "output_type": "stream",
     "text": [
      "Logistic Regression\n",
      "Best Estimator\n",
      "LogisticRegression(C=1, class_weight=None, dual=False, fit_intercept=True,\n",
      "                   intercept_scaling=1, l1_ratio=None, max_iter=10000,\n",
      "                   multi_class='auto', n_jobs=None, penalty='l1',\n",
      "                   random_state=None, solver='liblinear', tol=0.0001, verbose=0,\n",
      "                   warm_start=False)\n",
      "Score Regressao Logistica Treino:  78.03%\n",
      "Score Regressao Logistica Teste:  78.13%\n"
     ]
    }
   ],
   "source": [
    "print(\"Logistic Regression\")\n",
    "log_reg_params = {\"penalty\": ['None','l1', 'l2','elasticnet'], 'C': [0.1, 1, 10, 100], \n",
    "                  'solver' : ['newton-cg', 'lbfgs', 'liblinear', 'sag', 'saga']}\n",
    "grid_log_reg = GridSearchCV(LogisticRegression(max_iter=10000), log_reg_params,n_jobs=8,cv=10,scoring='roc_auc_ovo')\n",
    "grid_log_reg.fit(X_train, y_train)\n",
    "logreg = grid_log_reg.best_estimator_\n",
    "log_reg_score = cross_val_score(logreg, X_train, y_train, cv=10,scoring='roc_auc_ovo')\n",
    "log_reg_score_teste = cross_val_score(logreg, X_test, y_test, cv=10,scoring='roc_auc_ovo')\n",
    "print(\"Best Estimator\")\n",
    "print(logreg)\n",
    "print('Score Regressao Logistica Treino: ', round(log_reg_score.mean() * 100, 2).astype(str) + '%')\n",
    "print('Score Regressao Logistica Teste: ', round(log_reg_score_teste.mean() * 100, 2).astype(str) + '%')"
   ]
  },
  {
   "cell_type": "code",
   "execution_count": 46,
   "metadata": {},
   "outputs": [
    {
     "data": {
      "text/plain": [
       "LogisticRegression(C=1, class_weight=None, dual=False, fit_intercept=True,\n",
       "                   intercept_scaling=1, l1_ratio=None, max_iter=10000,\n",
       "                   multi_class='auto', n_jobs=None, penalty='l1',\n",
       "                   random_state=None, solver='liblinear', tol=0.0001, verbose=0,\n",
       "                   warm_start=False)"
      ]
     },
     "execution_count": 46,
     "metadata": {},
     "output_type": "execute_result"
    }
   ],
   "source": [
    "logreg.fit(X_train,y_train)"
   ]
  },
  {
   "cell_type": "code",
   "execution_count": 47,
   "metadata": {},
   "outputs": [],
   "source": [
    "Y_pred_logreg = logreg.predict(X_test)"
   ]
  },
  {
   "cell_type": "code",
   "execution_count": 48,
   "metadata": {},
   "outputs": [],
   "source": [
    "cm_logreg = confusion_matrix(y_test,Y_pred_logreg)"
   ]
  },
  {
   "cell_type": "code",
   "execution_count": 49,
   "metadata": {},
   "outputs": [
    {
     "name": "stdout",
     "output_type": "stream",
     "text": [
      "Acuracia Regressão Logistica  72.09%\n",
      "Precião média Regressão Logistica  62.65%\n",
      "F1 Regressão Logistica  66.82%\n",
      "Recall Regressão Logistica  61.42%\n",
      "ROC Regressão Logistica  71.25%\n"
     ]
    }
   ],
   "source": [
    "acc_score_logreg = accuracy_score(y_test,Y_pred_logreg)\n",
    "f1_score_logreg = f1_score(y_test,Y_pred_logreg)\n",
    "precisao_logreg = average_precision_score(y_test,Y_pred_logreg)\n",
    "recall_logreg = recall_score(y_test,Y_pred_logreg)\n",
    "roc_logreg = roc_auc_score(y_test,Y_pred_logreg,multi_class='ovo')\n",
    "print('Acuracia Regressão Logistica ',round(acc_score_logreg*100,2).astype(str)+'%')\n",
    "print('Precião média Regressão Logistica ',round(precisao_logreg*100,2).astype(str)+'%')\n",
    "print('F1 Regressão Logistica ',round(f1_score_logreg*100,2).astype(str)+'%')\n",
    "print('Recall Regressão Logistica ',round(recall_logreg*100,2).astype(str)+'%')\n",
    "print('ROC Regressão Logistica ',round(roc_logreg*100,2).astype(str)+'%')"
   ]
  },
  {
   "cell_type": "code",
   "execution_count": 50,
   "metadata": {},
   "outputs": [],
   "source": [
    "accuracy.append(acc_score_logreg)\n",
    "precision.append(precisao_logreg)\n",
    "recall.append(recall_logreg)\n",
    "f1.append(f1_score_logreg)\n",
    "roc.append(roc_logreg)"
   ]
  },
  {
   "cell_type": "code",
   "execution_count": 51,
   "metadata": {},
   "outputs": [
    {
     "data": {
      "text/plain": [
       "[Text(0, 0.5, 'B'), Text(0, 1.5, 'M')]"
      ]
     },
     "execution_count": 51,
     "metadata": {},
     "output_type": "execute_result"
    },
    {
     "data": {
      "image/png": "[encoded data removed]",
      "text/plain": [
       "<Figure size 720x432 with 2 Axes>"
      ]
     },
     "metadata": {
      "needs_background": "light"
     },
     "output_type": "display_data"
    }
   ],
   "source": [
    "fig, ax = plt.subplots(figsize=(10,6))\n",
    "sns.heatmap(cm_logreg, ax=ax, annot=True, cmap=plt.cm.copper)\n",
    "ax.set_title(\"Regressão Logistica \\n Matriz de Confusão\", fontsize=14)\n",
    "ax.set_xticklabels(['B', 'M'], fontsize=14, rotation=0)\n",
    "ax.set_yticklabels(['B', 'M'], fontsize=14, rotation=360)"
   ]
  },
  {
   "cell_type": "markdown",
   "metadata": {},
   "source": [
    "# KNN"
   ]
  },
  {
   "cell_type": "code",
   "execution_count": 52,
   "metadata": {},
   "outputs": [
    {
     "name": "stdout",
     "output_type": "stream",
     "text": [
      "KNN\n",
      "Best Estimator\n",
      "KNeighborsClassifier(algorithm='auto', leaf_size=6, metric='minkowski',\n",
      "                     metric_params=None, n_jobs=None, n_neighbors=27, p=2,\n",
      "                     weights='uniform')\n",
      "Score KNN Treino:  72.03%\n",
      "Score KNN Teste:  69.45%\n"
     ]
    }
   ],
   "source": [
    "print(\"KNN\")\n",
    "knears_params = {\"n_neighbors\": list(range(20,30,1)),'leaf_size' : list(range(5,11,1)), 'weights': ['uniform', 'distance']}\n",
    "grid_knears = GridSearchCV(KNeighborsClassifier(), knears_params,n_jobs=8,cv=10,scoring='roc_auc_ovo')\n",
    "grid_knears.fit(X_train, y_train)\n",
    "knn = grid_knears.best_estimator_\n",
    "knears_score = cross_val_score(knn, X_train, y_train, cv=10,scoring='roc_auc_ovo')\n",
    "knears_score_teste = cross_val_score(knn, X_test, y_test, cv=10,scoring='roc_auc_ovo')\n",
    "print(\"Best Estimator\")\n",
    "print(knn)\n",
    "print('Score KNN Treino: ', round(knears_score.mean() * 100, 2).astype(str) + '%')\n",
    "print('Score KNN Teste: ', round(knears_score_teste.mean() * 100, 2).astype(str) + '%')"
   ]
  },
  {
   "cell_type": "code",
   "execution_count": 53,
   "metadata": {},
   "outputs": [
    {
     "data": {
      "text/plain": [
       "KNeighborsClassifier(algorithm='auto', leaf_size=6, metric='minkowski',\n",
       "                     metric_params=None, n_jobs=None, n_neighbors=27, p=2,\n",
       "                     weights='uniform')"
      ]
     },
     "execution_count": 53,
     "metadata": {},
     "output_type": "execute_result"
    }
   ],
   "source": [
    "knn.fit(X_train,y_train)"
   ]
  },
  {
   "cell_type": "code",
   "execution_count": 54,
   "metadata": {},
   "outputs": [],
   "source": [
    "Y_pred_knn = knn.predict(X_test)"
   ]
  },
  {
   "cell_type": "code",
   "execution_count": 55,
   "metadata": {},
   "outputs": [],
   "source": [
    "cm_knn = confusion_matrix(y_test,Y_pred_knn)"
   ]
  },
  {
   "cell_type": "code",
   "execution_count": 56,
   "metadata": {},
   "outputs": [
    {
     "name": "stdout",
     "output_type": "stream",
     "text": [
      "Acuracia KNN  66.9%\n",
      "Precião média KNN  57.31%\n",
      "F1 KNN  60.95%\n",
      "Recall KNN  56.46%\n",
      "ROC KNN  66.08%\n"
     ]
    }
   ],
   "source": [
    "acc_score_knn = accuracy_score(y_test,Y_pred_knn)\n",
    "f1_score_knn = f1_score(y_test,Y_pred_knn)\n",
    "precisao_knn = average_precision_score(y_test,Y_pred_knn)\n",
    "recall_knn = recall_score(y_test,Y_pred_knn)\n",
    "roc_knn = roc_auc_score(y_test,Y_pred_knn,multi_class='ovo')\n",
    "print('Acuracia KNN ',round(acc_score_knn*100,2).astype(str)+'%')\n",
    "print('Precião média KNN ',round(precisao_knn*100,2).astype(str)+'%')\n",
    "print('F1 KNN ',round(f1_score_knn*100,2).astype(str)+'%')\n",
    "print('Recall KNN ',round(recall_knn*100,2).astype(str)+'%')\n",
    "print('ROC KNN ',round(roc_knn*100,2).astype(str)+'%')"
   ]
  },
  {
   "cell_type": "code",
   "execution_count": 57,
   "metadata": {},
   "outputs": [],
   "source": [
    "accuracy.append(acc_score_knn)\n",
    "precision.append(precisao_knn)\n",
    "recall.append(recall_knn)\n",
    "f1.append(f1_score_knn)\n",
    "roc.append(roc_knn)"
   ]
  },
  {
   "cell_type": "code",
   "execution_count": 58,
   "metadata": {},
   "outputs": [
    {
     "data": {
      "text/plain": [
       "[Text(0, 0.5, 'B'), Text(0, 1.5, 'M')]"
      ]
     },
     "execution_count": 58,
     "metadata": {},
     "output_type": "execute_result"
    },
    {
     "data": {
      "image/png": "[encoded data removed]",
      "text/plain": [
       "<Figure size 720x432 with 2 Axes>"
      ]
     },
     "metadata": {
      "needs_background": "light"
     },
     "output_type": "display_data"
    }
   ],
   "source": [
    "fig, ax = plt.subplots(figsize=(10,6))\n",
    "sns.heatmap(cm_knn, ax=ax, annot=True, cmap=plt.cm.copper)\n",
    "ax.set_title(\"KNN \\n Matriz de Confusão\", fontsize=14)\n",
    "ax.set_xticklabels(['B', 'M'], fontsize=14, rotation=0)\n",
    "ax.set_yticklabels(['B', 'M'], fontsize=14, rotation=360)"
   ]
  },
  {
   "cell_type": "markdown",
   "metadata": {},
   "source": [
    "# Ada Boost Classifier"
   ]
  },
  {
   "cell_type": "code",
   "execution_count": 59,
   "metadata": {},
   "outputs": [
    {
     "name": "stdout",
     "output_type": "stream",
     "text": [
      "Ada Boost Classifier\n",
      "Best Estimator\n",
      "AdaBoostClassifier(algorithm='SAMME.R', base_estimator=None, learning_rate=1.0,\n",
      "                   n_estimators=102, random_state=None)\n",
      "Score AdaBoost Treino:  78.47%\n",
      "Score AdaBoost Teste:  78.22%\n"
     ]
    }
   ],
   "source": [
    "print(\"Ada Boost Classifier\")\n",
    "ada_params = {'n_estimators' : list(range(100,200))}\n",
    "grid_ada = GridSearchCV(AdaBoostClassifier(), ada_params,n_jobs=8,cv=10,scoring='roc_auc_ovo')\n",
    "grid_ada.fit(X_train, y_train)\n",
    "ada = grid_ada.best_estimator_\n",
    "print(\"Best Estimator\")\n",
    "print(ada)\n",
    "ada_score = cross_val_score(ada, X_train, y_train, cv=10,scoring='roc_auc_ovo')\n",
    "ada_score_teste = cross_val_score(ada, X_test, y_test, cv=10,scoring='roc_auc_ovo')\n",
    "print('Score AdaBoost Treino: ', round(ada_score.mean() * 100, 2).astype(str) + '%')\n",
    "print('Score AdaBoost Teste: ', round(ada_score_teste.mean() * 100, 2).astype(str) + '%')"
   ]
  },
  {
   "cell_type": "code",
   "execution_count": 60,
   "metadata": {},
   "outputs": [
    {
     "data": {
      "text/plain": [
       "AdaBoostClassifier(algorithm='SAMME.R', base_estimator=None, learning_rate=1.0,\n",
       "                   n_estimators=102, random_state=None)"
      ]
     },
     "execution_count": 60,
     "metadata": {},
     "output_type": "execute_result"
    }
   ],
   "source": [
    "ada.fit(X_train,y_train)"
   ]
  },
  {
   "cell_type": "code",
   "execution_count": 61,
   "metadata": {},
   "outputs": [],
   "source": [
    "Y_pred_ada = ada.predict(X_test)"
   ]
  },
  {
   "cell_type": "code",
   "execution_count": 62,
   "metadata": {},
   "outputs": [],
   "source": [
    "cm_ada = confusion_matrix(y_test,Y_pred_ada)"
   ]
  },
  {
   "cell_type": "code",
   "execution_count": 63,
   "metadata": {},
   "outputs": [
    {
     "name": "stdout",
     "output_type": "stream",
     "text": [
      "Acuracia ADA Boost  72.28%\n",
      "Precião média Ada Boost  63.03%\n",
      "F1 Ada Boost  66.24%\n",
      "Recall Ada Boost  59.43%\n",
      "ROC Ada Boost  71.28%\n"
     ]
    }
   ],
   "source": [
    "acc_score_ada = accuracy_score(y_test,Y_pred_ada)\n",
    "f1_score_ada = f1_score(y_test,Y_pred_ada)\n",
    "precisao_ada = average_precision_score(y_test,Y_pred_ada)\n",
    "recall_ada = recall_score(y_test,Y_pred_ada)\n",
    "roc_ada = roc_auc_score(y_test,Y_pred_ada,multi_class='ovo')\n",
    "print('Acuracia ADA Boost ',round(acc_score_ada*100,2).astype(str)+'%')\n",
    "print('Precião média Ada Boost ',round(precisao_ada*100,2).astype(str)+'%')\n",
    "print('F1 Ada Boost ',round(f1_score_ada*100,2).astype(str)+'%')\n",
    "print('Recall Ada Boost ',round(recall_ada*100,2).astype(str)+'%')\n",
    "print('ROC Ada Boost ',round(roc_ada*100,2).astype(str)+'%')"
   ]
  },
  {
   "cell_type": "code",
   "execution_count": 64,
   "metadata": {},
   "outputs": [],
   "source": [
    "accuracy.append(acc_score_ada)\n",
    "precision.append(precisao_ada)\n",
    "recall.append(recall_ada)\n",
    "f1.append(f1_score_ada)\n",
    "roc.append(roc_ada)"
   ]
  },
  {
   "cell_type": "code",
   "execution_count": 65,
   "metadata": {},
   "outputs": [
    {
     "data": {
      "text/plain": [
       "[Text(0, 0.5, 'B'), Text(0, 1.5, 'M')]"
      ]
     },
     "execution_count": 65,
     "metadata": {},
     "output_type": "execute_result"
    },
    {
     "data": {
      "image/png": "[encoded data removed]",
      "text/plain": [
       "<Figure size 720x432 with 2 Axes>"
      ]
     },
     "metadata": {
      "needs_background": "light"
     },
     "output_type": "display_data"
    }
   ],
   "source": [
    "fig, ax = plt.subplots(figsize=(10,6))\n",
    "sns.heatmap(cm_ada, ax=ax, annot=True, cmap=plt.cm.copper)\n",
    "ax.set_title(\"Ada Boost \\n Matriz de Confusão\", fontsize=14)\n",
    "ax.set_xticklabels(['B', 'M'], fontsize=14, rotation=0)\n",
    "ax.set_yticklabels(['B', 'M'], fontsize=14, rotation=360)"
   ]
  },
  {
   "cell_type": "markdown",
   "metadata": {},
   "source": [
    "# Random Forest Classifier"
   ]
  },
  {
   "cell_type": "code",
   "execution_count": 66,
   "metadata": {},
   "outputs": [
    {
     "name": "stdout",
     "output_type": "stream",
     "text": [
      "Random Forest Classifier\n",
      "Best Estimator\n",
      "RandomForestClassifier(bootstrap=True, ccp_alpha=0.0, class_weight=None,\n",
      "                       criterion='gini', max_depth=10, max_features='auto',\n",
      "                       max_leaf_nodes=None, max_samples=None,\n",
      "                       min_impurity_decrease=0.0, min_impurity_split=None,\n",
      "                       min_samples_leaf=1, min_samples_split=2,\n",
      "                       min_weight_fraction_leaf=0.0, n_estimators=400,\n",
      "                       n_jobs=None, oob_score=False, random_state=None,\n",
      "                       verbose=0, warm_start=False)\n",
      "Score RFC Treino:  78.95%\n",
      "Score RFC Teste:  78.82%\n"
     ]
    }
   ],
   "source": [
    "print(\"Random Forest Classifier\")\n",
    "forest_params = {\"max_depth\": list(range(5,50,1)),\"n_estimators\" : [150,200,250,300,350,400]}\n",
    "forest = GridSearchCV(RandomForestClassifier(), forest_params,n_jobs=8,cv=10,scoring='roc_auc_ovo')\n",
    "forest.fit(X_train, y_train)\n",
    "random_forest = forest.best_estimator_\n",
    "print(\"Best Estimator\")\n",
    "print(random_forest)\n",
    "forest_score = cross_val_score(random_forest, X_train, y_train, cv=10,scoring='roc_auc_ovo')\n",
    "forest_score_teste = cross_val_score(random_forest, X_test, y_test, cv=10,scoring='roc_auc_ovo')\n",
    "print('Score RFC Treino: ', round(forest_score.mean() * 100, 2).astype(str) + '%')\n",
    "print('Score RFC Teste: ', round(forest_score_teste.mean() * 100, 2).astype(str) + '%')"
   ]
  },
  {
   "cell_type": "code",
   "execution_count": 67,
   "metadata": {},
   "outputs": [
    {
     "data": {
      "text/plain": [
       "RandomForestClassifier(bootstrap=True, ccp_alpha=0.0, class_weight=None,\n",
       "                       criterion='gini', max_depth=10, max_features='auto',\n",
       "                       max_leaf_nodes=None, max_samples=None,\n",
       "                       min_impurity_decrease=0.0, min_impurity_split=None,\n",
       "                       min_samples_leaf=1, min_samples_split=2,\n",
       "                       min_weight_fraction_leaf=0.0, n_estimators=400,\n",
       "                       n_jobs=None, oob_score=False, random_state=None,\n",
       "                       verbose=0, warm_start=False)"
      ]
     },
     "execution_count": 67,
     "metadata": {},
     "output_type": "execute_result"
    }
   ],
   "source": [
    "random_forest.fit(X_train,y_train)"
   ]
  },
  {
   "cell_type": "code",
   "execution_count": 68,
   "metadata": {},
   "outputs": [],
   "source": [
    "Y_pred_rf = random_forest.predict(X_test)"
   ]
  },
  {
   "cell_type": "code",
   "execution_count": 69,
   "metadata": {},
   "outputs": [],
   "source": [
    "cm_rf = confusion_matrix(y_test,Y_pred_rf)"
   ]
  },
  {
   "cell_type": "code",
   "execution_count": 70,
   "metadata": {},
   "outputs": [
    {
     "name": "stdout",
     "output_type": "stream",
     "text": [
      "Acuracia Random Forest  72.87%\n",
      "Precião média Random Forest  63.52%\n",
      "F1 Random Forest  67.76%\n",
      "Recall Random Forest  62.3%\n",
      "ROC Random Forest  72.05%\n"
     ]
    }
   ],
   "source": [
    "acc_score_rf = accuracy_score(y_test,Y_pred_rf)\n",
    "f1_score_rf = f1_score(y_test,Y_pred_rf)\n",
    "precisao_rf = average_precision_score(y_test,Y_pred_rf)\n",
    "recall_rf = recall_score(y_test,Y_pred_rf)\n",
    "roc_rf = roc_auc_score(y_test,Y_pred_rf,multi_class='ovo')\n",
    "print('Acuracia Random Forest ',round(acc_score_rf*100,2).astype(str)+'%')\n",
    "print('Precião média Random Forest ',round(precisao_rf*100,2).astype(str)+'%')\n",
    "print('F1 Random Forest ',round(f1_score_rf*100,2).astype(str)+'%')\n",
    "print('Recall Random Forest ',round(recall_rf*100,2).astype(str)+'%')\n",
    "print('ROC Random Forest ',round(roc_rf*100,2).astype(str)+'%')"
   ]
  },
  {
   "cell_type": "code",
   "execution_count": 71,
   "metadata": {},
   "outputs": [],
   "source": [
    "accuracy.append(acc_score_rf)\n",
    "precision.append(precisao_rf)\n",
    "recall.append(recall_rf)\n",
    "f1.append(f1_score_rf)\n",
    "roc.append(roc_rf)"
   ]
  },
  {
   "cell_type": "code",
   "execution_count": 72,
   "metadata": {},
   "outputs": [
    {
     "data": {
      "text/plain": [
       "[Text(0, 0.5, 'B'), Text(0, 1.5, 'M')]"
      ]
     },
     "execution_count": 72,
     "metadata": {},
     "output_type": "execute_result"
    },
    {
     "data": {
      "image/png": "[encoded data removed]",
      "text/plain": [
       "<Figure size 720x432 with 2 Axes>"
      ]
     },
     "metadata": {
      "needs_background": "light"
     },
     "output_type": "display_data"
    }
   ],
   "source": [
    "fig, ax = plt.subplots(figsize=(10,6))\n",
    "sns.heatmap(cm_rf, ax=ax, annot=True, cmap=plt.cm.copper)\n",
    "ax.set_title(\"Random Forest \\n Matriz de Confusão\", fontsize=14)\n",
    "ax.set_xticklabels(['B', 'M'], fontsize=14, rotation=0)\n",
    "ax.set_yticklabels(['B', 'M'], fontsize=14, rotation=360)"
   ]
  },
  {
   "cell_type": "markdown",
   "metadata": {},
   "source": [
    "# Gradient Boost Classifier"
   ]
  },
  {
   "cell_type": "code",
   "execution_count": 73,
   "metadata": {},
   "outputs": [
    {
     "name": "stdout",
     "output_type": "stream",
     "text": [
      "Gradient Boost Classifier\n",
      "Best Estimator\n",
      "GradientBoostingClassifier(ccp_alpha=0.0, criterion='friedman_mse', init=None,\n",
      "                           learning_rate=0.1, loss='deviance', max_depth=4,\n",
      "                           max_features=None, max_leaf_nodes=None,\n",
      "                           min_impurity_decrease=0.0, min_impurity_split=None,\n",
      "                           min_samples_leaf=1, min_samples_split=2,\n",
      "                           min_weight_fraction_leaf=0.0, n_estimators=70,\n",
      "                           n_iter_no_change=None, presort='deprecated',\n",
      "                           random_state=None, subsample=1.0, tol=0.0001,\n",
      "                           validation_fraction=0.1, verbose=0,\n",
      "                           warm_start=False)\n",
      "Score GradBoost Treino:  79.07%\n",
      "Score GradBoost Teste:  78.89%\n"
     ]
    }
   ],
   "source": [
    "print(\"Gradient Boost Classifier\")\n",
    "grad_params = {'n_estimators' : [50,55,60,65,70],'max_depth' : list(range(3,11,1))}\n",
    "grad = GridSearchCV(GradientBoostingClassifier(), grad_params,n_jobs=8,cv=10,scoring='roc_auc_ovo')\n",
    "grad.fit(X_train, y_train)\n",
    "grad_boost = grad.best_estimator_\n",
    "print(\"Best Estimator\")\n",
    "print(grad_boost)\n",
    "grad_score = cross_val_score(grad_boost, X_train, y_train, cv=10,scoring='roc_auc_ovo')\n",
    "grad_score_teste = cross_val_score(grad_boost, X_test, y_test, cv=10,scoring='roc_auc_ovo')\n",
    "print('Score GradBoost Treino: ', round(grad_score.mean() * 100, 2).astype(str) + '%')\n",
    "print('Score GradBoost Teste: ', round(grad_score_teste.mean() * 100, 2).astype(str) + '%')"
   ]
  },
  {
   "cell_type": "code",
   "execution_count": 74,
   "metadata": {},
   "outputs": [
    {
     "data": {
      "text/plain": [
       "GradientBoostingClassifier(ccp_alpha=0.0, criterion='friedman_mse', init=None,\n",
       "                           learning_rate=0.1, loss='deviance', max_depth=4,\n",
       "                           max_features=None, max_leaf_nodes=None,\n",
       "                           min_impurity_decrease=0.0, min_impurity_split=None,\n",
       "                           min_samples_leaf=1, min_samples_split=2,\n",
       "                           min_weight_fraction_leaf=0.0, n_estimators=70,\n",
       "                           n_iter_no_change=None, presort='deprecated',\n",
       "                           random_state=None, subsample=1.0, tol=0.0001,\n",
       "                           validation_fraction=0.1, verbose=0,\n",
       "                           warm_start=False)"
      ]
     },
     "execution_count": 74,
     "metadata": {},
     "output_type": "execute_result"
    }
   ],
   "source": [
    "grad_boost.fit(X_train, y_train)"
   ]
  },
  {
   "cell_type": "code",
   "execution_count": 75,
   "metadata": {},
   "outputs": [],
   "source": [
    "Y_pred_gb = grad_boost.predict(X_test)"
   ]
  },
  {
   "cell_type": "code",
   "execution_count": 76,
   "metadata": {},
   "outputs": [],
   "source": [
    "cm_gb = confusion_matrix(y_test,Y_pred_gb)"
   ]
  },
  {
   "cell_type": "code",
   "execution_count": 77,
   "metadata": {},
   "outputs": [
    {
     "name": "stdout",
     "output_type": "stream",
     "text": [
      "Acuracia Gradient Boosting  72.76%\n",
      "Precião média Gradient Boosting   63.32%\n",
      "F1 Gradient Boosting   68.04%\n",
      "Recall Gradient Boosting   63.35%\n",
      "ROC Gradient Boosting  72.03%\n"
     ]
    }
   ],
   "source": [
    "acc_score_gb = accuracy_score(y_test,Y_pred_gb)\n",
    "f1_score_gb = f1_score(y_test,Y_pred_gb)\n",
    "precisao_gb = average_precision_score(y_test,Y_pred_gb)\n",
    "recall_gb = recall_score(y_test,Y_pred_gb)\n",
    "roc_gb = roc_auc_score(y_test,Y_pred_gb,multi_class='ovo')\n",
    "print('Acuracia Gradient Boosting ',round(acc_score_gb*100,2).astype(str)+'%')\n",
    "print('Precião média Gradient Boosting  ',round(precisao_gb*100,2).astype(str)+'%')\n",
    "print('F1 Gradient Boosting  ',round(f1_score_gb*100,2).astype(str)+'%')\n",
    "print('Recall Gradient Boosting  ',round(recall_gb*100,2).astype(str)+'%')\n",
    "print('ROC Gradient Boosting ',round(roc_gb*100,2).astype(str)+'%')"
   ]
  },
  {
   "cell_type": "code",
   "execution_count": 78,
   "metadata": {},
   "outputs": [],
   "source": [
    "accuracy.append(acc_score_gb)\n",
    "precision.append(precisao_gb)\n",
    "recall.append(recall_gb)\n",
    "f1.append(f1_score_gb)\n",
    "roc.append(roc_gb)"
   ]
  },
  {
   "cell_type": "code",
   "execution_count": 79,
   "metadata": {},
   "outputs": [
    {
     "data": {
      "text/plain": [
       "[Text(0, 0.5, 'B'), Text(0, 1.5, 'M')]"
      ]
     },
     "execution_count": 79,
     "metadata": {},
     "output_type": "execute_result"
    },
    {
     "data": {
      "image/png": "[encoded data removed]",
      "text/plain": [
       "<Figure size 720x432 with 2 Axes>"
      ]
     },
     "metadata": {
      "needs_background": "light"
     },
     "output_type": "display_data"
    }
   ],
   "source": [
    "fig, ax = plt.subplots(figsize=(10,6))\n",
    "sns.heatmap(cm_gb, ax=ax, annot=True, cmap=plt.cm.copper)\n",
    "ax.set_title(\"Gradient Boosting  \\n Matriz de Confusão\", fontsize=14)\n",
    "ax.set_xticklabels(['B', 'M'], fontsize=14, rotation=0)\n",
    "ax.set_yticklabels(['B', 'M'], fontsize=14, rotation=360)"
   ]
  },
  {
   "cell_type": "code",
   "execution_count": 80,
   "metadata": {},
   "outputs": [],
   "source": [
    "resultados = [log_reg_score,knears_score,ada_score,forest_score,grad_score]\n",
    "resultados_teste = [log_reg_score_teste,knears_score_teste,ada_score_teste,forest_score_teste,grad_score_teste]\n",
    "nome_modelo = [\"Logistic Regression\",\"KNN\",\"AdaBoost\",\"RFC\",\"GradBoost\"]"
   ]
  },
  {
   "cell_type": "code",
   "execution_count": 81,
   "metadata": {},
   "outputs": [
    {
     "data": {
      "image/png": "[encoded data removed]",
      "text/plain": [
       "<Figure size 720x360 with 1 Axes>"
      ]
     },
     "metadata": {
      "needs_background": "light"
     },
     "output_type": "display_data"
    }
   ],
   "source": [
    "fig,ax=plt.subplots(figsize=(10,5))\n",
    "ax.boxplot(resultados)\n",
    "ax.set_xticklabels(nome_modelo)\n",
    "plt.tight_layout()"
   ]
  },
  {
   "cell_type": "code",
   "execution_count": 82,
   "metadata": {},
   "outputs": [
    {
     "data": {
      "image/png": "[encoded data removed]",
      "text/plain": [
       "<Figure size 720x360 with 1 Axes>"
      ]
     },
     "metadata": {
      "needs_background": "light"
     },
     "output_type": "display_data"
    }
   ],
   "source": [
    "fig,ax=plt.subplots(figsize=(10,5))\n",
    "ax.boxplot(resultados_teste)\n",
    "ax.set_xticklabels(nome_modelo)\n",
    "plt.tight_layout()"
   ]
  },
  {
   "cell_type": "markdown",
   "metadata": {},
   "source": [
    "# Deep Learning Model"
   ]
  },
  {
   "cell_type": "code",
   "execution_count": 83,
   "metadata": {},
   "outputs": [],
   "source": [
    "n_inputs = X_train.shape[1]"
   ]
  },
  {
   "cell_type": "code",
   "execution_count": 84,
   "metadata": {},
   "outputs": [],
   "source": [
    "modelo = Sequential()\n",
    "modelo.add(Dense(128, input_shape=(n_inputs, ), activation='relu', kernel_initializer='glorot_uniform',bias_initializer='zeros'))\n",
    "modelo.add(BatchNormalization())\n",
    "modelo.add(Dense(256, activation='relu', kernel_initializer='glorot_uniform',bias_initializer='zeros'))\n",
    "modelo.add(BatchNormalization())\n",
    "modelo.add(Dropout(0.5))\n",
    "modelo.add(Dense(512, activation='relu', kernel_initializer='glorot_uniform',bias_initializer='zeros'))\n",
    "modelo.add(BatchNormalization())\n",
    "modelo.add(Dense(512, activation='relu', kernel_initializer='glorot_uniform',bias_initializer='zeros'))\n",
    "modelo.add(BatchNormalization())\n",
    "modelo.add(Dropout(0.5))\n",
    "modelo.add(Dense(256, activation='relu', kernel_initializer='glorot_uniform',bias_initializer='zeros'))\n",
    "modelo.add(BatchNormalization())\n",
    "modelo.add(Dense(128, activation='relu', kernel_initializer='glorot_uniform',bias_initializer='zeros'))\n",
    "modelo.add(BatchNormalization())\n",
    "modelo.add(Dropout(0.5))\n",
    "modelo.add(Dense(2, activation='softmax', kernel_initializer='glorot_uniform',bias_initializer='zeros'))"
   ]
  },
  {
   "cell_type": "code",
   "execution_count": 85,
   "metadata": {},
   "outputs": [],
   "source": [
    "reduce_lr = ReduceLROnPlateau(monitor='val_accuracy', patience=3, verbose=1, factor=0.5, mode='auto', min_delta=0.0001)\n",
    "es = EarlyStopping(monitor='val_loss', mode='min', verbose=1, patience=50)\n",
    "callbacks_list = [reduce_lr,es]\n",
    "bsize = 2000"
   ]
  },
  {
   "cell_type": "code",
   "execution_count": 86,
   "metadata": {},
   "outputs": [
    {
     "name": "stdout",
     "output_type": "stream",
     "text": [
      "Train on 48346 samples, validate on 12087 samples\n",
      "Epoch 1/200\n",
      " - 3s - loss: 0.8108 - accuracy: 0.5938 - val_loss: 2.9507 - val_accuracy: 0.4576\n",
      "Epoch 2/200\n",
      " - 2s - loss: 0.6006 - accuracy: 0.6869 - val_loss: 4.1340 - val_accuracy: 0.4576\n",
      "Epoch 3/200\n",
      " - 2s - loss: 0.5743 - accuracy: 0.7126 - val_loss: 1.8460 - val_accuracy: 0.4614\n",
      "Epoch 4/200\n",
      " - 2s - loss: 0.5687 - accuracy: 0.7164 - val_loss: 0.7417 - val_accuracy: 0.5207\n",
      "Epoch 5/200\n",
      " - 2s - loss: 0.5638 - accuracy: 0.7192 - val_loss: 0.7449 - val_accuracy: 0.5313\n",
      "Epoch 6/200\n",
      " - 2s - loss: 0.5614 - accuracy: 0.7209 - val_loss: 0.9227 - val_accuracy: 0.5013\n",
      "Epoch 7/200\n",
      " - 2s - loss: 0.5624 - accuracy: 0.7209 - val_loss: 0.6556 - val_accuracy: 0.6339\n",
      "Epoch 8/200\n",
      " - 2s - loss: 0.5600 - accuracy: 0.7206 - val_loss: 0.7795 - val_accuracy: 0.5695\n",
      "Epoch 9/200\n",
      " - 2s - loss: 0.5593 - accuracy: 0.7224 - val_loss: 0.7170 - val_accuracy: 0.5632\n",
      "Epoch 10/200\n",
      " - 2s - loss: 0.5597 - accuracy: 0.7228 - val_loss: 1.0126 - val_accuracy: 0.5166\n",
      "\n",
      "Epoch 00010: ReduceLROnPlateau reducing learning rate to 0.004999999888241291.\n",
      "Epoch 11/200\n",
      " - 2s - loss: 0.5587 - accuracy: 0.7241 - val_loss: 0.8632 - val_accuracy: 0.5360\n",
      "Epoch 12/200\n",
      " - 2s - loss: 0.5541 - accuracy: 0.7259 - val_loss: 0.7375 - val_accuracy: 0.5904\n",
      "Epoch 13/200\n",
      " - 2s - loss: 0.5545 - accuracy: 0.7251 - val_loss: 0.6496 - val_accuracy: 0.6336\n",
      "\n",
      "Epoch 00013: ReduceLROnPlateau reducing learning rate to 0.0024999999441206455.\n",
      "Epoch 14/200\n",
      " - 2s - loss: 0.5542 - accuracy: 0.7252 - val_loss: 0.5584 - val_accuracy: 0.7212\n",
      "Epoch 15/200\n",
      " - 2s - loss: 0.5544 - accuracy: 0.7246 - val_loss: 0.5589 - val_accuracy: 0.7179\n",
      "Epoch 16/200\n",
      " - 2s - loss: 0.5538 - accuracy: 0.7260 - val_loss: 0.5779 - val_accuracy: 0.6965\n",
      "Epoch 17/200\n",
      " - 2s - loss: 0.5534 - accuracy: 0.7265 - val_loss: 0.5684 - val_accuracy: 0.7118\n",
      "\n",
      "Epoch 00017: ReduceLROnPlateau reducing learning rate to 0.0012499999720603228.\n",
      "Epoch 18/200\n",
      " - 2s - loss: 0.5524 - accuracy: 0.7259 - val_loss: 0.5587 - val_accuracy: 0.7217\n",
      "Epoch 19/200\n",
      " - 2s - loss: 0.5517 - accuracy: 0.7267 - val_loss: 0.5576 - val_accuracy: 0.7232\n",
      "Epoch 20/200\n",
      " - 2s - loss: 0.5520 - accuracy: 0.7274 - val_loss: 0.5563 - val_accuracy: 0.7247\n",
      "Epoch 21/200\n",
      " - 2s - loss: 0.5518 - accuracy: 0.7265 - val_loss: 0.5498 - val_accuracy: 0.7272\n",
      "Epoch 22/200\n",
      " - 2s - loss: 0.5516 - accuracy: 0.7280 - val_loss: 0.5565 - val_accuracy: 0.7181\n",
      "Epoch 23/200\n",
      " - 2s - loss: 0.5511 - accuracy: 0.7266 - val_loss: 0.5484 - val_accuracy: 0.7262\n",
      "Epoch 24/200\n",
      " - 2s - loss: 0.5513 - accuracy: 0.7280 - val_loss: 0.5480 - val_accuracy: 0.7267\n",
      "\n",
      "Epoch 00024: ReduceLROnPlateau reducing learning rate to 0.0006249999860301614.\n",
      "Epoch 25/200\n",
      " - 2s - loss: 0.5514 - accuracy: 0.7276 - val_loss: 0.5486 - val_accuracy: 0.7257\n",
      "Epoch 26/200\n",
      " - 2s - loss: 0.5511 - accuracy: 0.7274 - val_loss: 0.5474 - val_accuracy: 0.7271\n",
      "Epoch 27/200\n",
      " - 2s - loss: 0.5513 - accuracy: 0.7280 - val_loss: 0.5511 - val_accuracy: 0.7266\n",
      "\n",
      "Epoch 00027: ReduceLROnPlateau reducing learning rate to 0.0003124999930150807.\n",
      "Epoch 28/200\n",
      " - 2s - loss: 0.5510 - accuracy: 0.7277 - val_loss: 0.5536 - val_accuracy: 0.7221\n",
      "Epoch 29/200\n",
      " - 2s - loss: 0.5507 - accuracy: 0.7284 - val_loss: 0.5475 - val_accuracy: 0.7257\n",
      "Epoch 30/200\n",
      " - 2s - loss: 0.5507 - accuracy: 0.7276 - val_loss: 0.5480 - val_accuracy: 0.7254\n",
      "\n",
      "Epoch 00030: ReduceLROnPlateau reducing learning rate to 0.00015624999650754035.\n",
      "Epoch 31/200\n",
      " - 2s - loss: 0.5504 - accuracy: 0.7272 - val_loss: 0.5491 - val_accuracy: 0.7232\n",
      "Epoch 32/200\n",
      " - 2s - loss: 0.5506 - accuracy: 0.7285 - val_loss: 0.5487 - val_accuracy: 0.7225\n",
      "Epoch 33/200\n",
      " - 2s - loss: 0.5511 - accuracy: 0.7272 - val_loss: 0.5473 - val_accuracy: 0.7266\n",
      "\n",
      "Epoch 00033: ReduceLROnPlateau reducing learning rate to 7.812499825377017e-05.\n",
      "Epoch 34/200\n",
      " - 2s - loss: 0.5506 - accuracy: 0.7280 - val_loss: 0.5472 - val_accuracy: 0.7270\n",
      "Epoch 35/200\n",
      " - 2s - loss: 0.5504 - accuracy: 0.7279 - val_loss: 0.5481 - val_accuracy: 0.7225\n",
      "Epoch 36/200\n",
      " - 2s - loss: 0.5510 - accuracy: 0.7283 - val_loss: 0.5482 - val_accuracy: 0.7228\n",
      "\n",
      "Epoch 00036: ReduceLROnPlateau reducing learning rate to 3.9062499126885086e-05.\n",
      "Epoch 37/200\n",
      " - 2s - loss: 0.5509 - accuracy: 0.7273 - val_loss: 0.5480 - val_accuracy: 0.7231\n",
      "Epoch 38/200\n",
      " - 2s - loss: 0.5497 - accuracy: 0.7269 - val_loss: 0.5476 - val_accuracy: 0.7249\n",
      "Epoch 39/200\n",
      " - 2s - loss: 0.5495 - accuracy: 0.7284 - val_loss: 0.5473 - val_accuracy: 0.7269\n",
      "\n",
      "Epoch 00039: ReduceLROnPlateau reducing learning rate to 1.9531249563442543e-05.\n",
      "Epoch 40/200\n",
      " - 2s - loss: 0.5504 - accuracy: 0.7271 - val_loss: 0.5473 - val_accuracy: 0.7263\n",
      "Epoch 41/200\n",
      " - 2s - loss: 0.5502 - accuracy: 0.7281 - val_loss: 0.5474 - val_accuracy: 0.7252\n",
      "Epoch 42/200\n",
      " - 2s - loss: 0.5504 - accuracy: 0.7285 - val_loss: 0.5474 - val_accuracy: 0.7257\n",
      "\n",
      "Epoch 00042: ReduceLROnPlateau reducing learning rate to 9.765624781721272e-06.\n",
      "Epoch 43/200\n",
      " - 2s - loss: 0.5503 - accuracy: 0.7289 - val_loss: 0.5473 - val_accuracy: 0.7272\n",
      "Epoch 44/200\n",
      " - 2s - loss: 0.5504 - accuracy: 0.7265 - val_loss: 0.5474 - val_accuracy: 0.7266\n",
      "Epoch 45/200\n",
      " - 2s - loss: 0.5499 - accuracy: 0.7277 - val_loss: 0.5474 - val_accuracy: 0.7267\n",
      "\n",
      "Epoch 00045: ReduceLROnPlateau reducing learning rate to 4.882812390860636e-06.\n",
      "Epoch 46/200\n",
      " - 2s - loss: 0.5506 - accuracy: 0.7275 - val_loss: 0.5474 - val_accuracy: 0.7272\n",
      "Epoch 47/200\n",
      " - 2s - loss: 0.5504 - accuracy: 0.7281 - val_loss: 0.5474 - val_accuracy: 0.7267\n",
      "Epoch 48/200\n",
      " - 2s - loss: 0.5509 - accuracy: 0.7277 - val_loss: 0.5474 - val_accuracy: 0.7271\n",
      "\n",
      "Epoch 00048: ReduceLROnPlateau reducing learning rate to 2.441406195430318e-06.\n",
      "Epoch 49/200\n",
      " - 2s - loss: 0.5504 - accuracy: 0.7278 - val_loss: 0.5474 - val_accuracy: 0.7265\n",
      "Epoch 50/200\n",
      " - 2s - loss: 0.5508 - accuracy: 0.7274 - val_loss: 0.5474 - val_accuracy: 0.7266\n",
      "Epoch 51/200\n",
      " - 2s - loss: 0.5506 - accuracy: 0.7274 - val_loss: 0.5474 - val_accuracy: 0.7266\n",
      "\n",
      "Epoch 00051: ReduceLROnPlateau reducing learning rate to 1.220703097715159e-06.\n",
      "Epoch 52/200\n",
      " - 2s - loss: 0.5508 - accuracy: 0.7264 - val_loss: 0.5474 - val_accuracy: 0.7268\n",
      "Epoch 53/200\n",
      " - 2s - loss: 0.5501 - accuracy: 0.7284 - val_loss: 0.5474 - val_accuracy: 0.7268\n",
      "Epoch 54/200\n",
      " - 2s - loss: 0.5502 - accuracy: 0.7278 - val_loss: 0.5474 - val_accuracy: 0.7268\n",
      "\n",
      "Epoch 00054: ReduceLROnPlateau reducing learning rate to 6.103515488575795e-07.\n",
      "Epoch 55/200\n",
      " - 2s - loss: 0.5502 - accuracy: 0.7283 - val_loss: 0.5474 - val_accuracy: 0.7267\n",
      "Epoch 56/200\n",
      " - 2s - loss: 0.5502 - accuracy: 0.7279 - val_loss: 0.5474 - val_accuracy: 0.7268\n",
      "Epoch 57/200\n",
      " - 2s - loss: 0.5506 - accuracy: 0.7273 - val_loss: 0.5474 - val_accuracy: 0.7267\n",
      "\n",
      "Epoch 00057: ReduceLROnPlateau reducing learning rate to 3.0517577442878974e-07.\n",
      "Epoch 58/200\n",
      " - 2s - loss: 0.5508 - accuracy: 0.7289 - val_loss: 0.5474 - val_accuracy: 0.7267\n",
      "Epoch 59/200\n",
      " - 2s - loss: 0.5503 - accuracy: 0.7279 - val_loss: 0.5474 - val_accuracy: 0.7267\n",
      "Epoch 60/200\n",
      " - 2s - loss: 0.5491 - accuracy: 0.7294 - val_loss: 0.5474 - val_accuracy: 0.7266\n",
      "\n",
      "Epoch 00060: ReduceLROnPlateau reducing learning rate to 1.5258788721439487e-07.\n",
      "Epoch 61/200\n",
      " - 2s - loss: 0.5506 - accuracy: 0.7289 - val_loss: 0.5474 - val_accuracy: 0.7268\n",
      "Epoch 62/200\n",
      " - 2s - loss: 0.5499 - accuracy: 0.7283 - val_loss: 0.5474 - val_accuracy: 0.7267\n",
      "Epoch 63/200\n",
      " - 2s - loss: 0.5502 - accuracy: 0.7274 - val_loss: 0.5474 - val_accuracy: 0.7269\n",
      "\n",
      "Epoch 00063: ReduceLROnPlateau reducing learning rate to 7.629394360719743e-08.\n",
      "Epoch 64/200\n",
      " - 2s - loss: 0.5503 - accuracy: 0.7285 - val_loss: 0.5474 - val_accuracy: 0.7269\n",
      "Epoch 65/200\n",
      " - 2s - loss: 0.5499 - accuracy: 0.7286 - val_loss: 0.5474 - val_accuracy: 0.7267\n",
      "Epoch 66/200\n",
      " - 2s - loss: 0.5502 - accuracy: 0.7280 - val_loss: 0.5474 - val_accuracy: 0.7266\n",
      "\n",
      "Epoch 00066: ReduceLROnPlateau reducing learning rate to 3.814697180359872e-08.\n",
      "Epoch 67/200\n",
      " - 2s - loss: 0.5503 - accuracy: 0.7287 - val_loss: 0.5474 - val_accuracy: 0.7267\n",
      "Epoch 68/200\n",
      " - 2s - loss: 0.5508 - accuracy: 0.7275 - val_loss: 0.5474 - val_accuracy: 0.7267\n",
      "Epoch 69/200\n",
      " - 2s - loss: 0.5502 - accuracy: 0.7286 - val_loss: 0.5474 - val_accuracy: 0.7266\n",
      "\n",
      "Epoch 00069: ReduceLROnPlateau reducing learning rate to 1.907348590179936e-08.\n",
      "Epoch 70/200\n",
      " - 2s - loss: 0.5509 - accuracy: 0.7284 - val_loss: 0.5474 - val_accuracy: 0.7267\n"
     ]
    },
    {
     "name": "stdout",
     "output_type": "stream",
     "text": [
      "Epoch 71/200\n",
      " - 2s - loss: 0.5507 - accuracy: 0.7275 - val_loss: 0.5474 - val_accuracy: 0.7267\n",
      "Epoch 72/200\n",
      " - 2s - loss: 0.5506 - accuracy: 0.7285 - val_loss: 0.5474 - val_accuracy: 0.7267\n",
      "\n",
      "Epoch 00072: ReduceLROnPlateau reducing learning rate to 9.53674295089968e-09.\n",
      "Epoch 73/200\n",
      " - 2s - loss: 0.5508 - accuracy: 0.7306 - val_loss: 0.5474 - val_accuracy: 0.7266\n",
      "Epoch 74/200\n",
      " - 2s - loss: 0.5499 - accuracy: 0.7286 - val_loss: 0.5474 - val_accuracy: 0.7267\n",
      "Epoch 75/200\n",
      " - 2s - loss: 0.5498 - accuracy: 0.7279 - val_loss: 0.5474 - val_accuracy: 0.7268\n",
      "\n",
      "Epoch 00075: ReduceLROnPlateau reducing learning rate to 4.76837147544984e-09.\n",
      "Epoch 76/200\n",
      " - 2s - loss: 0.5510 - accuracy: 0.7277 - val_loss: 0.5474 - val_accuracy: 0.7267\n",
      "Epoch 77/200\n",
      " - 2s - loss: 0.5504 - accuracy: 0.7280 - val_loss: 0.5474 - val_accuracy: 0.7267\n",
      "Epoch 78/200\n",
      " - 2s - loss: 0.5500 - accuracy: 0.7287 - val_loss: 0.5474 - val_accuracy: 0.7267\n",
      "\n",
      "Epoch 00078: ReduceLROnPlateau reducing learning rate to 2.38418573772492e-09.\n",
      "Epoch 79/200\n",
      " - 2s - loss: 0.5508 - accuracy: 0.7282 - val_loss: 0.5474 - val_accuracy: 0.7267\n",
      "Epoch 80/200\n",
      " - 2s - loss: 0.5497 - accuracy: 0.7286 - val_loss: 0.5474 - val_accuracy: 0.7267\n",
      "Epoch 81/200\n",
      " - 2s - loss: 0.5505 - accuracy: 0.7291 - val_loss: 0.5474 - val_accuracy: 0.7266\n",
      "\n",
      "Epoch 00081: ReduceLROnPlateau reducing learning rate to 1.19209286886246e-09.\n",
      "Epoch 82/200\n",
      " - 2s - loss: 0.5494 - accuracy: 0.7281 - val_loss: 0.5474 - val_accuracy: 0.7267\n",
      "Epoch 83/200\n",
      " - 2s - loss: 0.5506 - accuracy: 0.7276 - val_loss: 0.5474 - val_accuracy: 0.7266\n",
      "Epoch 84/200\n",
      " - 2s - loss: 0.5502 - accuracy: 0.7274 - val_loss: 0.5474 - val_accuracy: 0.7266\n",
      "\n",
      "Epoch 00084: ReduceLROnPlateau reducing learning rate to 5.9604643443123e-10.\n",
      "Epoch 00084: early stopping\n"
     ]
    },
    {
     "data": {
      "text/plain": [
       "<keras.callbacks.callbacks.History at 0x1a44f844d0>"
      ]
     },
     "execution_count": 86,
     "metadata": {},
     "output_type": "execute_result"
    }
   ],
   "source": [
    "modelo.compile(Adam(lr=0.01), loss='sparse_categorical_crossentropy', metrics=['accuracy'])\n",
    "modelo.fit(X_train, y_train, batch_size=bsize, epochs=200, verbose=2, validation_data=(X_test,y_test),callbacks=callbacks_list)"
   ]
  },
  {
   "cell_type": "code",
   "execution_count": 87,
   "metadata": {},
   "outputs": [],
   "source": [
    "Y_pred_keras = modelo.predict_classes(X_test, batch_size=bsize, verbose=0)"
   ]
  },
  {
   "cell_type": "code",
   "execution_count": 88,
   "metadata": {},
   "outputs": [
    {
     "name": "stdout",
     "output_type": "stream",
     "text": [
      "Acuracia Keras  72.66%\n",
      "Precião média Keras   63.21%\n",
      "F1 Keras   67.91%\n",
      "Recall Keras   63.21%\n",
      "ROC Keras  71.93%\n"
     ]
    }
   ],
   "source": [
    "cm_keras = confusion_matrix(y_test,Y_pred_keras)\n",
    "acc_score_keras = accuracy_score(y_test,Y_pred_keras)\n",
    "f1_score_keras = f1_score(y_test,Y_pred_keras)\n",
    "precisao_keras = average_precision_score(y_test,Y_pred_keras)\n",
    "recall_keras = recall_score(y_test,Y_pred_keras)\n",
    "roc_keras = roc_auc_score(y_test,Y_pred_keras,multi_class='ovo')\n",
    "print('Acuracia Keras ',round(acc_score_keras*100,2).astype(str)+'%')\n",
    "print('Precião média Keras  ',round(precisao_keras*100,2).astype(str)+'%')\n",
    "print('F1 Keras  ',round(f1_score_keras*100,2).astype(str)+'%')\n",
    "print('Recall Keras  ',round(recall_keras*100,2).astype(str)+'%')\n",
    "print('ROC Keras ',round(roc_keras*100,2).astype(str)+'%')"
   ]
  },
  {
   "cell_type": "code",
   "execution_count": 89,
   "metadata": {},
   "outputs": [],
   "source": [
    "accuracy.append(acc_score_keras)\n",
    "precision.append(precisao_keras)\n",
    "recall.append(recall_keras)\n",
    "f1.append(f1_score_keras)\n",
    "roc.append(roc_keras)"
   ]
  },
  {
   "cell_type": "code",
   "execution_count": 90,
   "metadata": {},
   "outputs": [
    {
     "data": {
      "text/plain": [
       "[Text(0, 0.5, 'B'), Text(0, 1.5, 'M')]"
      ]
     },
     "execution_count": 90,
     "metadata": {},
     "output_type": "execute_result"
    },
    {
     "data": {
      "image/png": "[encoded data removed]",
      "text/plain": [
       "<Figure size 720x432 with 2 Axes>"
      ]
     },
     "metadata": {
      "needs_background": "light"
     },
     "output_type": "display_data"
    }
   ],
   "source": [
    "fig, ax = plt.subplots(figsize=(10,6))\n",
    "sns.heatmap(cm_keras, ax=ax, annot=True, cmap=plt.cm.copper)\n",
    "ax.set_title(\"Keras  \\n Matriz de Confusão\", fontsize=14)\n",
    "ax.set_xticklabels(['B', 'M'], fontsize=14, rotation=0)\n",
    "ax.set_yticklabels(['B', 'M'], fontsize=14, rotation=360)"
   ]
  },
  {
   "cell_type": "code",
   "execution_count": 91,
   "metadata": {},
   "outputs": [],
   "source": [
    "nome_modelo = [\"Logistic Regression\",\"KNN\",\"AdaBoost\",\"RFC\",\"GradBoost\",\"Keras\"]\n",
    "dic_metrics = {'Model' : nome_modelo, 'Accuracy' : accuracy, 'Precision' : precision, 'Recall' : recall, 'F1' : f1, 'ROC' : roc}\n",
    "dataframe = pd.DataFrame(dic_metrics)"
   ]
  },
  {
   "cell_type": "code",
   "execution_count": 92,
   "metadata": {},
   "outputs": [],
   "source": [
    "dataframe_sorted =  dataframe.sort_values(by=['ROC','Accuracy','Recall','F1','Precision'],ascending=False).reset_index().drop('index',axis=1)"
   ]
  },
  {
   "cell_type": "code",
   "execution_count": 93,
   "metadata": {},
   "outputs": [
    {
     "data": {
      "text/html": [
       "<div>\n",
       "<style scoped>\n",
       "    .dataframe tbody tr th:only-of-type {\n",
       "        vertical-align: middle;\n",
       "    }\n",
       "\n",
       "    .dataframe tbody tr th {\n",
       "        vertical-align: top;\n",
       "    }\n",
       "\n",
       "    .dataframe thead th {\n",
       "        text-align: right;\n",
       "    }\n",
       "</style>\n",
       "<table border=\"1\" class=\"dataframe\">\n",
       "  <thead>\n",
       "    <tr style=\"text-align: right;\">\n",
       "      <th></th>\n",
       "      <th>Model</th>\n",
       "      <th>Accuracy</th>\n",
       "      <th>Precision</th>\n",
       "      <th>Recall</th>\n",
       "      <th>F1</th>\n",
       "      <th>ROC</th>\n",
       "    </tr>\n",
       "  </thead>\n",
       "  <tbody>\n",
       "    <tr>\n",
       "      <th>0</th>\n",
       "      <td>RFC</td>\n",
       "      <td>0.728717</td>\n",
       "      <td>0.635209</td>\n",
       "      <td>0.623034</td>\n",
       "      <td>0.677613</td>\n",
       "      <td>0.720455</td>\n",
       "    </tr>\n",
       "    <tr>\n",
       "      <th>1</th>\n",
       "      <td>GradBoost</td>\n",
       "      <td>0.727641</td>\n",
       "      <td>0.633177</td>\n",
       "      <td>0.633520</td>\n",
       "      <td>0.680388</td>\n",
       "      <td>0.720284</td>\n",
       "    </tr>\n",
       "    <tr>\n",
       "      <th>2</th>\n",
       "      <td>Keras</td>\n",
       "      <td>0.726648</td>\n",
       "      <td>0.632105</td>\n",
       "      <td>0.632074</td>\n",
       "      <td>0.679099</td>\n",
       "      <td>0.719255</td>\n",
       "    </tr>\n",
       "    <tr>\n",
       "      <th>3</th>\n",
       "      <td>AdaBoost</td>\n",
       "      <td>0.722843</td>\n",
       "      <td>0.630321</td>\n",
       "      <td>0.594287</td>\n",
       "      <td>0.662435</td>\n",
       "      <td>0.712793</td>\n",
       "    </tr>\n",
       "    <tr>\n",
       "      <th>4</th>\n",
       "      <td>Logistic Regression</td>\n",
       "      <td>0.720857</td>\n",
       "      <td>0.626489</td>\n",
       "      <td>0.614175</td>\n",
       "      <td>0.668175</td>\n",
       "      <td>0.712517</td>\n",
       "    </tr>\n",
       "    <tr>\n",
       "      <th>5</th>\n",
       "      <td>KNN</td>\n",
       "      <td>0.668983</td>\n",
       "      <td>0.573132</td>\n",
       "      <td>0.564636</td>\n",
       "      <td>0.609544</td>\n",
       "      <td>0.660826</td>\n",
       "    </tr>\n",
       "  </tbody>\n",
       "</table>\n",
       "</div>"
      ],
      "text/plain": [
       "                 Model  Accuracy  Precision    Recall        F1       ROC\n",
       "0                  RFC  0.728717   0.635209  0.623034  0.677613  0.720455\n",
       "1            GradBoost  0.727641   0.633177  0.633520  0.680388  0.720284\n",
       "2                Keras  0.726648   0.632105  0.632074  0.679099  0.719255\n",
       "3             AdaBoost  0.722843   0.630321  0.594287  0.662435  0.712793\n",
       "4  Logistic Regression  0.720857   0.626489  0.614175  0.668175  0.712517\n",
       "5                  KNN  0.668983   0.573132  0.564636  0.609544  0.660826"
      ]
     },
     "execution_count": 93,
     "metadata": {},
     "output_type": "execute_result"
    }
   ],
   "source": [
    "dataframe_sorted"
   ]
  },
  {
   "cell_type": "code",
   "execution_count": 94,
   "metadata": {},
   "outputs": [],
   "source": [
    "from sklearn.feature_selection import SelectKBest,chi2"
   ]
  },
  {
   "cell_type": "code",
   "execution_count": 95,
   "metadata": {},
   "outputs": [],
   "source": [
    "dados = remover_outlier(dados,'ap_hi','cardio',1)\n",
    "dados = remover_outlier(dados,'ap_lo','cardio',0)\n",
    "dados = remover_outlier(dados,'age','cardio',0)\n",
    "dados = remover_outlier(dados,'height','cardio',0)\n",
    "dados = remover_outlier(dados,'weight','cardio',0)"
   ]
  },
  {
   "cell_type": "code",
   "execution_count": 96,
   "metadata": {},
   "outputs": [],
   "source": [
    "def model_params(model):\n",
    "    if(model == 'logistic_regression'):\n",
    "        modelo = LogisticRegression(max_iter=2000)\n",
    "        modelo_params = {\"penalty\": ['None','l1', 'l2','elasticnet'], 'C': [0.1, 1, 10], \n",
    "            'solver' : ['newton-cg', 'lbfgs', 'liblinear', 'sag', 'saga']}\n",
    "    \n",
    "    elif(model == 'KNN'):\n",
    "        modelo = KNeighborsClassifier()\n",
    "        modelo_params = {\"n_neighbors\": list(range(20,30,1)),'leaf_size' : list(range(5,10,1)),\n",
    "                'algorithm' : ['auto', 'ball_tree', 'kd_tree', 'brute']}\n",
    "    \n",
    "    elif(model == 'AdaBoost'):\n",
    "        modelo = AdaBoostClassifier()\n",
    "        modelo_params = {'n_estimators' : list(range(5,220))}\n",
    "        \n",
    "    elif(model == 'RFC'):\n",
    "        modelo = RandomForestClassifier()\n",
    "        modelo_params = {\"max_depth\": list(range(5,50,1)),\"n_estimators\" : [50,100,150,200,250,300]}\n",
    "        \n",
    "    elif(model == 'GradBoost'):\n",
    "        modelo = GradientBoostingClassifier()\n",
    "        modelo_params = {'n_estimators' : [50,55,60,65,70],'max_depth' : list(range(3,11,1))}\n",
    "    \n",
    "    return modelo,modelo_params"
   ]
  },
  {
   "cell_type": "code",
   "execution_count": 97,
   "metadata": {},
   "outputs": [],
   "source": [
    "def find_best_features(modelo,X,Y,n):\n",
    "    X_treino, X_teste, Y_treino, Y_teste = train_test_split(X, Y, test_size=0.2, random_state=42)\n",
    "    best_features = SelectKBest(chi2, k=n).fit(X_treino, Y_treino)\n",
    "    X_treino = best_features.transform(X_treino)\n",
    "    X_teste = best_features.transform(X_teste)\n",
    "    acc,precision,recall,f1,roc = best_model(modelo,X_treino,Y_treino,X_teste,Y_teste)\n",
    "    \n",
    "    return acc, precision, recall, f1,roc"
   ]
  },
  {
   "cell_type": "code",
   "execution_count": 98,
   "metadata": {},
   "outputs": [],
   "source": [
    "def best_model(model,X_treino_best,Y_treino_best,X_teste,Y_teste):\n",
    "    \n",
    "    modelo, parametros = model_params(model)\n",
    "    grid_log_reg = GridSearchCV(modelo, parametros,n_jobs=8,cv=10,scoring= 'roc_auc_ovo')\n",
    "    grid_log_reg.fit(X_treino_best, Y_treino_best)\n",
    "    logreg = grid_log_reg.best_estimator_\n",
    "    logreg.fit(X_treino_best,Y_treino_best)\n",
    "    Y_pred_Kbest = logreg.predict(X_teste)\n",
    "    acc_kest = accuracy_score(Y_teste,Y_pred_Kbest)\n",
    "    f1_kbest = f1_score(Y_teste,Y_pred_Kbest)\n",
    "    precisao_kbest = average_precision_score(Y_teste,Y_pred_Kbest)\n",
    "    recall_kbest = recall_score(Y_teste,Y_pred_Kbest)\n",
    "    roc_kbest = roc_auc_score(Y_teste,Y_pred_Kbest,multi_class='ovo')\n",
    "    \n",
    "    return acc_kest,precisao_kbest,recall_kbest,f1_kbest,roc_kbest"
   ]
  },
  {
   "cell_type": "code",
   "execution_count": 99,
   "metadata": {},
   "outputs": [],
   "source": [
    "def find_bestn(modelo,X,Y,number):\n",
    "\n",
    "    acc_findbest = []\n",
    "    rec_findbest = []\n",
    "    prec_findbest = []\n",
    "    f1s_findbest= []\n",
    "    roc_findbest= []\n",
    "    n_idex = []\n",
    "\n",
    "    for n in range(5,number):\n",
    "        acuraciax,precisaox,recallx,f1x,rocx = find_best_features(modelo,X,Y,n)\n",
    "        acc_findbest.append(acuraciax)\n",
    "        rec_findbest.append(recallx)\n",
    "        prec_findbest.append(precisaox)\n",
    "        f1s_findbest.append(f1x)\n",
    "        roc_findbest.append(rocx)\n",
    "        n_idex.append(n)\n",
    "        \n",
    "        print(\"N={}, Acc={:0.3f}, Prec={:0.3f}, Rec={:0.3f}, F1={:0.3f}, ROC={:0.3f}\".format(n,acuraciax,precisaox,recallx,f1x,rocx))\n",
    "    \n",
    "    dic_kbest = {\"N\" : n_idex, \"Acuracia\" : acc_findbest, \"Recall\" : rec_findbest, \"Precision\" : prec_findbest, \"F1\" : f1s_findbest, \"ROC\" : roc_findbest}\n",
    "\n",
    "    dataframe_kbest = pd.DataFrame(dic_kbest)\n",
    "    \n",
    "    dataframe_kbest = dataframe_kbest.sort_values(by=['ROC','Acuracia','Recall','F1','Precision'],ascending=False).reset_index()\n",
    "    \n",
    "    best_n = int(dataframe_kbest.iloc[0]['N'])\n",
    "    \n",
    "    return best_n"
   ]
  },
  {
   "cell_type": "code",
   "execution_count": 100,
   "metadata": {},
   "outputs": [],
   "source": [
    "modelos = ['logistic_regression','KNN','AdaBoost','GradBoost']"
   ]
  },
  {
   "cell_type": "code",
   "execution_count": 101,
   "metadata": {},
   "outputs": [],
   "source": [
    "X_notnorm = dados.drop('cardio',axis=1).values\n",
    "Y_notnorm = dados['cardio'].values"
   ]
  },
  {
   "cell_type": "code",
   "execution_count": 102,
   "metadata": {},
   "outputs": [
    {
     "name": "stdout",
     "output_type": "stream",
     "text": [
      "N=5, Acc=0.713, Prec=0.617, Rec=0.611, F1=0.660, ROC=0.705\n",
      "N=6, Acc=0.717, Prec=0.623, Rec=0.605, F1=0.662, ROC=0.708\n",
      "N=7, Acc=0.718, Prec=0.624, Rec=0.605, F1=0.663, ROC=0.709\n",
      "N=8, Acc=0.719, Prec=0.625, Rec=0.606, F1=0.664, ROC=0.710\n",
      "N=9, Acc=0.720, Prec=0.626, Rec=0.613, F1=0.667, ROC=0.712\n",
      "N=10, Acc=0.721, Prec=0.626, Rec=0.613, F1=0.668, ROC=0.712\n",
      "N=11, Acc=0.721, Prec=0.626, Rec=0.615, F1=0.668, ROC=0.713\n",
      "N=12, Acc=0.721, Prec=0.626, Rec=0.614, F1=0.668, ROC=0.712\n",
      "Modelo =  logistic_regression   N =  11\n",
      "N=5, Acc=0.707, Prec=0.611, Rec=0.614, F1=0.657, ROC=0.700\n",
      "N=6, Acc=0.711, Prec=0.616, Rec=0.605, F1=0.657, ROC=0.703\n",
      "N=7, Acc=0.711, Prec=0.616, Rec=0.603, F1=0.656, ROC=0.703\n",
      "N=8, Acc=0.712, Prec=0.616, Rec=0.605, F1=0.658, ROC=0.703\n",
      "N=9, Acc=0.712, Prec=0.617, Rec=0.605, F1=0.658, ROC=0.704\n",
      "N=10, Acc=0.713, Prec=0.618, Rec=0.605, F1=0.658, ROC=0.704\n",
      "N=11, Acc=0.711, Prec=0.615, Rec=0.607, F1=0.657, ROC=0.702\n",
      "N=12, Acc=0.712, Prec=0.617, Rec=0.606, F1=0.658, ROC=0.704\n",
      "Modelo =  KNN   N =  10\n",
      "N=5, Acc=0.713, Prec=0.620, Rec=0.578, F1=0.649, ROC=0.703\n",
      "N=6, Acc=0.720, Prec=0.627, Rec=0.587, F1=0.657, ROC=0.709\n",
      "N=7, Acc=0.722, Prec=0.629, Rec=0.594, F1=0.661, ROC=0.712\n",
      "N=8, Acc=0.722, Prec=0.629, Rec=0.590, F1=0.660, ROC=0.711\n",
      "N=9, Acc=0.723, Prec=0.631, Rec=0.593, F1=0.662, ROC=0.713\n",
      "N=10, Acc=0.724, Prec=0.632, Rec=0.597, F1=0.664, ROC=0.714\n",
      "N=11, Acc=0.722, Prec=0.630, Rec=0.592, F1=0.661, ROC=0.712\n",
      "N=12, Acc=0.723, Prec=0.630, Rec=0.594, F1=0.662, ROC=0.713\n",
      "Modelo =  AdaBoost   N =  10\n",
      "N=5, Acc=0.717, Prec=0.622, Rec=0.628, F1=0.670, ROC=0.710\n",
      "N=6, Acc=0.722, Prec=0.627, Rec=0.626, F1=0.673, ROC=0.715\n",
      "N=7, Acc=0.723, Prec=0.629, Rec=0.621, F1=0.672, ROC=0.715\n",
      "N=8, Acc=0.724, Prec=0.630, Rec=0.623, F1=0.674, ROC=0.716\n",
      "N=9, Acc=0.728, Prec=0.633, Rec=0.633, F1=0.680, ROC=0.720\n",
      "N=10, Acc=0.727, Prec=0.633, Rec=0.636, F1=0.681, ROC=0.720\n",
      "N=11, Acc=0.727, Prec=0.632, Rec=0.636, F1=0.681, ROC=0.720\n",
      "N=12, Acc=0.728, Prec=0.633, Rec=0.634, F1=0.680, ROC=0.720\n",
      "Modelo =  GradBoost   N =  9\n"
     ]
    }
   ],
   "source": [
    "dic_bestn = {}\n",
    "\n",
    "for models in modelos:\n",
    "    bestn = find_bestn(models,X_notnorm,Y_notnorm,num_colunas)\n",
    "    dic_bestn[models] = bestn\n",
    "    print(\"Modelo = \",models,\" \",\"N = \",bestn)"
   ]
  },
  {
   "cell_type": "code",
   "execution_count": 103,
   "metadata": {},
   "outputs": [
    {
     "data": {
      "text/plain": [
       "{'logistic_regression': 11, 'KNN': 10, 'AdaBoost': 10, 'GradBoost': 9}"
      ]
     },
     "execution_count": 103,
     "metadata": {},
     "output_type": "execute_result"
    }
   ],
   "source": [
    "dic_bestn"
   ]
  }
 ],
 "metadata": {
  "kernelspec": {
   "display_name": "Python 3",
   "language": "python",
   "name": "python3"
  },
  "language_info": {
   "codemirror_mode": {
    "name": "ipython",
    "version": 3
   },
   "file_extension": ".py",
   "mimetype": "text/x-python",
   "name": "python",
   "nbconvert_exporter": "python",
   "pygments_lexer": "ipython3",
   "version": "3.7.6"
  }
 },
 "nbformat": 4,
 "nbformat_minor": 4
}
